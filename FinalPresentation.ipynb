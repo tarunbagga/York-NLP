{
 "cells": [
  {
   "cell_type": "markdown",
   "metadata": {},
   "source": [
    "\n",
    "<h1 align=\"center\">Capstone Project I</h1>\n",
    "\n",
    "# Introduction #\n",
    "**Problem Statement**: Classifying Amazon reviews based on customer ratings using NLP"
   ]
  },
  {
   "cell_type": "markdown",
   "metadata": {},
   "source": [
    "<h4 align=\"center\">Impact</h4>\n",
    "\n",
    "Reviews provide objective feedback to a product and are therefore inherently useful for consumers. These ratings are often summarized by a numerical rating, or the number of stars. Of course there is more value in the actual text itself than the quantified stars. And at times, the given rating does not truly convey the experience of the product – the heart of the feedback is actually in the text itself. The goal therefore is to build a classifier that would understand the essence of a piece of review and assign it the most appropriate rating based on the meaning of the text.\n",
    "\n",
    "<h4 align=\"center\">Background</h4>\n",
    "\n",
    "Though product ratings on Amazon are aggregated from all the reviews by every customer, each individual rating is actually only an integer that ranges from one star to five stars. This reduces our predictions to discrete classes totaling five possibilities. Therefore what we'll have is a supervised, multi-class classifier with the actual review text as the core predictor.\n",
    "\n",
    "This study is an exploration of Natural Language Processing (NLP). The goal of predicting the star rating given a piece of text will take on different NLP topics including word embedding, topic modeling, and dimension reduction. From there, we'll arrive at a final dataframe and we'll be employing different machine learning techniques in order to come up with the best approach (i.e. most accurate estimator) for our classifier.\n",
    "\n",
    "<h4 align=\"center\" id=\"Datasets\">Datasets</h4>\n",
    "\n",
    "The [Amazon dataset](http://jmcauley.ucsd.edu/data/amazon/index.html) contains the customer reviews for all listed *Electronics* products spanning from May 1996 up to July 2014. There are a total of 1,689,188 reviews by a total of 192,403 customers on 63,001 unique products. The data dictionary is as follows:\n",
    "\n",
    "*  **asin** - Unique ID of the product being reviewed, *string*\n",
    "*  **helpful** - A list with two elements: the number of users that voted *helpful*, and the total number of users that voted on the review (including the *not helpful* votes), *list*\n",
    "*  **overall** - The reviewer's rating of the product, *int64*\n",
    "*  **reviewText** - The review text itself, *string*\n",
    "*  **reviewerID** - Unique ID of the reviewer, *string*\n",
    "*  **reviewerName** - Specified name of the reviewer, *string*\n",
    "*  **summary** - Headline summary of the review, *string*\n",
    "*  **unixReviewTime** - Unix Time of when the review was posted, *string*"
   ]
  },
  {
   "cell_type": "markdown",
   "metadata": {},
   "source": [
    "# Data Wrangling #"
   ]
  },
  {
   "cell_type": "code",
   "execution_count": 1,
   "metadata": {
    "code_folding": []
   },
   "outputs": [],
   "source": [
    "import warnings\n",
    "\n",
    "warnings.simplefilter(\"ignore\", UserWarning)\n",
    "warnings.simplefilter(\"ignore\", FutureWarning)\n",
    "warnings.simplefilter(\"ignore\", DeprecationWarning)"
   ]
  },
  {
   "cell_type": "markdown",
   "metadata": {},
   "source": [
    "The `df` is created from the Amazon dataset. If the file has been downloaded then the dataset is loaded from the local file. Otherwise the file is accessed and extracted directly from the repository."
   ]
  },
  {
   "cell_type": "code",
   "execution_count": 2,
   "metadata": {},
   "outputs": [
    {
     "data": {
      "text/html": [
       "<div>\n",
       "<style scoped>\n",
       "    .dataframe tbody tr th:only-of-type {\n",
       "        vertical-align: middle;\n",
       "    }\n",
       "\n",
       "    .dataframe tbody tr th {\n",
       "        vertical-align: top;\n",
       "    }\n",
       "\n",
       "    .dataframe thead th {\n",
       "        text-align: right;\n",
       "    }\n",
       "</style>\n",
       "<table border=\"1\" class=\"dataframe\">\n",
       "  <thead>\n",
       "    <tr style=\"text-align: right;\">\n",
       "      <th></th>\n",
       "      <th>Unnamed: 0</th>\n",
       "      <th>0</th>\n",
       "      <th>1</th>\n",
       "      <th>2</th>\n",
       "    </tr>\n",
       "  </thead>\n",
       "  <tbody>\n",
       "    <tr>\n",
       "      <th>0</th>\n",
       "      <td>2698442</td>\n",
       "      <td>2</td>\n",
       "      <td>An Amalgam</td>\n",
       "      <td>This book is an amalgam of bits and pieces and...</td>\n",
       "    </tr>\n",
       "    <tr>\n",
       "      <th>1</th>\n",
       "      <td>2646715</td>\n",
       "      <td>5</td>\n",
       "      <td>Great!!!</td>\n",
       "      <td>Well, not much to say. If you saw the first se...</td>\n",
       "    </tr>\n",
       "    <tr>\n",
       "      <th>2</th>\n",
       "      <td>2119569</td>\n",
       "      <td>2</td>\n",
       "      <td>Hit&amp;Miss</td>\n",
       "      <td>Babyface in his hey day always had a Cut that ...</td>\n",
       "    </tr>\n",
       "    <tr>\n",
       "      <th>3</th>\n",
       "      <td>816322</td>\n",
       "      <td>5</td>\n",
       "      <td>Great Buy</td>\n",
       "      <td>This text is considered The Bible for any poli...</td>\n",
       "    </tr>\n",
       "    <tr>\n",
       "      <th>4</th>\n",
       "      <td>1476562</td>\n",
       "      <td>3</td>\n",
       "      <td>What time is it anyway?</td>\n",
       "      <td>I thought the other reviews weren't serious ab...</td>\n",
       "    </tr>\n",
       "    <tr>\n",
       "      <th>5</th>\n",
       "      <td>17087</td>\n",
       "      <td>3</td>\n",
       "      <td>PRETTY FUNNY</td>\n",
       "      <td>GOOD,BUT UNREALISTIC.THE GUY JUST QUIT GOING T...</td>\n",
       "    </tr>\n",
       "    <tr>\n",
       "      <th>6</th>\n",
       "      <td>1838666</td>\n",
       "      <td>5</td>\n",
       "      <td>Lacy J. Dalton</td>\n",
       "      <td>I saw Lacy on Bill Anderson's Country Reunion ...</td>\n",
       "    </tr>\n",
       "    <tr>\n",
       "      <th>7</th>\n",
       "      <td>1442704</td>\n",
       "      <td>4</td>\n",
       "      <td>Great</td>\n",
       "      <td>Easy and enjoyable to watch. I would recommend...</td>\n",
       "    </tr>\n",
       "    <tr>\n",
       "      <th>8</th>\n",
       "      <td>1114640</td>\n",
       "      <td>3</td>\n",
       "      <td>Be careful!!!!</td>\n",
       "      <td>I am a very advanced exerciser and have used t...</td>\n",
       "    </tr>\n",
       "    <tr>\n",
       "      <th>9</th>\n",
       "      <td>1308335</td>\n",
       "      <td>5</td>\n",
       "      <td>the best book in the world!!!</td>\n",
       "      <td>Sahara special is one of the best books I have...</td>\n",
       "    </tr>\n",
       "  </tbody>\n",
       "</table>\n",
       "</div>"
      ],
      "text/plain": [
       "   Unnamed: 0  0                              1  \\\n",
       "0     2698442  2                     An Amalgam   \n",
       "1     2646715  5                       Great!!!   \n",
       "2     2119569  2                       Hit&Miss   \n",
       "3      816322  5                      Great Buy   \n",
       "4     1476562  3        What time is it anyway?   \n",
       "5       17087  3                   PRETTY FUNNY   \n",
       "6     1838666  5                 Lacy J. Dalton   \n",
       "7     1442704  4                          Great   \n",
       "8     1114640  3                 Be careful!!!!   \n",
       "9     1308335  5  the best book in the world!!!   \n",
       "\n",
       "                                                   2  \n",
       "0  This book is an amalgam of bits and pieces and...  \n",
       "1  Well, not much to say. If you saw the first se...  \n",
       "2  Babyface in his hey day always had a Cut that ...  \n",
       "3  This text is considered The Bible for any poli...  \n",
       "4  I thought the other reviews weren't serious ab...  \n",
       "5  GOOD,BUT UNREALISTIC.THE GUY JUST QUIT GOING T...  \n",
       "6  I saw Lacy on Bill Anderson's Country Reunion ...  \n",
       "7  Easy and enjoyable to watch. I would recommend...  \n",
       "8  I am a very advanced exerciser and have used t...  \n",
       "9  Sahara special is one of the best books I have...  "
      ]
     },
     "metadata": {},
     "output_type": "display_data"
    }
   ],
   "source": [
    "import os\n",
    "import pandas as pd\n",
    "\n",
    "dataset=\"tarun.csv\"\n",
    "\n",
    "if os.path.isfile(dataset):\n",
    "    df = pd.read_csv(\"tarun.csv\")\n",
    "else:\n",
    "    url = r\"http://snap.stanford.edu/data/amazon/productGraph/categoryFiles/reviews_Electronics_5.json.gz\"\n",
    "    df = pd.read_json(url, compression='gzip', lines=True)\n",
    "display(df.head(10))"
   ]
  },
  {
   "cell_type": "code",
   "execution_count": 3,
   "metadata": {},
   "outputs": [
    {
     "data": {
      "text/html": [
       "<div>\n",
       "<style scoped>\n",
       "    .dataframe tbody tr th:only-of-type {\n",
       "        vertical-align: middle;\n",
       "    }\n",
       "\n",
       "    .dataframe tbody tr th {\n",
       "        vertical-align: top;\n",
       "    }\n",
       "\n",
       "    .dataframe thead th {\n",
       "        text-align: right;\n",
       "    }\n",
       "</style>\n",
       "<table border=\"1\" class=\"dataframe\">\n",
       "  <thead>\n",
       "    <tr style=\"text-align: right;\">\n",
       "      <th></th>\n",
       "      <th>Unnamed: 0</th>\n",
       "      <th>0</th>\n",
       "      <th>1</th>\n",
       "      <th>2</th>\n",
       "    </tr>\n",
       "  </thead>\n",
       "  <tbody>\n",
       "    <tr>\n",
       "      <th>0</th>\n",
       "      <td>2698442</td>\n",
       "      <td>2</td>\n",
       "      <td>An Amalgam</td>\n",
       "      <td>This book is an amalgam of bits and pieces and...</td>\n",
       "    </tr>\n",
       "    <tr>\n",
       "      <th>1</th>\n",
       "      <td>2646715</td>\n",
       "      <td>5</td>\n",
       "      <td>Great!!!</td>\n",
       "      <td>Well, not much to say. If you saw the first se...</td>\n",
       "    </tr>\n",
       "    <tr>\n",
       "      <th>2</th>\n",
       "      <td>2119569</td>\n",
       "      <td>2</td>\n",
       "      <td>Hit&amp;Miss</td>\n",
       "      <td>Babyface in his hey day always had a Cut that ...</td>\n",
       "    </tr>\n",
       "    <tr>\n",
       "      <th>3</th>\n",
       "      <td>816322</td>\n",
       "      <td>5</td>\n",
       "      <td>Great Buy</td>\n",
       "      <td>This text is considered The Bible for any poli...</td>\n",
       "    </tr>\n",
       "    <tr>\n",
       "      <th>4</th>\n",
       "      <td>1476562</td>\n",
       "      <td>3</td>\n",
       "      <td>What time is it anyway?</td>\n",
       "      <td>I thought the other reviews weren't serious ab...</td>\n",
       "    </tr>\n",
       "  </tbody>\n",
       "</table>\n",
       "</div>"
      ],
      "text/plain": [
       "   Unnamed: 0  0                        1  \\\n",
       "0     2698442  2               An Amalgam   \n",
       "1     2646715  5                 Great!!!   \n",
       "2     2119569  2                 Hit&Miss   \n",
       "3      816322  5                Great Buy   \n",
       "4     1476562  3  What time is it anyway?   \n",
       "\n",
       "                                                   2  \n",
       "0  This book is an amalgam of bits and pieces and...  \n",
       "1  Well, not much to say. If you saw the first se...  \n",
       "2  Babyface in his hey day always had a Cut that ...  \n",
       "3  This text is considered The Bible for any poli...  \n",
       "4  I thought the other reviews weren't serious ab...  "
      ]
     },
     "execution_count": 3,
     "metadata": {},
     "output_type": "execute_result"
    }
   ],
   "source": [
    "df.head()"
   ]
  },
  {
   "cell_type": "markdown",
   "metadata": {},
   "source": [
    "Only the `overall` and the `unixReviewTime` series are stored as integers. The rest are interpreted as strings (objects)."
   ]
  },
  {
   "cell_type": "code",
   "execution_count": 4,
   "metadata": {},
   "outputs": [],
   "source": [
    "df = df.drop('Unnamed: 0',axis=1)\n"
   ]
  },
  {
   "cell_type": "code",
   "execution_count": 5,
   "metadata": {},
   "outputs": [
    {
     "data": {
      "text/html": [
       "<div>\n",
       "<style scoped>\n",
       "    .dataframe tbody tr th:only-of-type {\n",
       "        vertical-align: middle;\n",
       "    }\n",
       "\n",
       "    .dataframe tbody tr th {\n",
       "        vertical-align: top;\n",
       "    }\n",
       "\n",
       "    .dataframe thead th {\n",
       "        text-align: right;\n",
       "    }\n",
       "</style>\n",
       "<table border=\"1\" class=\"dataframe\">\n",
       "  <thead>\n",
       "    <tr style=\"text-align: right;\">\n",
       "      <th></th>\n",
       "      <th>0</th>\n",
       "      <th>1</th>\n",
       "      <th>2</th>\n",
       "    </tr>\n",
       "  </thead>\n",
       "  <tbody>\n",
       "    <tr>\n",
       "      <th>0</th>\n",
       "      <td>2</td>\n",
       "      <td>An Amalgam</td>\n",
       "      <td>This book is an amalgam of bits and pieces and...</td>\n",
       "    </tr>\n",
       "    <tr>\n",
       "      <th>1</th>\n",
       "      <td>5</td>\n",
       "      <td>Great!!!</td>\n",
       "      <td>Well, not much to say. If you saw the first se...</td>\n",
       "    </tr>\n",
       "    <tr>\n",
       "      <th>2</th>\n",
       "      <td>2</td>\n",
       "      <td>Hit&amp;Miss</td>\n",
       "      <td>Babyface in his hey day always had a Cut that ...</td>\n",
       "    </tr>\n",
       "    <tr>\n",
       "      <th>3</th>\n",
       "      <td>5</td>\n",
       "      <td>Great Buy</td>\n",
       "      <td>This text is considered The Bible for any poli...</td>\n",
       "    </tr>\n",
       "    <tr>\n",
       "      <th>4</th>\n",
       "      <td>3</td>\n",
       "      <td>What time is it anyway?</td>\n",
       "      <td>I thought the other reviews weren't serious ab...</td>\n",
       "    </tr>\n",
       "  </tbody>\n",
       "</table>\n",
       "</div>"
      ],
      "text/plain": [
       "   0                        1  \\\n",
       "0  2               An Amalgam   \n",
       "1  5                 Great!!!   \n",
       "2  2                 Hit&Miss   \n",
       "3  5                Great Buy   \n",
       "4  3  What time is it anyway?   \n",
       "\n",
       "                                                   2  \n",
       "0  This book is an amalgam of bits and pieces and...  \n",
       "1  Well, not much to say. If you saw the first se...  \n",
       "2  Babyface in his hey day always had a Cut that ...  \n",
       "3  This text is considered The Bible for any poli...  \n",
       "4  I thought the other reviews weren't serious ab...  "
      ]
     },
     "execution_count": 5,
     "metadata": {},
     "output_type": "execute_result"
    }
   ],
   "source": [
    "df.head()"
   ]
  },
  {
   "cell_type": "code",
   "execution_count": 6,
   "metadata": {},
   "outputs": [],
   "source": [
    "df.columns=['overall','title','reviewText']\n"
   ]
  },
  {
   "cell_type": "code",
   "execution_count": 7,
   "metadata": {},
   "outputs": [
    {
     "name": "stdout",
     "output_type": "stream",
     "text": [
      "<class 'pandas.core.frame.DataFrame'>\n",
      "Int64Index: 187500 entries, 172280 to 280970\n",
      "Data columns (total 3 columns):\n",
      " #   Column      Non-Null Count   Dtype \n",
      "---  ------      --------------   ----- \n",
      " 0   overall     187500 non-null  int64 \n",
      " 1   title       187496 non-null  object\n",
      " 2   reviewText  187500 non-null  object\n",
      "dtypes: int64(1), object(2)\n",
      "memory usage: 5.7+ MB\n",
      "None\n"
     ]
    }
   ],
   "source": [
    "df = df.sample(frac =.25)\n",
    "print(df.info())"
   ]
  },
  {
   "cell_type": "code",
   "execution_count": 8,
   "metadata": {},
   "outputs": [
    {
     "data": {
      "text/html": [
       "<div>\n",
       "<style scoped>\n",
       "    .dataframe tbody tr th:only-of-type {\n",
       "        vertical-align: middle;\n",
       "    }\n",
       "\n",
       "    .dataframe tbody tr th {\n",
       "        vertical-align: top;\n",
       "    }\n",
       "\n",
       "    .dataframe thead th {\n",
       "        text-align: right;\n",
       "    }\n",
       "</style>\n",
       "<table border=\"1\" class=\"dataframe\">\n",
       "  <thead>\n",
       "    <tr style=\"text-align: right;\">\n",
       "      <th></th>\n",
       "      <th>overall</th>\n",
       "      <th>title</th>\n",
       "      <th>reviewText</th>\n",
       "    </tr>\n",
       "  </thead>\n",
       "  <tbody>\n",
       "    <tr>\n",
       "      <th>172280</th>\n",
       "      <td>5</td>\n",
       "      <td>Excellent product</td>\n",
       "      <td>I bought this knee brace for my son who was co...</td>\n",
       "    </tr>\n",
       "    <tr>\n",
       "      <th>342053</th>\n",
       "      <td>5</td>\n",
       "      <td>IF YOU LIKE MAPS AND COLOR PICTURES, THIS IS Y...</td>\n",
       "      <td>This is a great book for people who like lots ...</td>\n",
       "    </tr>\n",
       "    <tr>\n",
       "      <th>345256</th>\n",
       "      <td>2</td>\n",
       "      <td>Would be great but BUGGY</td>\n",
       "      <td>This game has so much potential, but it is fil...</td>\n",
       "    </tr>\n",
       "    <tr>\n",
       "      <th>82597</th>\n",
       "      <td>5</td>\n",
       "      <td>Works as expected.</td>\n",
       "      <td>It's no frills, which is all I wanted. The cor...</td>\n",
       "    </tr>\n",
       "    <tr>\n",
       "      <th>425572</th>\n",
       "      <td>1</td>\n",
       "      <td>horrible</td>\n",
       "      <td>horrible, absurd, cartoonish, ridiculous. do n...</td>\n",
       "    </tr>\n",
       "  </tbody>\n",
       "</table>\n",
       "</div>"
      ],
      "text/plain": [
       "        overall                                              title  \\\n",
       "172280        5                                  Excellent product   \n",
       "342053        5  IF YOU LIKE MAPS AND COLOR PICTURES, THIS IS Y...   \n",
       "345256        2                           Would be great but BUGGY   \n",
       "82597         5                                 Works as expected.   \n",
       "425572        1                                           horrible   \n",
       "\n",
       "                                               reviewText  \n",
       "172280  I bought this knee brace for my son who was co...  \n",
       "342053  This is a great book for people who like lots ...  \n",
       "345256  This game has so much potential, but it is fil...  \n",
       "82597   It's no frills, which is all I wanted. The cor...  \n",
       "425572  horrible, absurd, cartoonish, ridiculous. do n...  "
      ]
     },
     "execution_count": 8,
     "metadata": {},
     "output_type": "execute_result"
    }
   ],
   "source": [
    "df.head()"
   ]
  },
  {
   "cell_type": "markdown",
   "metadata": {},
   "source": [
    "# Word Frequency - Initial"
   ]
  },
  {
   "cell_type": "code",
   "execution_count": 9,
   "metadata": {},
   "outputs": [],
   "source": [
    "from nltk import FreqDist\n",
    "import matplotlib.pyplot as plt\n",
    "import seaborn as sns\n",
    "# function to plot most frequent terms\n",
    "def freq_words(x, terms = 30):\n",
    "  all_words = ' '.join([text for text in x])\n",
    "  all_words = all_words.split()\n",
    "\n",
    "  fdist = FreqDist(all_words)\n",
    "  words_df = pd.DataFrame({'word':list(fdist.keys()), 'count':list(fdist.values())})\n",
    "\n",
    "  # selecting top 20 most frequent words\n",
    "  d = words_df.nlargest(columns=\"count\", n = terms) \n",
    "  plt.figure(figsize=(20,5))\n",
    "  ax = sns.barplot(data=d, x= \"word\", y = \"count\")\n",
    "  ax.set(ylabel = 'Count')\n",
    "  plt.show()"
   ]
  },
  {
   "cell_type": "code",
   "execution_count": 10,
   "metadata": {},
   "outputs": [
    {
     "data": {
      "image/png": "[encoded data removed]",
      "text/plain": [
       "<Figure size 1440x360 with 1 Axes>"
      ]
     },
     "metadata": {
      "needs_background": "light"
     },
     "output_type": "display_data"
    }
   ],
   "source": [
    "freq_words(df['reviewText'])"
   ]
  },
  {
   "cell_type": "markdown",
   "metadata": {},
   "source": [
    "The `reviewTime` is dropped since the `unixReviewTime` series more accurately describes the time when each review was posted."
   ]
  },
  {
   "cell_type": "code",
   "execution_count": 11,
   "metadata": {},
   "outputs": [
    {
     "name": "stdout",
     "output_type": "stream",
     "text": [
      "I bought this knee brace for my son who was coming off of knee surgery(torn meniscus) He wore these knee pads from November to march, wrestling in 45 matches and daily practices. these pads were excellent in the way they cushioned his knee and protected him from any injury. the only down side was the cloth fabric sleeve's(holder) became worn out late in the season and it was required to be wrapped with tape around the top of the pad so it would stay up. i plan on purchasing another pair before next wrestling season.\n"
     ]
    }
   ],
   "source": [
    "print(df[\"reviewText\"].iloc[0])"
   ]
  },
  {
   "cell_type": "markdown",
   "metadata": {},
   "source": [
    "Each review is associated with a rating stored under the `overall` field. This serves as the quantified summary of a given review and will thus be used as the ground truth labels for the model."
   ]
  },
  {
   "cell_type": "code",
   "execution_count": 12,
   "metadata": {},
   "outputs": [
    {
     "name": "stdout",
     "output_type": "stream",
     "text": [
      "[5 2 1 4 3]\n"
     ]
    }
   ],
   "source": [
    "print(df.overall.unique())"
   ]
  },
  {
   "cell_type": "markdown",
   "metadata": {},
   "source": [
    "## NLP Pre-Processing ##\n",
    "We'll work with `reviewText` to prepare our model's final dataframe. The goal is to produce tokens for every document (i.e. every review). These documents will make up our corpora where we'll draw our vocabulary from.\n",
    "\n",
    "The following is a sample text in its original form."
   ]
  },
  {
   "cell_type": "code",
   "execution_count": 13,
   "metadata": {},
   "outputs": [
    {
     "name": "stdout",
     "output_type": "stream",
     "text": [
      "This is a great book for people who like lots of pictures and maps. It not only provides you with tips on travel (phonec calls,money ect) but it gives you insight into the different sections of the Loire. Each major attraction has one or more pages dedicated to it. The book really gives you a feel for what you will be seeing. It is one of the best guide books i have ever bought. I liked it so much i bought the one for Paris.\n"
     ]
    }
   ],
   "source": [
    "sample_review = df[\"reviewText\"].iloc[1]\n",
    "print(sample_review)"
   ]
  },
  {
   "cell_type": "markdown",
   "metadata": {},
   "source": [
    "### HTML Entities ###\n",
    "Some special characters like the apostrophe (’) and the en dash (–) are expressed as a set of numbers prefixed by `&#` and suffixed by `;`. This is because the dataset was scraped from an HTML parser, and the dataset itself includes data that predated the universal UTF-8 standard.\n",
    "\n",
    "These *HTML Entities* can be decoded by importing the `html` library."
   ]
  },
  {
   "cell_type": "code",
   "execution_count": 14,
   "metadata": {},
   "outputs": [
    {
     "name": "stdout",
     "output_type": "stream",
     "text": [
      "This is a great book for people who like lots of pictures and maps. It not only provides you with tips on travel (phonec calls,money ect) but it gives you insight into the different sections of the Loire. Each major attraction has one or more pages dedicated to it. The book really gives you a feel for what you will be seeing. It is one of the best guide books i have ever bought. I liked it so much i bought the one for Paris.\n"
     ]
    }
   ],
   "source": [
    "import html\n",
    "\n",
    "decoded_review = html.unescape(sample_review)\n",
    "print(decoded_review)"
   ]
  },
  {
   "cell_type": "markdown",
   "metadata": {},
   "source": [
    "Since punctuation marks do not add value in the way we'll perform NLP, all the HTML entities in the review texts can be dropped. The output series `preprocessed` is our `reviewText` but without the special characters."
   ]
  },
  {
   "cell_type": "code",
   "execution_count": 15,
   "metadata": {},
   "outputs": [
    {
     "name": "stdout",
     "output_type": "stream",
     "text": [
      "This is a great book for people who like lots of pictures and maps. It not only provides you with tips on travel (phonec calls,money ect) but it gives you insight into the different sections of the Loire. Each major attraction has one or more pages dedicated to it. The book really gives you a feel for what you will be seeing. It is one of the best guide books i have ever bought. I liked it so much i bought the one for Paris.\n"
     ]
    }
   ],
   "source": [
    "pattern = r\"\\&\\#[0-9]+\\;\"\n",
    "\n",
    "df[\"preprocessed\"] = df[\"reviewText\"].str.replace(pat=pattern, repl=\"\", regex=True)\n",
    "\n",
    "print(df[\"preprocessed\"].iloc[1])"
   ]
  },
  {
   "cell_type": "markdown",
   "metadata": {},
   "source": [
    "### Extracting the root word ###\n",
    "How often a word is used is key information in natural language processing. It is therefore important to reduce words to their root form. An example would be the usage of the word \"*learn*\". If we differentiate this base form from a modified version like \"*learning*\" then we might lose relational context between two documents that have used either word.\n",
    "\n",
    "We'll be using Lemmatization to reduce tokens to their base word. This technique takes into account context similarity according to part-of-speech anatomy. Stemming is another common approach, although stemming only performs truncation and would not be able to reduce \"*taught*\" to \"*teach*\".\n",
    "\n",
    "We will be using the *WordNetLemmatizer* from the Natural Language Toolkit (or *NLTK*). Lemmatization only applies to each word but it is dependent on sentence structure to understand context. We therefore need to have part-of-speech tags associated with each word. Our output is derived from applying the `lemmatize_doc` function to our `preprocessed` column.\n",
    "\n",
    "The `lemmatize_doc` works as follows:\n",
    "* Each review is broken down into a list of sentences\n",
    "* Punctuations that only group words or separate sentences (hyphens therefore are excluded) are removed (replaced by whitespace) using RegEx\n",
    "* Every sentence is further broken down into words (tokens)\n",
    "\n",
    "Each of the sentences then becomes an ordered bag of words. Every word is then *tagged* to a part-of-speech. This word-tag tuple pair is then fed one at a time to the `lemmatize_word` function, which works as follows:\n",
    "* Only modifiable words – nouns, verbs, adjectives, and adverbs – can be reduced to roots\n",
    "* These words are lemmatized and appended to the `root` list\n",
    "* Words that are not modifiable are added as they are to the `root` list\n",
    "\n",
    "The output lists are linked together as a string using whitespace. In the end, each `preprocessed` review will retain its text form but with each word simplified as much as possible."
   ]
  },
  {
   "cell_type": "code",
   "execution_count": 16,
   "metadata": {},
   "outputs": [
    {
     "name": "stderr",
     "output_type": "stream",
     "text": [
      "[nltk_data] Downloading package wordnet to\n",
      "[nltk_data]     C:\\Users\\Acer\\AppData\\Roaming\\nltk_data...\n",
      "[nltk_data]   Package wordnet is already up-to-date!\n",
      "[nltk_data] Downloading package stopwords to\n",
      "[nltk_data]     C:\\Users\\Acer\\AppData\\Roaming\\nltk_data...\n",
      "[nltk_data]   Package stopwords is already up-to-date!\n"
     ]
    },
    {
     "name": "stdout",
     "output_type": "stream",
     "text": [
      "This be a great book for people who like lot of picture and map It not only provide you with tip on travel phonec call money ect but it give you insight into the different section of the Loire Each major attraction have one or more page dedicate to it The book really give you a feel for what you will be see It be one of the best guide book i have ever buy I like it so much i buy the one for Paris\n",
      "Wall time: 19min 47s\n"
     ]
    }
   ],
   "source": [
    "%%time\n",
    "import re\n",
    "import nltk\n",
    "\n",
    "from nltk import word_tokenize, pos_tag\n",
    "from nltk.stem import WordNetLemmatizer\n",
    "from nltk.tokenize import sent_tokenize\n",
    "from nltk.corpus import wordnet\n",
    "\n",
    "#import nltk resources\n",
    "#resources = [\"wordnet\", \"stopwords\", \"punkt\", \\\n",
    "#             \"averaged_perceptron_tagger\", \"maxent_treebank_pos_tagger\"]\n",
    "resources =[\"wordnet\", \"stopwords\"]\n",
    "\n",
    "for resource in resources:\n",
    "    try:\n",
    "        nltk.data.find(\"tokenizers/\" + resource)\n",
    "    except LookupError:\n",
    "        nltk.download(resource)\n",
    "\n",
    "#create Lemmatizer object\n",
    "lemma = WordNetLemmatizer()\n",
    "\n",
    "def lemmatize_word(tagged_token):\n",
    "    \"\"\" Returns lemmatized word given its tag\"\"\"\n",
    "    root = []\n",
    "    for token in tagged_token:\n",
    "        tag = token[1][0]\n",
    "        word = token[0]\n",
    "        if tag.startswith('J'):\n",
    "            root.append(lemma.lemmatize(word, wordnet.ADJ))\n",
    "        elif tag.startswith('V'):\n",
    "            root.append(lemma.lemmatize(word, wordnet.VERB))\n",
    "        elif tag.startswith('N'):\n",
    "            root.append(lemma.lemmatize(word, wordnet.NOUN))\n",
    "        elif tag.startswith('R'):\n",
    "            root.append(lemma.lemmatize(word, wordnet.ADV))\n",
    "        else:          \n",
    "            root.append(word)\n",
    "    return root\n",
    "\n",
    "def lemmatize_doc(document):\n",
    "    \"\"\" Tags words then returns sentence with lemmatized words\"\"\"\n",
    "    lemmatized_list = []\n",
    "    tokenized_sent = sent_tokenize(document)\n",
    "    for sentence in tokenized_sent:\n",
    "        no_punctuation = re.sub(r\"[`'\\\",.!?()]\", \" \", sentence)\n",
    "        tokenized_word = word_tokenize(no_punctuation)\n",
    "        tagged_token = pos_tag(tokenized_word)\n",
    "        lemmatized = lemmatize_word(tagged_token)\n",
    "        lemmatized_list.extend(lemmatized)\n",
    "    return \" \".join(lemmatized_list)\n",
    "\n",
    "#apply our functions\n",
    "df[\"preprocessed\"] = df[\"preprocessed\"].apply(lambda row: lemmatize_doc(row))\n",
    "\n",
    "print(df[\"preprocessed\"].iloc[1])"
   ]
  },
  {
   "cell_type": "markdown",
   "metadata": {},
   "source": [
    "### Removing Accents ###\n",
    "Each review is normalized from longform UTF-8 to ASCII encoding. This will remove accents in characters and ensure that words like \"*naïve*\" will simply be interpreted as (and therefore not differentiated from) \"*naive*\"."
   ]
  },
  {
   "cell_type": "code",
   "execution_count": 17,
   "metadata": {},
   "outputs": [
    {
     "name": "stdout",
     "output_type": "stream",
     "text": [
      "This be a great book for people who like lot of picture and map It not only provide you with tip on travel phonec call money ect but it give you insight into the different section of the Loire Each major attraction have one or more page dedicate to it The book really give you a feel for what you will be see It be one of the best guide book i have ever buy I like it so much i buy the one for Paris\n"
     ]
    }
   ],
   "source": [
    "from unicodedata import normalize\n",
    "\n",
    "remove_accent = lambda text: normalize(\"NFKD\", text).encode(\"ascii\", \"ignore\").decode(\"utf-8\", \"ignore\")\n",
    "\n",
    "df[\"preprocessed\"] = df[\"preprocessed\"].apply(remove_accent)\n",
    "\n",
    "print(df[\"preprocessed\"].iloc[1])"
   ]
  },
  {
   "cell_type": "markdown",
   "metadata": {},
   "source": [
    "### Removing Punctuations ###\n",
    "The `preprocessed` reviews are further cleaned by dropping punctuations. Using regular expressions, only whitespaces and alphanumeric characters are kept."
   ]
  },
  {
   "cell_type": "code",
   "execution_count": 18,
   "metadata": {},
   "outputs": [
    {
     "name": "stdout",
     "output_type": "stream",
     "text": [
      "This be a great book for people who like lot of picture and map It not only provide you with tip on travel phonec call money ect but it give you insight into the different section of the Loire Each major attraction have one or more page dedicate to it The book really give you a feel for what you will be see It be one of the best guide book i have ever buy I like it so much i buy the one for Paris\n"
     ]
    }
   ],
   "source": [
    "pattern = r\"[^\\w\\s]\"\n",
    "\n",
    "df[\"preprocessed\"] = df[\"preprocessed\"].str.replace(pat=pattern, repl=\" \", regex=True)\n",
    "\n",
    "print(df[\"preprocessed\"].iloc[1])"
   ]
  },
  {
   "cell_type": "markdown",
   "metadata": {},
   "source": [
    "### Converting to Lower Case ###\n",
    "Every letter is also converted to lower case. This makes it so that \"*iPhone*\" will not be distinguishable from \"*iphone*\"."
   ]
  },
  {
   "cell_type": "code",
   "execution_count": 19,
   "metadata": {},
   "outputs": [
    {
     "name": "stdout",
     "output_type": "stream",
     "text": [
      "this be a great book for people who like lot of picture and map it not only provide you with tip on travel phonec call money ect but it give you insight into the different section of the loire each major attraction have one or more page dedicate to it the book really give you a feel for what you will be see it be one of the best guide book i have ever buy i like it so much i buy the one for paris\n"
     ]
    }
   ],
   "source": [
    "df[\"preprocessed\"] = df[\"preprocessed\"].str.lower()\n",
    "\n",
    "print(df[\"preprocessed\"].iloc[1])"
   ]
  },
  {
   "cell_type": "markdown",
   "metadata": {},
   "source": [
    "### Removing Stop Words ###\n",
    "Stop words consist of the most commonly used words that include pronouns (e.g. *us*, *she*, *their*), articles (e.g. *the*), and prepositions (e.g. *under*, *from*, *off*). These words are not helpful in distinguishing a document from another and are therefore dropped.\n",
    "\n",
    "Note that the `stop_words` were stripped of punctuations just as what we have done to our dataset."
   ]
  },
  {
   "cell_type": "code",
   "execution_count": 20,
   "metadata": {},
   "outputs": [
    {
     "name": "stdout",
     "output_type": "stream",
     "text": [
      "sample stop words: ['i', 'me', 'my', 'myself', 'we', 'our', 'ours', 'ourselves', 'you', 'youre', 'youve', 'youll', 'youd', 'your', 'yours'] \n",
      "\n",
      "great book people like lot picture map provide tip travel phonec call money ect give insight different section loire major attraction one page dedicate book really give feel see one best guide book ever buy like much buy one paris\n"
     ]
    }
   ],
   "source": [
    "from nltk.corpus import stopwords\n",
    "\n",
    "stop_words = stopwords.words(\"english\")\n",
    "\n",
    "stop_words = [word.replace(\"\\'\", \"\") for word in stop_words]\n",
    "\n",
    "print(f\"sample stop words: {stop_words[:15]} \\n\")\n",
    "\n",
    "remove_stop_words = lambda row: \" \".join([token for token in row.split(\" \") \\\n",
    "                                          if token not in stop_words])\n",
    "df[\"preprocessed\"] = df[\"preprocessed\"].apply(remove_stop_words)\n",
    "\n",
    "print(df[\"preprocessed\"].iloc[1])"
   ]
  },
  {
   "cell_type": "markdown",
   "metadata": {},
   "source": [
    "### Removing Extra Spaces ###\n",
    "Again, we make use of regular expressions to ensure we never get more than a single whitespace to separate words in our sentences."
   ]
  },
  {
   "cell_type": "code",
   "execution_count": 21,
   "metadata": {},
   "outputs": [
    {
     "name": "stdout",
     "output_type": "stream",
     "text": [
      "great book people like lot picture map provide tip travel phonec call money ect give insight different section loire major attraction one page dedicate book really give feel see one best guide book ever buy like much buy one paris\n"
     ]
    }
   ],
   "source": [
    "pattern = r\"[\\s]+\"\n",
    "\n",
    "df[\"preprocessed\"] = df[\"preprocessed\"].str.replace(pat=pattern, repl=\" \", regex=True)\n",
    "\n",
    "print(df[\"preprocessed\"].iloc[1])"
   ]
  },
  {
   "cell_type": "markdown",
   "metadata": {},
   "source": [
    "# Word Frequency"
   ]
  },
  {
   "cell_type": "code",
   "execution_count": 22,
   "metadata": {},
   "outputs": [
    {
     "data": {
      "image/png": "[encoded data removed]",
      "text/plain": [
       "<Figure size 1440x360 with 1 Axes>"
      ]
     },
     "metadata": {
      "needs_background": "light"
     },
     "output_type": "display_data"
    }
   ],
   "source": [
    "freq_words(df[\"preprocessed\"])"
   ]
  },
  {
   "cell_type": "markdown",
   "metadata": {},
   "source": [
    "## Tokenization ##\n",
    "The entries for the `preprocessed` column are extracted to make up our *corpora*, which is simply a collection of all our documents. Each review is then transformed into an ordered list of words. This is the process of *tokenization* – the document is broken down into individual words or tokens.\n",
    "\n",
    "Our tokenized sample review is below:"
   ]
  },
  {
   "cell_type": "code",
   "execution_count": 23,
   "metadata": {},
   "outputs": [
    {
     "name": "stdout",
     "output_type": "stream",
     "text": [
      "['great', 'book', 'people', 'like', 'lot', 'picture', 'map', 'provide', 'tip', 'travel', 'phonec', 'call', 'money', 'ect', 'give', 'insight', 'different', 'section', 'loire', 'major', 'attraction', 'one', 'page', 'dedicate', 'book', 'really', 'give', 'feel', 'see', 'one', 'best', 'guide', 'book', 'ever', 'buy', 'like', 'much', 'buy', 'one', 'paris']\n"
     ]
    }
   ],
   "source": [
    "corpora = df[\"preprocessed\"].values\n",
    "tokenized = [corpus.split(\" \") for corpus in corpora]\n",
    "\n",
    "print(tokenized[1])"
   ]
  },
  {
   "cell_type": "markdown",
   "metadata": {},
   "source": [
    "## Phrase Modeling ##\n",
    "Since order of words matter in most NLP models, it is often helpful to group neighboring words that appear to convey one meaning as though they are a single word, like *smart TV*.\n",
    "\n",
    "To be considered a *phrase*, the number of times that two words should appear next to each other is set to at least `300`. The *threshold* then takes that minimum and compares it to the total number of token instances in the corpora. The higher the threshold, the more often two words must appear adjacent to be grouped into a phrase."
   ]
  },
  {
   "cell_type": "code",
   "execution_count": 24,
   "metadata": {},
   "outputs": [],
   "source": [
    "from gensim.models import Phrases\n",
    "from gensim.models.phrases import Phraser\n",
    "\n",
    "bi_gram = Phrases(tokenized, min_count=300, threshold=50)\n",
    "\n",
    "tri_gram = Phrases(bi_gram[tokenized], min_count=300, threshold=50)"
   ]
  },
  {
   "cell_type": "markdown",
   "metadata": {},
   "source": [
    "### Unigrams ###\n",
    "Unigrams are single pieces of tokens. The code below takes all the unique words from the entire corpora and prints a sample:"
   ]
  },
  {
   "cell_type": "code",
   "execution_count": 25,
   "metadata": {},
   "outputs": [
    {
     "name": "stdout",
     "output_type": "stream",
     "text": [
      "['thisresult', 'afterhe', 'dedicated', 'lawnchair', 'answersand', 'panicked', 'maimi', 'disintegrationcocteau', 'smomething', 'victems', 'beyondhis', 'snacks', 'loosend', 'inteligant', 'blurbings', '6amp', 'propagandai', 'giambi', 'guideline', 'sixshooter', 'woman2', 'oversensitive', 'portrayer', 'obscure', 'classring', 'hhr', 'arnulfo', 'technogly', 'siddeeq', 'drivil', 'badging', 'weaponary', 'muskateer', 'supprise', 'rtf', 'spelt', 'moralistic', 'cassablancas', 'geeeeez', 'austrianor', 'osmand', 'yurt', 'nist', 'another', 'brey', 'jenre', 'borde', 'whincing', 'conquered', 'yossef']\n"
     ]
    }
   ],
   "source": [
    "uni_gram_tokens = set([token for text in tokenized for token in text])\n",
    "uni_gram_tokens = set(filter(lambda x: x != \"\", uni_gram_tokens))\n",
    "\n",
    "print(list(uni_gram_tokens)[:50])"
   ]
  },
  {
   "cell_type": "markdown",
   "metadata": {},
   "source": [
    "### Bigrams ###\n",
    "Bigrams are generated from using the *gensim* phraser. Only those that pass the `bi_gram` criteria are considered.\n",
    "\n",
    "The code below takes all the unique bigram phrases from the entire corpora:"
   ]
  },
  {
   "cell_type": "code",
   "execution_count": 26,
   "metadata": {},
   "outputs": [
    {
     "name": "stdout",
     "output_type": "stream",
     "text": [
      "['', 'find_good', 'people_say', 'take_long', 'would_want', 'know_would', 'wan_na', 'worth_price', '15_year', 'great_book', 'four_star', 'would_go', 'reason_give', '4_5', 'still_good', '2_day', 'never_see', 'end_book', 'short_story', 'tv_show', 'wish_could', 'well_think', 'give_3', 'find_way', 'many_different', 'blu_ray', 'one_time', 'lot_good', 'r_b', 'book_recommend', 'one_last', 'civil_war', 'make_one', 'many_book', 'product_work', 'anyone_else', 'everything_else', 'time_get', 'would_love', 'couple_year', 'good_read', 'piece_junk', 'enjoy_movie', 'great_cd', 'say_book', 'fit_well', '20_minute', 'best_song', 'least_one', 'like_say']\n"
     ]
    }
   ],
   "source": [
    "bigram_min = bi_gram.min_count\n",
    "\n",
    "bi_condition = lambda x: x[1] >= bigram_min\n",
    "\n",
    "bi_gram_tokens = dict(filter(bi_condition, bi_gram.vocab.items()))\n",
    "bi_gram_tokens = set([token.decode(\"utf-8\") \\\n",
    "                      for token in bi_gram_tokens])\n",
    "\n",
    "bi_grams_only = bi_gram_tokens.difference(uni_gram_tokens)\n",
    "print(list(bi_grams_only)[:50])"
   ]
  },
  {
   "cell_type": "markdown",
   "metadata": {},
   "source": [
    "### Trigrams ###\n",
    "Trigrams are generated by applying another *gensim* phraser on top of a bigram phraser. Take for example the tokens *sd* and *card*. Because they appear often together enough, they become linked together as *sd_card*. In turn, if *sd_card* appears adjacent to the token *reader* in enough instances, then the `tri_gram` model would link them together as well to tokenize *sd_card_reader*.\n",
    "\n",
    "The code below takes all the unique trigram phrases from the entire corpora:"
   ]
  },
  {
   "cell_type": "code",
   "execution_count": 27,
   "metadata": {},
   "outputs": [
    {
     "name": "stdout",
     "output_type": "stream",
     "text": [
      "['would_highly_recommend', 'highly_recommend_book']\n"
     ]
    }
   ],
   "source": [
    "trigram_min = tri_gram.min_count\n",
    "\n",
    "tri_condition = lambda x: x[1] >= trigram_min\n",
    "\n",
    "tri_gram_tokens = dict(filter(tri_condition, tri_gram.vocab.items()))\n",
    "tri_gram_tokens = set([token.decode(\"utf-8\") \\\n",
    "                       for token in tri_gram_tokens])\n",
    "\n",
    "tri_grams_only = tri_gram_tokens.difference(bi_gram_tokens)\n",
    "print(list(tri_grams_only)[:50])"
   ]
  },
  {
   "cell_type": "markdown",
   "metadata": {},
   "source": [
    "The `tri_gram` and `bi_gram` phrasers are applied to our `tokenized` corpora."
   ]
  },
  {
   "cell_type": "code",
   "execution_count": 28,
   "metadata": {
    "scrolled": true
   },
   "outputs": [],
   "source": [
    "#tokenized = [Phraser(tri_gram)[Phraser(bi_gram)[i]] for i in tokenized]"
   ]
  },
  {
   "cell_type": "markdown",
   "metadata": {},
   "source": [
    "Single-character tokens are removed from every tokenized document. Our tokenized review, in its final form, is below."
   ]
  },
  {
   "cell_type": "code",
   "execution_count": 29,
   "metadata": {},
   "outputs": [
    {
     "name": "stdout",
     "output_type": "stream",
     "text": [
      "['great', 'book', 'people', 'like', 'lot', 'picture', 'map', 'provide', 'tip', 'travel', 'phonec', 'call', 'money', 'ect', 'give', 'insight', 'different', 'section', 'loire', 'major', 'attraction', 'one', 'page', 'dedicate', 'book', 'really', 'give', 'feel', 'see', 'one', 'best', 'guide', 'book', 'ever', 'buy', 'like', 'much', 'buy', 'one', 'paris']\n"
     ]
    }
   ],
   "source": [
    "tokenized = [list(filter(lambda x: len(x) > 1, document)) \\\n",
    "             for document in tokenized]\n",
    "\n",
    "print(tokenized[1])"
   ]
  },
  {
   "cell_type": "markdown",
   "metadata": {},
   "source": [
    "## Creating the Vocabulary ##\n",
    "The `vocabulary` is the key-value pairs of all the unique tokens from every product review. Each token is assigned a lookup ID. The first 10 words in our dictionary are as follows:"
   ]
  },
  {
   "cell_type": "code",
   "execution_count": 30,
   "metadata": {
    "scrolled": false
   },
   "outputs": [
    {
     "name": "stdout",
     "output_type": "stream",
     "text": [
      "ID: 0, Token: 45\n",
      "ID: 1, Token: another\n",
      "ID: 2, Token: around\n",
      "ID: 3, Token: become\n",
      "ID: 4, Token: brace\n",
      "ID: 5, Token: buy\n",
      "ID: 6, Token: cloth\n",
      "ID: 7, Token: come\n",
      "ID: 8, Token: cushion\n",
      "ID: 9, Token: daily\n"
     ]
    }
   ],
   "source": [
    "from gensim.corpora.dictionary import Dictionary\n",
    "\n",
    "vocabulary = Dictionary(tokenized)\n",
    "\n",
    "vocabulary_keys = list(vocabulary.token2id)[0:10]\n",
    "\n",
    "for key in vocabulary_keys:\n",
    "    print(f\"ID: {vocabulary.token2id[key]}, Token: {key}\")"
   ]
  },
  {
   "cell_type": "markdown",
   "metadata": {},
   "source": [
    "## Count-based Feature Engineering ##\n",
    "In order for a machine learning model to work with text input, the document must first be *vectorized*. This simply means that the input has to be converted into containers of numerical values.\n",
    "\n",
    "### Bag of Words Model ###\n",
    "The classical approach in expressing text as a set of features is getting the token frequency. Each entry to the dataframe is a document while each column corresponds to every unique token in the entire corpora. The row will identify how many times a word appears in the document. The `bow` model for the sample review is below:"
   ]
  },
  {
   "cell_type": "code",
   "execution_count": 31,
   "metadata": {},
   "outputs": [
    {
     "name": "stdout",
     "output_type": "stream",
     "text": [
      "Word: 45, Frequency: 1\n",
      "Word: another, Frequency: 1\n",
      "Word: around, Frequency: 1\n",
      "Word: become, Frequency: 1\n",
      "Word: brace, Frequency: 1\n",
      "Word: buy, Frequency: 1\n",
      "Word: cloth, Frequency: 1\n",
      "Word: come, Frequency: 1\n",
      "Word: cushion, Frequency: 1\n",
      "Word: daily, Frequency: 1\n",
      "Word: excellent, Frequency: 1\n",
      "Word: fabric, Frequency: 1\n",
      "Word: holder, Frequency: 1\n",
      "Word: injury, Frequency: 1\n",
      "Word: knee, Frequency: 4\n",
      "Word: late, Frequency: 1\n",
      "Word: march, Frequency: 1\n",
      "Word: match, Frequency: 1\n",
      "Word: meniscus, Frequency: 1\n",
      "Word: next, Frequency: 1\n",
      "Word: november, Frequency: 1\n",
      "Word: pad, Frequency: 3\n",
      "Word: pair, Frequency: 1\n",
      "Word: plan, Frequency: 1\n",
      "Word: practice, Frequency: 1\n",
      "Word: protect, Frequency: 1\n",
      "Word: purchase, Frequency: 1\n",
      "Word: require, Frequency: 1\n",
      "Word: season, Frequency: 2\n",
      "Word: side, Frequency: 1\n",
      "Word: sleeve, Frequency: 1\n",
      "Word: son, Frequency: 1\n",
      "Word: stay, Frequency: 1\n",
      "Word: surgery, Frequency: 1\n",
      "Word: tape, Frequency: 1\n",
      "Word: top, Frequency: 1\n",
      "Word: torn, Frequency: 1\n",
      "Word: way, Frequency: 1\n",
      "Word: wear, Frequency: 1\n",
      "Word: worn, Frequency: 1\n",
      "Word: would, Frequency: 1\n",
      "Word: wrap, Frequency: 1\n",
      "Word: wrestling, Frequency: 2\n"
     ]
    }
   ],
   "source": [
    "bow = [vocabulary.doc2bow(doc) for doc in tokenized]\n",
    "\n",
    "for idx, freq in bow[0]:\n",
    "    print(f\"Word: {vocabulary.get(idx)}, Frequency: {freq}\")"
   ]
  },
  {
   "cell_type": "markdown",
   "metadata": {},
   "source": [
    "### TF-IDF Model ###\n",
    "The Term Frequency-Inverse Document Frequency (*TF-IDF*) approach assigns continuous values instead of simple integers for the token frequency. Words that appear frequently overall tend to not establish saliency in a document, and are thus weighted lower. Words that are unique to some documents tend to help distinguish it from the rest and are thus weighted higher. The `tfidf` weighting is based on our `bow` variable."
   ]
  },
  {
   "cell_type": "code",
   "execution_count": 32,
   "metadata": {},
   "outputs": [
    {
     "name": "stdout",
     "output_type": "stream",
     "text": [
      "Word: 45, Weight: 0.125\n",
      "Word: another, Weight: 0.058\n",
      "Word: around, Weight: 0.065\n",
      "Word: become, Weight: 0.075\n",
      "Word: brace, Weight: 0.158\n",
      "Word: buy, Weight: 0.036\n",
      "Word: cloth, Weight: 0.133\n",
      "Word: come, Weight: 0.048\n",
      "Word: cushion, Weight: 0.137\n",
      "Word: daily, Weight: 0.108\n",
      "Word: excellent, Weight: 0.070\n",
      "Word: fabric, Weight: 0.124\n",
      "Word: holder, Weight: 0.122\n",
      "Word: injury, Weight: 0.146\n",
      "Word: knee, Weight: 0.541\n",
      "Word: late, Weight: 0.087\n",
      "Word: march, Weight: 0.133\n",
      "Word: match, Weight: 0.100\n",
      "Word: meniscus, Weight: 0.233\n",
      "Word: next, Weight: 0.072\n",
      "Word: november, Weight: 0.143\n",
      "Word: pad, Weight: 0.324\n",
      "Word: pair, Weight: 0.102\n",
      "Word: plan, Weight: 0.091\n",
      "Word: practice, Weight: 0.102\n",
      "Word: protect, Weight: 0.115\n",
      "Word: purchase, Weight: 0.056\n",
      "Word: require, Weight: 0.094\n",
      "Word: season, Weight: 0.187\n",
      "Word: side, Weight: 0.076\n",
      "Word: sleeve, Weight: 0.133\n",
      "Word: son, Weight: 0.079\n",
      "Word: stay, Weight: 0.080\n",
      "Word: surgery, Weight: 0.144\n",
      "Word: tape, Weight: 0.096\n",
      "Word: top, Weight: 0.076\n",
      "Word: torn, Weight: 0.151\n",
      "Word: way, Weight: 0.049\n",
      "Word: wear, Weight: 0.085\n",
      "Word: worn, Weight: 0.137\n",
      "Word: would, Weight: 0.033\n",
      "Word: wrap, Weight: 0.112\n",
      "Word: wrestling, Weight: 0.315\n"
     ]
    }
   ],
   "source": [
    "from gensim.models.tfidfmodel import TfidfModel\n",
    "\n",
    "tfidf = TfidfModel(bow)\n",
    "\n",
    "for idx, weight in tfidf[bow[0]]:\n",
    "    print(f\"Word: {vocabulary.get(idx)}, Weight: {weight:.3f}\")"
   ]
  },
  {
   "cell_type": "markdown",
   "metadata": {},
   "source": [
    "## Word Embedding for Feature Engineering ##\n",
    "The downside of count-based techniques is that without regard to word sequence and sentence structure, the semantics get lost. The *Word2Vec* technique, on the other hand, actually embeds meaning in vectors by quantifying how often a word appears within the vicinity of a given set of other words.\n",
    "\n",
    "A context window the span of `context_size` slides across every document one token at a time. In each step, the center word is described by its adjacent words and the probability that the token appears together with the others is expressed in `feature_size` dimensions. Since the minimum word requirement is set to `1`, every token in the corpora is embedded in the *Word2Vec* model."
   ]
  },
  {
   "cell_type": "code",
   "execution_count": 33,
   "metadata": {},
   "outputs": [
    {
     "name": "stdout",
     "output_type": "stream",
     "text": [
      "Wall time: 6min 35s\n"
     ]
    }
   ],
   "source": [
    "%%time\n",
    "import numpy as np\n",
    "\n",
    "from gensim.models import word2vec\n",
    "\n",
    "np.set_printoptions(suppress=True)\n",
    "\n",
    "feature_size = 100\n",
    "context_size = 20\n",
    "min_word = 1\n",
    "\n",
    "word_vec= word2vec.Word2Vec(tokenized, size=feature_size, \\\n",
    "                            window=context_size, min_count=min_word, \\\n",
    "                            iter=50, seed=42)"
   ]
  },
  {
   "cell_type": "markdown",
   "metadata": {},
   "source": [
    "## Final Dataframe ##\n",
    "The goal is to have a dataframe with observations corresponding to the product reviews. The `word_vec` model is used to gather all the unique tokens in the corpora. This enables us to generate the `word_vec_df` which makes use of the dimensions as the features of every word."
   ]
  },
  {
   "cell_type": "code",
   "execution_count": 34,
   "metadata": {},
   "outputs": [
    {
     "data": {
      "text/html": [
       "<div>\n",
       "<style scoped>\n",
       "    .dataframe tbody tr th:only-of-type {\n",
       "        vertical-align: middle;\n",
       "    }\n",
       "\n",
       "    .dataframe tbody tr th {\n",
       "        vertical-align: top;\n",
       "    }\n",
       "\n",
       "    .dataframe thead th {\n",
       "        text-align: right;\n",
       "    }\n",
       "</style>\n",
       "<table border=\"1\" class=\"dataframe\">\n",
       "  <thead>\n",
       "    <tr style=\"text-align: right;\">\n",
       "      <th></th>\n",
       "      <th>0</th>\n",
       "      <th>1</th>\n",
       "      <th>2</th>\n",
       "      <th>3</th>\n",
       "      <th>4</th>\n",
       "      <th>5</th>\n",
       "      <th>6</th>\n",
       "      <th>7</th>\n",
       "      <th>8</th>\n",
       "      <th>9</th>\n",
       "      <th>...</th>\n",
       "      <th>90</th>\n",
       "      <th>91</th>\n",
       "      <th>92</th>\n",
       "      <th>93</th>\n",
       "      <th>94</th>\n",
       "      <th>95</th>\n",
       "      <th>96</th>\n",
       "      <th>97</th>\n",
       "      <th>98</th>\n",
       "      <th>99</th>\n",
       "    </tr>\n",
       "  </thead>\n",
       "  <tbody>\n",
       "    <tr>\n",
       "      <th>buy</th>\n",
       "      <td>-0.391614</td>\n",
       "      <td>0.214361</td>\n",
       "      <td>-0.297795</td>\n",
       "      <td>-1.877798</td>\n",
       "      <td>-4.291623</td>\n",
       "      <td>-0.978395</td>\n",
       "      <td>-0.937741</td>\n",
       "      <td>0.463861</td>\n",
       "      <td>-2.089837</td>\n",
       "      <td>-2.478668</td>\n",
       "      <td>...</td>\n",
       "      <td>-2.204032</td>\n",
       "      <td>1.829290</td>\n",
       "      <td>-3.479812</td>\n",
       "      <td>-0.199290</td>\n",
       "      <td>0.338583</td>\n",
       "      <td>-2.067757</td>\n",
       "      <td>4.804310</td>\n",
       "      <td>-2.475281</td>\n",
       "      <td>-0.648905</td>\n",
       "      <td>2.271200</td>\n",
       "    </tr>\n",
       "    <tr>\n",
       "      <th>knee</th>\n",
       "      <td>1.481127</td>\n",
       "      <td>-1.978232</td>\n",
       "      <td>-5.700877</td>\n",
       "      <td>1.706983</td>\n",
       "      <td>0.162963</td>\n",
       "      <td>1.898773</td>\n",
       "      <td>-2.902293</td>\n",
       "      <td>0.457745</td>\n",
       "      <td>2.619406</td>\n",
       "      <td>1.072991</td>\n",
       "      <td>...</td>\n",
       "      <td>-2.497428</td>\n",
       "      <td>-1.427017</td>\n",
       "      <td>-2.086283</td>\n",
       "      <td>1.251740</td>\n",
       "      <td>-3.486538</td>\n",
       "      <td>-1.234355</td>\n",
       "      <td>2.849387</td>\n",
       "      <td>1.263205</td>\n",
       "      <td>-2.140125</td>\n",
       "      <td>1.255013</td>\n",
       "    </tr>\n",
       "    <tr>\n",
       "      <th>brace</th>\n",
       "      <td>2.338521</td>\n",
       "      <td>-1.144466</td>\n",
       "      <td>-4.394060</td>\n",
       "      <td>-1.000188</td>\n",
       "      <td>-0.073849</td>\n",
       "      <td>0.861388</td>\n",
       "      <td>-4.325711</td>\n",
       "      <td>-1.433344</td>\n",
       "      <td>3.800290</td>\n",
       "      <td>-1.003659</td>\n",
       "      <td>...</td>\n",
       "      <td>-1.449026</td>\n",
       "      <td>-0.469251</td>\n",
       "      <td>-3.572661</td>\n",
       "      <td>0.682496</td>\n",
       "      <td>-5.588127</td>\n",
       "      <td>1.907107</td>\n",
       "      <td>2.072536</td>\n",
       "      <td>-1.930896</td>\n",
       "      <td>0.755664</td>\n",
       "      <td>-1.787867</td>\n",
       "    </tr>\n",
       "    <tr>\n",
       "      <th>son</th>\n",
       "      <td>-0.784669</td>\n",
       "      <td>-4.240441</td>\n",
       "      <td>-0.102267</td>\n",
       "      <td>2.689479</td>\n",
       "      <td>-0.944507</td>\n",
       "      <td>1.638644</td>\n",
       "      <td>-0.295057</td>\n",
       "      <td>-1.015112</td>\n",
       "      <td>-6.617234</td>\n",
       "      <td>0.473892</td>\n",
       "      <td>...</td>\n",
       "      <td>1.646912</td>\n",
       "      <td>-7.015779</td>\n",
       "      <td>-2.300763</td>\n",
       "      <td>2.594702</td>\n",
       "      <td>-2.190922</td>\n",
       "      <td>5.335032</td>\n",
       "      <td>-0.068625</td>\n",
       "      <td>1.043740</td>\n",
       "      <td>2.853506</td>\n",
       "      <td>-0.789644</td>\n",
       "    </tr>\n",
       "    <tr>\n",
       "      <th>come</th>\n",
       "      <td>-0.860967</td>\n",
       "      <td>-2.615756</td>\n",
       "      <td>2.044501</td>\n",
       "      <td>0.057479</td>\n",
       "      <td>-1.821402</td>\n",
       "      <td>-0.822883</td>\n",
       "      <td>-2.908396</td>\n",
       "      <td>1.012116</td>\n",
       "      <td>-2.599405</td>\n",
       "      <td>-1.368737</td>\n",
       "      <td>...</td>\n",
       "      <td>-0.183804</td>\n",
       "      <td>-0.565112</td>\n",
       "      <td>-0.204980</td>\n",
       "      <td>-5.581378</td>\n",
       "      <td>3.131901</td>\n",
       "      <td>-1.471195</td>\n",
       "      <td>1.289782</td>\n",
       "      <td>-2.469403</td>\n",
       "      <td>-0.555767</td>\n",
       "      <td>-1.916383</td>\n",
       "    </tr>\n",
       "  </tbody>\n",
       "</table>\n",
       "<p>5 rows × 100 columns</p>\n",
       "</div>"
      ],
      "text/plain": [
       "             0         1         2         3         4         5         6   \\\n",
       "buy   -0.391614  0.214361 -0.297795 -1.877798 -4.291623 -0.978395 -0.937741   \n",
       "knee   1.481127 -1.978232 -5.700877  1.706983  0.162963  1.898773 -2.902293   \n",
       "brace  2.338521 -1.144466 -4.394060 -1.000188 -0.073849  0.861388 -4.325711   \n",
       "son   -0.784669 -4.240441 -0.102267  2.689479 -0.944507  1.638644 -0.295057   \n",
       "come  -0.860967 -2.615756  2.044501  0.057479 -1.821402 -0.822883 -2.908396   \n",
       "\n",
       "             7         8         9   ...        90        91        92  \\\n",
       "buy    0.463861 -2.089837 -2.478668  ... -2.204032  1.829290 -3.479812   \n",
       "knee   0.457745  2.619406  1.072991  ... -2.497428 -1.427017 -2.086283   \n",
       "brace -1.433344  3.800290 -1.003659  ... -1.449026 -0.469251 -3.572661   \n",
       "son   -1.015112 -6.617234  0.473892  ...  1.646912 -7.015779 -2.300763   \n",
       "come   1.012116 -2.599405 -1.368737  ... -0.183804 -0.565112 -0.204980   \n",
       "\n",
       "             93        94        95        96        97        98        99  \n",
       "buy   -0.199290  0.338583 -2.067757  4.804310 -2.475281 -0.648905  2.271200  \n",
       "knee   1.251740 -3.486538 -1.234355  2.849387  1.263205 -2.140125  1.255013  \n",
       "brace  0.682496 -5.588127  1.907107  2.072536 -1.930896  0.755664 -1.787867  \n",
       "son    2.594702 -2.190922  5.335032 -0.068625  1.043740  2.853506 -0.789644  \n",
       "come  -5.581378  3.131901 -1.471195  1.289782 -2.469403 -0.555767 -1.916383  \n",
       "\n",
       "[5 rows x 100 columns]"
      ]
     },
     "metadata": {},
     "output_type": "display_data"
    }
   ],
   "source": [
    "word_vec_unpack = [(word, idx.index) for word, idx in \\\n",
    "                   word_vec.wv.vocab.items()]\n",
    "\n",
    "tokens, indexes = zip(*word_vec_unpack)\n",
    "\n",
    "word_vec_df = pd.DataFrame(word_vec.wv.syn0[indexes, :], index=tokens)\n",
    "\n",
    "display(word_vec_df.head())"
   ]
  },
  {
   "cell_type": "markdown",
   "metadata": {},
   "source": [
    "The `word_vec_df` is sliced by the words that appear in a given `tokenized` review and the mean along every dimension is taken. The resulting `model_array` shape is therefore the word count on *axis 0* and the number of dimensions on *axis 1*. This singularizes multiple word embeddings into one observation for each review.\n",
    "\n",
    "If multiple occurrences of a word occurs in a review, then this only emphasizes the token since the row is pulled towards the values of the vectors of that word."
   ]
  },
  {
   "cell_type": "code",
   "execution_count": 35,
   "metadata": {},
   "outputs": [
    {
     "name": "stdout",
     "output_type": "stream",
     "text": [
      "Wall time: 2min 10s\n"
     ]
    }
   ],
   "source": [
    "%%time\n",
    "tokenized_array = np.array(tokenized)\n",
    "\n",
    "model_array = np.array([word_vec_df.loc[doc].mean(axis=0) for doc in tokenized_array])"
   ]
  },
  {
   "cell_type": "markdown",
   "metadata": {},
   "source": [
    "Every document is provided the ground truth label by imposing its `overall` rating. This completes our finalized `model_df` dataframe."
   ]
  },
  {
   "cell_type": "code",
   "execution_count": 36,
   "metadata": {
    "scrolled": false
   },
   "outputs": [
    {
     "data": {
      "text/html": [
       "<div>\n",
       "<style scoped>\n",
       "    .dataframe tbody tr th:only-of-type {\n",
       "        vertical-align: middle;\n",
       "    }\n",
       "\n",
       "    .dataframe tbody tr th {\n",
       "        vertical-align: top;\n",
       "    }\n",
       "\n",
       "    .dataframe thead th {\n",
       "        text-align: right;\n",
       "    }\n",
       "</style>\n",
       "<table border=\"1\" class=\"dataframe\">\n",
       "  <thead>\n",
       "    <tr style=\"text-align: right;\">\n",
       "      <th></th>\n",
       "      <th>0</th>\n",
       "      <th>1</th>\n",
       "      <th>2</th>\n",
       "      <th>3</th>\n",
       "      <th>4</th>\n",
       "      <th>5</th>\n",
       "      <th>6</th>\n",
       "      <th>7</th>\n",
       "      <th>8</th>\n",
       "      <th>9</th>\n",
       "      <th>...</th>\n",
       "      <th>91</th>\n",
       "      <th>92</th>\n",
       "      <th>93</th>\n",
       "      <th>94</th>\n",
       "      <th>95</th>\n",
       "      <th>96</th>\n",
       "      <th>97</th>\n",
       "      <th>98</th>\n",
       "      <th>99</th>\n",
       "      <th>label</th>\n",
       "    </tr>\n",
       "  </thead>\n",
       "  <tbody>\n",
       "    <tr>\n",
       "      <th>0</th>\n",
       "      <td>1.060511</td>\n",
       "      <td>-0.188223</td>\n",
       "      <td>-1.115128</td>\n",
       "      <td>0.362478</td>\n",
       "      <td>0.119871</td>\n",
       "      <td>0.998860</td>\n",
       "      <td>-1.463232</td>\n",
       "      <td>-0.143590</td>\n",
       "      <td>-0.202608</td>\n",
       "      <td>0.693012</td>\n",
       "      <td>...</td>\n",
       "      <td>-1.900333</td>\n",
       "      <td>-1.395217</td>\n",
       "      <td>0.004696</td>\n",
       "      <td>-0.846067</td>\n",
       "      <td>0.007666</td>\n",
       "      <td>0.698607</td>\n",
       "      <td>-0.440302</td>\n",
       "      <td>0.402417</td>\n",
       "      <td>0.177233</td>\n",
       "      <td>NaN</td>\n",
       "    </tr>\n",
       "    <tr>\n",
       "      <th>1</th>\n",
       "      <td>0.891368</td>\n",
       "      <td>-0.790383</td>\n",
       "      <td>-1.417212</td>\n",
       "      <td>0.748750</td>\n",
       "      <td>-1.663503</td>\n",
       "      <td>-0.814701</td>\n",
       "      <td>-0.004924</td>\n",
       "      <td>0.921140</td>\n",
       "      <td>-0.263571</td>\n",
       "      <td>-1.453477</td>\n",
       "      <td>...</td>\n",
       "      <td>-0.612079</td>\n",
       "      <td>0.629601</td>\n",
       "      <td>0.779798</td>\n",
       "      <td>0.906917</td>\n",
       "      <td>0.025658</td>\n",
       "      <td>0.577646</td>\n",
       "      <td>0.190882</td>\n",
       "      <td>1.190661</td>\n",
       "      <td>0.824445</td>\n",
       "      <td>NaN</td>\n",
       "    </tr>\n",
       "    <tr>\n",
       "      <th>2</th>\n",
       "      <td>0.992819</td>\n",
       "      <td>-0.578294</td>\n",
       "      <td>-1.753037</td>\n",
       "      <td>-0.246599</td>\n",
       "      <td>0.621295</td>\n",
       "      <td>0.340919</td>\n",
       "      <td>0.657904</td>\n",
       "      <td>0.068378</td>\n",
       "      <td>-0.548838</td>\n",
       "      <td>-0.889405</td>\n",
       "      <td>...</td>\n",
       "      <td>-0.298908</td>\n",
       "      <td>0.132332</td>\n",
       "      <td>0.660255</td>\n",
       "      <td>-0.103366</td>\n",
       "      <td>-0.825894</td>\n",
       "      <td>0.063889</td>\n",
       "      <td>0.006260</td>\n",
       "      <td>-0.778452</td>\n",
       "      <td>-0.055913</td>\n",
       "      <td>NaN</td>\n",
       "    </tr>\n",
       "    <tr>\n",
       "      <th>3</th>\n",
       "      <td>-0.047363</td>\n",
       "      <td>0.841540</td>\n",
       "      <td>-1.503287</td>\n",
       "      <td>0.574135</td>\n",
       "      <td>1.264495</td>\n",
       "      <td>0.401423</td>\n",
       "      <td>-0.114395</td>\n",
       "      <td>-0.111660</td>\n",
       "      <td>0.992983</td>\n",
       "      <td>-1.897826</td>\n",
       "      <td>...</td>\n",
       "      <td>-0.561008</td>\n",
       "      <td>-1.178640</td>\n",
       "      <td>0.296056</td>\n",
       "      <td>1.037051</td>\n",
       "      <td>-1.279606</td>\n",
       "      <td>0.767893</td>\n",
       "      <td>-0.765034</td>\n",
       "      <td>2.213472</td>\n",
       "      <td>1.210326</td>\n",
       "      <td>NaN</td>\n",
       "    </tr>\n",
       "    <tr>\n",
       "      <th>4</th>\n",
       "      <td>1.256347</td>\n",
       "      <td>-0.637179</td>\n",
       "      <td>-1.493984</td>\n",
       "      <td>1.059257</td>\n",
       "      <td>-0.970549</td>\n",
       "      <td>-1.404447</td>\n",
       "      <td>-0.472565</td>\n",
       "      <td>1.561990</td>\n",
       "      <td>-2.069466</td>\n",
       "      <td>0.201867</td>\n",
       "      <td>...</td>\n",
       "      <td>-1.325816</td>\n",
       "      <td>0.038941</td>\n",
       "      <td>-0.327367</td>\n",
       "      <td>1.010343</td>\n",
       "      <td>-0.590240</td>\n",
       "      <td>0.791885</td>\n",
       "      <td>1.099817</td>\n",
       "      <td>-0.458528</td>\n",
       "      <td>0.494933</td>\n",
       "      <td>NaN</td>\n",
       "    </tr>\n",
       "  </tbody>\n",
       "</table>\n",
       "<p>5 rows × 101 columns</p>\n",
       "</div>"
      ],
      "text/plain": [
       "          0         1         2         3         4         5         6  \\\n",
       "0  1.060511 -0.188223 -1.115128  0.362478  0.119871  0.998860 -1.463232   \n",
       "1  0.891368 -0.790383 -1.417212  0.748750 -1.663503 -0.814701 -0.004924   \n",
       "2  0.992819 -0.578294 -1.753037 -0.246599  0.621295  0.340919  0.657904   \n",
       "3 -0.047363  0.841540 -1.503287  0.574135  1.264495  0.401423 -0.114395   \n",
       "4  1.256347 -0.637179 -1.493984  1.059257 -0.970549 -1.404447 -0.472565   \n",
       "\n",
       "          7         8         9  ...        91        92        93        94  \\\n",
       "0 -0.143590 -0.202608  0.693012  ... -1.900333 -1.395217  0.004696 -0.846067   \n",
       "1  0.921140 -0.263571 -1.453477  ... -0.612079  0.629601  0.779798  0.906917   \n",
       "2  0.068378 -0.548838 -0.889405  ... -0.298908  0.132332  0.660255 -0.103366   \n",
       "3 -0.111660  0.992983 -1.897826  ... -0.561008 -1.178640  0.296056  1.037051   \n",
       "4  1.561990 -2.069466  0.201867  ... -1.325816  0.038941 -0.327367  1.010343   \n",
       "\n",
       "         95        96        97        98        99  label  \n",
       "0  0.007666  0.698607 -0.440302  0.402417  0.177233    NaN  \n",
       "1  0.025658  0.577646  0.190882  1.190661  0.824445    NaN  \n",
       "2 -0.825894  0.063889  0.006260 -0.778452 -0.055913    NaN  \n",
       "3 -1.279606  0.767893 -0.765034  2.213472  1.210326    NaN  \n",
       "4 -0.590240  0.791885  1.099817 -0.458528  0.494933    NaN  \n",
       "\n",
       "[5 rows x 101 columns]"
      ]
     },
     "metadata": {},
     "output_type": "display_data"
    }
   ],
   "source": [
    "model_df = pd.DataFrame(model_array)\n",
    "model_df[\"label\"] = df[\"overall\"]\n",
    "\n",
    "display(model_df.head())"
   ]
  },
  {
   "cell_type": "markdown",
   "metadata": {},
   "source": [
    "## Principal Component Analysis ##\n",
    "Principal Component Analysis (*PCA*) is a dimensionality reduction technique that we can use on our `model_df` to reduce its 100 dimensions to just two dimensions. This will help visualize if there is a clear decision boundary along the five `overall` rating classifications. The more datapoints belonging to the same class are clustered together, the higher the likelihood that our machine learning model is simpler and more effective."
   ]
  },
  {
   "cell_type": "markdown",
   "metadata": {},
   "source": [
    "# TD-IDF"
   ]
  },
  {
   "cell_type": "code",
   "execution_count": 37,
   "metadata": {},
   "outputs": [
    {
     "data": {
      "text/html": [
       "<div>\n",
       "<style scoped>\n",
       "    .dataframe tbody tr th:only-of-type {\n",
       "        vertical-align: middle;\n",
       "    }\n",
       "\n",
       "    .dataframe tbody tr th {\n",
       "        vertical-align: top;\n",
       "    }\n",
       "\n",
       "    .dataframe thead th {\n",
       "        text-align: right;\n",
       "    }\n",
       "</style>\n",
       "<table border=\"1\" class=\"dataframe\">\n",
       "  <thead>\n",
       "    <tr style=\"text-align: right;\">\n",
       "      <th></th>\n",
       "      <th>overall</th>\n",
       "      <th>title</th>\n",
       "      <th>reviewText</th>\n",
       "      <th>preprocessed</th>\n",
       "      <th>Positively_Rated</th>\n",
       "    </tr>\n",
       "  </thead>\n",
       "  <tbody>\n",
       "    <tr>\n",
       "      <th>172280</th>\n",
       "      <td>5</td>\n",
       "      <td>Excellent product</td>\n",
       "      <td>I bought this knee brace for my son who was co...</td>\n",
       "      <td>buy knee brace son come knee surgery torn meni...</td>\n",
       "      <td>1</td>\n",
       "    </tr>\n",
       "    <tr>\n",
       "      <th>342053</th>\n",
       "      <td>5</td>\n",
       "      <td>IF YOU LIKE MAPS AND COLOR PICTURES, THIS IS Y...</td>\n",
       "      <td>This is a great book for people who like lots ...</td>\n",
       "      <td>great book people like lot picture map provide...</td>\n",
       "      <td>1</td>\n",
       "    </tr>\n",
       "    <tr>\n",
       "      <th>345256</th>\n",
       "      <td>2</td>\n",
       "      <td>Would be great but BUGGY</td>\n",
       "      <td>This game has so much potential, but it is fil...</td>\n",
       "      <td>game much potential fill fatal bug patch yet a...</td>\n",
       "      <td>0</td>\n",
       "    </tr>\n",
       "    <tr>\n",
       "      <th>82597</th>\n",
       "      <td>5</td>\n",
       "      <td>Works as expected.</td>\n",
       "      <td>It's no frills, which is all I wanted. The cor...</td>\n",
       "      <td>frill want cord long enough conveniently place...</td>\n",
       "      <td>1</td>\n",
       "    </tr>\n",
       "    <tr>\n",
       "      <th>425572</th>\n",
       "      <td>1</td>\n",
       "      <td>horrible</td>\n",
       "      <td>horrible, absurd, cartoonish, ridiculous. do n...</td>\n",
       "      <td>horrible absurd cartoonish ridiculous waste tw...</td>\n",
       "      <td>0</td>\n",
       "    </tr>\n",
       "    <tr>\n",
       "      <th>...</th>\n",
       "      <td>...</td>\n",
       "      <td>...</td>\n",
       "      <td>...</td>\n",
       "      <td>...</td>\n",
       "      <td>...</td>\n",
       "    </tr>\n",
       "    <tr>\n",
       "      <th>681236</th>\n",
       "      <td>4</td>\n",
       "      <td>bubble gum music lives!</td>\n",
       "      <td>Hail to bobby sherman! Now HE WAS THE ULTIMATE...</td>\n",
       "      <td>hail bobby sherman ultimate pin poster good lo...</td>\n",
       "      <td>1</td>\n",
       "    </tr>\n",
       "    <tr>\n",
       "      <th>473291</th>\n",
       "      <td>4</td>\n",
       "      <td>They're blind and deaf or liars or idiots or a...</td>\n",
       "      <td>THE AUDIO AND VIDEO OF THIS FLICK ARE JUST FIN...</td>\n",
       "      <td>audio video flick fine find tame see ever shoc...</td>\n",
       "      <td>1</td>\n",
       "    </tr>\n",
       "    <tr>\n",
       "      <th>546197</th>\n",
       "      <td>5</td>\n",
       "      <td>Best Marley kids' album yet</td>\n",
       "      <td>This cd is great. It is both smoothe and relax...</td>\n",
       "      <td>cd great smoothe relaxing intense sensitive ev...</td>\n",
       "      <td>1</td>\n",
       "    </tr>\n",
       "    <tr>\n",
       "      <th>607499</th>\n",
       "      <td>4</td>\n",
       "      <td>Attactor Factor</td>\n",
       "      <td>This Book in incredible for keeping you on tra...</td>\n",
       "      <td>book incredible keep track focus positive thin...</td>\n",
       "      <td>1</td>\n",
       "    </tr>\n",
       "    <tr>\n",
       "      <th>158807</th>\n",
       "      <td>5</td>\n",
       "      <td>Trance at its best?</td>\n",
       "      <td>Here we have two guys from Sweden doing what t...</td>\n",
       "      <td>two guy sweden best first worldwide release an...</td>\n",
       "      <td>1</td>\n",
       "    </tr>\n",
       "  </tbody>\n",
       "</table>\n",
       "<p>100 rows × 5 columns</p>\n",
       "</div>"
      ],
      "text/plain": [
       "        overall                                              title  \\\n",
       "172280        5                                  Excellent product   \n",
       "342053        5  IF YOU LIKE MAPS AND COLOR PICTURES, THIS IS Y...   \n",
       "345256        2                           Would be great but BUGGY   \n",
       "82597         5                                 Works as expected.   \n",
       "425572        1                                           horrible   \n",
       "...         ...                                                ...   \n",
       "681236        4                            bubble gum music lives!   \n",
       "473291        4  They're blind and deaf or liars or idiots or a...   \n",
       "546197        5                        Best Marley kids' album yet   \n",
       "607499        4                                    Attactor Factor   \n",
       "158807        5                                Trance at its best?   \n",
       "\n",
       "                                               reviewText  \\\n",
       "172280  I bought this knee brace for my son who was co...   \n",
       "342053  This is a great book for people who like lots ...   \n",
       "345256  This game has so much potential, but it is fil...   \n",
       "82597   It's no frills, which is all I wanted. The cor...   \n",
       "425572  horrible, absurd, cartoonish, ridiculous. do n...   \n",
       "...                                                   ...   \n",
       "681236  Hail to bobby sherman! Now HE WAS THE ULTIMATE...   \n",
       "473291  THE AUDIO AND VIDEO OF THIS FLICK ARE JUST FIN...   \n",
       "546197  This cd is great. It is both smoothe and relax...   \n",
       "607499  This Book in incredible for keeping you on tra...   \n",
       "158807  Here we have two guys from Sweden doing what t...   \n",
       "\n",
       "                                             preprocessed  Positively_Rated  \n",
       "172280  buy knee brace son come knee surgery torn meni...                 1  \n",
       "342053  great book people like lot picture map provide...                 1  \n",
       "345256  game much potential fill fatal bug patch yet a...                 0  \n",
       "82597   frill want cord long enough conveniently place...                 1  \n",
       "425572  horrible absurd cartoonish ridiculous waste tw...                 0  \n",
       "...                                                   ...               ...  \n",
       "681236  hail bobby sherman ultimate pin poster good lo...                 1  \n",
       "473291  audio video flick fine find tame see ever shoc...                 1  \n",
       "546197  cd great smoothe relaxing intense sensitive ev...                 1  \n",
       "607499  book incredible keep track focus positive thin...                 1  \n",
       "158807  two guy sweden best first worldwide release an...                 1  \n",
       "\n",
       "[100 rows x 5 columns]"
      ]
     },
     "execution_count": 37,
     "metadata": {},
     "output_type": "execute_result"
    }
   ],
   "source": [
    "df.dropna(inplace=True)\n",
    "df = df[df['overall']!= 3]\n",
    "df['Positively_Rated'] = np.where(df['overall']>3, 1, 0)\n",
    "df.head(100)"
   ]
  },
  {
   "cell_type": "code",
   "execution_count": 38,
   "metadata": {},
   "outputs": [
    {
     "data": {
      "text/html": [
       "<div>\n",
       "<style scoped>\n",
       "    .dataframe tbody tr th:only-of-type {\n",
       "        vertical-align: middle;\n",
       "    }\n",
       "\n",
       "    .dataframe tbody tr th {\n",
       "        vertical-align: top;\n",
       "    }\n",
       "\n",
       "    .dataframe thead th {\n",
       "        text-align: right;\n",
       "    }\n",
       "</style>\n",
       "<table border=\"1\" class=\"dataframe\">\n",
       "  <thead>\n",
       "    <tr style=\"text-align: right;\">\n",
       "      <th>col_0</th>\n",
       "      <th>Total count</th>\n",
       "    </tr>\n",
       "    <tr>\n",
       "      <th>Positively_Rated</th>\n",
       "      <th></th>\n",
       "    </tr>\n",
       "  </thead>\n",
       "  <tbody>\n",
       "    <tr>\n",
       "      <th>0</th>\n",
       "      <td>75011</td>\n",
       "    </tr>\n",
       "    <tr>\n",
       "      <th>1</th>\n",
       "      <td>74854</td>\n",
       "    </tr>\n",
       "  </tbody>\n",
       "</table>\n",
       "</div>"
      ],
      "text/plain": [
       "col_0             Total count\n",
       "Positively_Rated             \n",
       "0                       75011\n",
       "1                       74854"
      ]
     },
     "execution_count": 38,
     "metadata": {},
     "output_type": "execute_result"
    }
   ],
   "source": [
    "pd.crosstab(index = df['Positively_Rated'], columns=\"Total count\")"
   ]
  },
  {
   "cell_type": "code",
   "execution_count": 39,
   "metadata": {},
   "outputs": [],
   "source": [
    "from sklearn.model_selection import train_test_split\n",
    "# Split data into training and test sets\n",
    "X_train, X_test, y_train, y_test = train_test_split(df['reviewText'], df['Positively_Rated'], test_size=0.20, random_state=0)"
   ]
  },
  {
   "cell_type": "code",
   "execution_count": 40,
   "metadata": {},
   "outputs": [
    {
     "name": "stdout",
     "output_type": "stream",
     "text": [
      "X_train first entry:\n",
      "\n",
      " \"Swedish Exodus\" is an indespensible reference for Swedish researchers. In these pages one can find out why so many Swedes decided to come to America, how they mananged it, where they emigrated to in America, how many came during each year of the mass migration, how many remigrated each year, how many came from each major Swedish district, and how they did in America. It even outlines the consequences of the emigration on Sweden. It is nicely indexed, contains a useful bibliography, and is illustrated with photos and drawings.\n",
      "\n",
      "\n",
      "X_train shape:  (119892,)\n"
     ]
    }
   ],
   "source": [
    "print('X_train first entry:\\n\\n', X_train.iloc[2])\n",
    "print('\\n\\nX_train shape: ', X_train.shape)"
   ]
  },
  {
   "cell_type": "code",
   "execution_count": 41,
   "metadata": {},
   "outputs": [
    {
     "data": {
      "text/plain": [
       "['00',\n",
       " '0stars',\n",
       " '10rock',\n",
       " '130mbs',\n",
       " '1600g',\n",
       " '1860',\n",
       " '1997s',\n",
       " '20dbgain',\n",
       " '2500mah',\n",
       " '2inches',\n",
       " '32',\n",
       " '38oz',\n",
       " '4137',\n",
       " '4ever',\n",
       " '530platinum',\n",
       " '5vdc',\n",
       " '6980',\n",
       " '77121',\n",
       " '8830',\n",
       " '970hd',\n",
       " '_the',\n",
       " 'abdiel',\n",
       " 'absalom',\n",
       " 'accents',\n",
       " 'accustome',\n",
       " 'acrobats',\n",
       " 'adaptable',\n",
       " 'adjustible',\n",
       " 'advaita',\n",
       " 'aewsome',\n",
       " 'afternoons',\n",
       " 'agregarlos',\n",
       " 'airforce',\n",
       " 'alaska',\n",
       " 'alford',\n",
       " 'allister',\n",
       " 'alround',\n",
       " 'amang',\n",
       " 'america',\n",
       " 'amplio',\n",
       " 'and2',\n",
       " 'ane',\n",
       " 'ankrum',\n",
       " 'answeres',\n",
       " 'antrim',\n",
       " 'apertures',\n",
       " 'apple15',\n",
       " 'aprons',\n",
       " 'architectandsoothing',\n",
       " 'ariginal',\n",
       " 'array',\n",
       " 'asan',\n",
       " 'aspergers',\n",
       " 'asterix',\n",
       " 'athough',\n",
       " 'attention',\n",
       " 'auktyon',\n",
       " 'automoton',\n",
       " 'avril',\n",
       " 'azkaban',\n",
       " 'bachmann',\n",
       " 'baduk',\n",
       " 'balked',\n",
       " 'banished',\n",
       " 'barkley',\n",
       " 'basiclly',\n",
       " 'battlebegin',\n",
       " 'bealer',\n",
       " 'becaurfull',\n",
       " 'beforehand',\n",
       " 'belgian',\n",
       " 'beneficiary',\n",
       " 'berries',\n",
       " 'beutiful',\n",
       " 'bifocal',\n",
       " 'biogeography',\n",
       " 'biters',\n",
       " 'bladeplay',\n",
       " 'blightfully',\n",
       " 'blowhards',\n",
       " 'boaz',\n",
       " 'boll',\n",
       " 'book3',\n",
       " 'boots',\n",
       " 'botkin',\n",
       " 'boycot',\n",
       " 'brannon',\n",
       " 'breeds',\n",
       " 'brimley',\n",
       " 'brolan',\n",
       " 'brutaly',\n",
       " 'buehrens',\n",
       " 'bulova',\n",
       " 'burnette8',\n",
       " 'butterflies',\n",
       " 'bzkt',\n",
       " 'cafeterianot',\n",
       " 'callisto',\n",
       " 'camr',\n",
       " 'cansiones',\n",
       " 'captivating',\n",
       " 'carhartt',\n",
       " 'cars',\n",
       " 'cassis',\n",
       " 'catologe',\n",
       " 'ccomponents',\n",
       " 'centered',\n",
       " 'chace',\n",
       " 'channey',\n",
       " 'charicters',\n",
       " 'cheapskate',\n",
       " 'cheseborough',\n",
       " 'chime',\n",
       " 'chon',\n",
       " 'chronilogically',\n",
       " 'cinematograhy',\n",
       " 'ckish',\n",
       " 'clavat',\n",
       " 'clifftop',\n",
       " 'cloying',\n",
       " 'cobs',\n",
       " 'coincendtially',\n",
       " 'collie',\n",
       " 'combinbe',\n",
       " 'commending',\n",
       " 'compareable',\n",
       " 'complexion',\n",
       " 'comseeya',\n",
       " 'condering',\n",
       " 'confusing',\n",
       " 'conran',\n",
       " 'constraint',\n",
       " 'contininuing',\n",
       " 'conver',\n",
       " 'coordinated',\n",
       " 'coriandrum',\n",
       " 'corsair',\n",
       " 'councils',\n",
       " 'coverall',\n",
       " 'cramed',\n",
       " 'creats',\n",
       " 'cripness',\n",
       " 'crosstab',\n",
       " 'cryptx',\n",
       " 'culloden',\n",
       " 'curtural',\n",
       " 'cyd',\n",
       " 'dagon',\n",
       " 'dangeraus',\n",
       " 'dartboard',\n",
       " 'daytrips',\n",
       " 'deathball',\n",
       " 'decieds',\n",
       " 'deerso',\n",
       " 'defintite',\n",
       " 'delco',\n",
       " 'demanded',\n",
       " 'denota',\n",
       " 'derek',\n",
       " 'desertland',\n",
       " 'desvia',\n",
       " 'devereux',\n",
       " 'diagraming',\n",
       " 'didges',\n",
       " 'digipack',\n",
       " 'dink',\n",
       " 'disaposable',\n",
       " 'discotheque',\n",
       " 'disillusionment',\n",
       " 'displeasing',\n",
       " 'distace',\n",
       " 'divinyls',\n",
       " 'documentery',\n",
       " 'dominao',\n",
       " 'dopes',\n",
       " 'downable',\n",
       " 'draiman',\n",
       " 'dress',\n",
       " 'druglord',\n",
       " 'dud',\n",
       " 'dupa',\n",
       " 'dvdstretch',\n",
       " 'e5',\n",
       " 'easing',\n",
       " 'economical',\n",
       " 'eductor',\n",
       " 'egyptand',\n",
       " 'elder',\n",
       " 'elie',\n",
       " 'emaluate',\n",
       " 'emma',\n",
       " 'enamoured',\n",
       " 'endup',\n",
       " 'enjoyably',\n",
       " 'enterprises',\n",
       " 'envisaged',\n",
       " 'epsteinsmutha',\n",
       " 'eroding',\n",
       " 'esmer',\n",
       " 'estonians',\n",
       " 'europeans',\n",
       " 'everyman',\n",
       " 'exagerration',\n",
       " 'exclusions',\n",
       " 'exhortation',\n",
       " 'experiance',\n",
       " 'expounding',\n",
       " 'extrememly',\n",
       " 'fac',\n",
       " 'faithfull',\n",
       " 'fanfic',\n",
       " 'fasciitis',\n",
       " 'favirot',\n",
       " 'feeb',\n",
       " 'ferenc',\n",
       " 'fibonacci',\n",
       " 'fillings',\n",
       " 'finisher',\n",
       " 'fisherprice',\n",
       " 'flanders',\n",
       " 'fletching',\n",
       " 'florist',\n",
       " 'focals',\n",
       " 'fooeld',\n",
       " 'foreverxxx',\n",
       " 'fortuitous',\n",
       " 'fragmentation',\n",
       " 'fredo',\n",
       " 'fridays',\n",
       " 'frontpage',\n",
       " 'fukien',\n",
       " 'funtion',\n",
       " 'g54hp',\n",
       " 'gallop',\n",
       " 'garbeage',\n",
       " 'gatsby',\n",
       " 'gelatin',\n",
       " 'gentlman',\n",
       " 'getabstract',\n",
       " 'gigablock',\n",
       " 'gita',\n",
       " 'glimps',\n",
       " 'gnaw',\n",
       " 'goldbergs',\n",
       " 'goofiness',\n",
       " 'gouges',\n",
       " 'graininess',\n",
       " 'gratefull',\n",
       " 'greenface',\n",
       " 'gring',\n",
       " 'grouped',\n",
       " 'guardsmen',\n",
       " 'gummis',\n",
       " 'gwwild',\n",
       " 'hadley',\n",
       " 'hallima',\n",
       " 'handidly',\n",
       " 'happerned',\n",
       " 'harmonious',\n",
       " 'hastles',\n",
       " 'haworth',\n",
       " 'headspace',\n",
       " 'heavyweight',\n",
       " 'helio',\n",
       " 'hepinstall',\n",
       " 'hesitation',\n",
       " 'high12',\n",
       " 'hindering',\n",
       " 'hitman',\n",
       " 'hoisted',\n",
       " 'homenaje',\n",
       " 'hooha',\n",
       " 'horrific',\n",
       " 'housebroken',\n",
       " 'htem',\n",
       " 'humiliated',\n",
       " 'husted',\n",
       " 'hypocracy',\n",
       " 'icnd',\n",
       " 'ifthe',\n",
       " 'illusionary',\n",
       " 'immeditaley',\n",
       " 'implict',\n",
       " 'inaccurate3',\n",
       " 'incomparable',\n",
       " 'indentation',\n",
       " 'inedito',\n",
       " 'inflicted',\n",
       " 'inhis',\n",
       " 'inordinate',\n",
       " 'inspireing',\n",
       " 'insultingly',\n",
       " 'interdisciplinary',\n",
       " 'interpretted',\n",
       " 'intreging',\n",
       " 'investingate',\n",
       " 'irishness',\n",
       " 'ishalf',\n",
       " 'italy',\n",
       " 'iw',\n",
       " 'jambalaya9',\n",
       " 'javaer',\n",
       " 'jenell',\n",
       " 'jibed',\n",
       " 'johanssen',\n",
       " 'journeyed',\n",
       " 'juillet',\n",
       " 'jute',\n",
       " 'kamelot',\n",
       " 'katamari',\n",
       " 'keeps',\n",
       " 'kersh',\n",
       " 'kidde',\n",
       " 'kindnesses',\n",
       " 'kiyosaki',\n",
       " 'knopfler',\n",
       " 'konularn',\n",
       " 'kray',\n",
       " 'kuku',\n",
       " 'laboratories',\n",
       " 'lakeside',\n",
       " 'lankford',\n",
       " 'latarski',\n",
       " 'lawandorder',\n",
       " 'learned',\n",
       " 'legendsof',\n",
       " 'lensso',\n",
       " 'leverls',\n",
       " 'licked',\n",
       " 'lightweightpocket',\n",
       " 'lindas',\n",
       " 'lisening',\n",
       " 'livein',\n",
       " 'lobbying',\n",
       " 'loma2',\n",
       " 'loosers',\n",
       " 'lovedit',\n",
       " 'lucado',\n",
       " 'lunaire',\n",
       " 'lyndon',\n",
       " 'maccleary',\n",
       " 'madeas',\n",
       " 'magnitude',\n",
       " 'makescompetition',\n",
       " 'mamoulian',\n",
       " 'mankel',\n",
       " 'marathoner',\n",
       " 'marker',\n",
       " 'marty',\n",
       " 'masterson',\n",
       " 'matters',\n",
       " 'maysong',\n",
       " 'mcgillis',\n",
       " 'meagan',\n",
       " 'medio',\n",
       " 'melds',\n",
       " 'mendleev',\n",
       " 'merrells',\n",
       " 'method6',\n",
       " 'micheal',\n",
       " 'midwesterner',\n",
       " 'millitary',\n",
       " 'minisodes',\n",
       " 'misandrist',\n",
       " 'misrepresening',\n",
       " 'mixersregards',\n",
       " 'modeaf',\n",
       " 'molds',\n",
       " 'moniz',\n",
       " 'moonflower',\n",
       " 'morniong',\n",
       " 'motive',\n",
       " 'moviesor',\n",
       " 'muchachos',\n",
       " 'multifuntional',\n",
       " 'muscic',\n",
       " 'mutters',\n",
       " 'mysteris',\n",
       " 'najeeb',\n",
       " 'nasality',\n",
       " 'nazel',\n",
       " 'needyear',\n",
       " 'nephillimi',\n",
       " 'nevermore',\n",
       " 'niam',\n",
       " 'nights',\n",
       " 'nixed',\n",
       " 'non',\n",
       " 'north',\n",
       " 'notreally',\n",
       " 'nubian',\n",
       " 'nutri',\n",
       " 'obeserved',\n",
       " 'obtiene',\n",
       " 'odetsstarts',\n",
       " 'ofgrow',\n",
       " 'olajuwon',\n",
       " 'onc',\n",
       " 'oone',\n",
       " 'opposes',\n",
       " 'ordination',\n",
       " 'orlagh',\n",
       " 'ostreicher',\n",
       " 'outdid',\n",
       " 'outting',\n",
       " 'overintellectualizing',\n",
       " 'overused',\n",
       " 'paart',\n",
       " 'painhope',\n",
       " 'panadol',\n",
       " 'papyri',\n",
       " 'parissa',\n",
       " 'pasage',\n",
       " 'pathworking',\n",
       " 'pazzia',\n",
       " 'peddle',\n",
       " 'pencils',\n",
       " 'pequenas',\n",
       " 'peril',\n",
       " 'persico',\n",
       " 'peters',\n",
       " 'phasesas',\n",
       " 'photographing',\n",
       " 'pictoral',\n",
       " 'pimps',\n",
       " 'pitcairn',\n",
       " 'planall',\n",
       " 'playng',\n",
       " 'plotscarrie',\n",
       " 'podhoretz',\n",
       " 'politically2',\n",
       " 'pool',\n",
       " 'pors',\n",
       " 'possitive',\n",
       " 'pov',\n",
       " 'pragmatism',\n",
       " 'predicted',\n",
       " 'prepairing',\n",
       " 'presupositions',\n",
       " 'primero',\n",
       " 'probed',\n",
       " 'produto',\n",
       " 'prolog',\n",
       " 'proportioned',\n",
       " 'protuding',\n",
       " 'psicadelic',\n",
       " 'pubs',\n",
       " 'punkscene',\n",
       " 'pursuits',\n",
       " 'qc2',\n",
       " 'quatermain',\n",
       " 'quilts',\n",
       " 'rachal',\n",
       " 'rai',\n",
       " 'ramona',\n",
       " 'rascalssaid',\n",
       " 'rawr',\n",
       " 'readthatagain',\n",
       " 'rears',\n",
       " 'received2',\n",
       " 'recomemended',\n",
       " 'recruiting',\n",
       " 'reeboks',\n",
       " 'refreshed',\n",
       " 'regulari',\n",
       " 'rejuveniles',\n",
       " 'relistenin',\n",
       " 'remorseful',\n",
       " 'reparied',\n",
       " 'reppen',\n",
       " 'research',\n",
       " 'respiratory',\n",
       " 'retaliating',\n",
       " 'reveiw',\n",
       " 'rewires',\n",
       " 'richest',\n",
       " 'righwing',\n",
       " 'riuch',\n",
       " 'robotech',\n",
       " 'rol',\n",
       " 'roommate',\n",
       " 'rougeans',\n",
       " 'rts',\n",
       " 'rumsfeld',\n",
       " 'ryo',\n",
       " 'sacrefice',\n",
       " 'salaciousness',\n",
       " 'samoa',\n",
       " 'santour',\n",
       " 'satisfaite',\n",
       " 'sayian',\n",
       " 'scattered',\n",
       " 'schnaas',\n",
       " 'scond',\n",
       " 'screenplays',\n",
       " 'sd630',\n",
       " 'secessionist',\n",
       " 'seething',\n",
       " 'sementery',\n",
       " 'sentimentally',\n",
       " 'serivice',\n",
       " 'severeal',\n",
       " 'shahid',\n",
       " 'sharkvac',\n",
       " 'shelter',\n",
       " 'shinzon',\n",
       " 'shopping',\n",
       " 'shreader',\n",
       " 'sick',\n",
       " 'signings',\n",
       " 'simpho',\n",
       " 'sintow',\n",
       " 'skanned',\n",
       " 'skov',\n",
       " 'sledgehammer',\n",
       " 'slooooooowww',\n",
       " 'smarty',\n",
       " 'snakelike',\n",
       " 'snowcone',\n",
       " 'soething',\n",
       " 'soloists',\n",
       " 'song16',\n",
       " 'sopranino',\n",
       " 'soundscape',\n",
       " 'spaniard',\n",
       " 'spectacles',\n",
       " 'spielberg',\n",
       " 'splurged',\n",
       " 'springstein',\n",
       " 'squirming',\n",
       " 'staedtler',\n",
       " 'stant',\n",
       " 'starwarsuniverse',\n",
       " 'steesand',\n",
       " 'sthe',\n",
       " 'stocker',\n",
       " 'storyit',\n",
       " 'straws',\n",
       " 'strogatz',\n",
       " 'stunned',\n",
       " 'subliterate',\n",
       " 'succesfully',\n",
       " 'sugarland',\n",
       " 'suncka',\n",
       " 'superjumps',\n",
       " 'supprise',\n",
       " 'survivorship',\n",
       " 'swampy',\n",
       " 'swipes',\n",
       " 'symphonic',\n",
       " 't24',\n",
       " 'taijutsu',\n",
       " 'tamborine',\n",
       " 'targer',\n",
       " 'taymor',\n",
       " 'technicals',\n",
       " 'telefona',\n",
       " 'tenderizing',\n",
       " 'terrell',\n",
       " 'texturizing',\n",
       " 'thearpy',\n",
       " 'themind',\n",
       " 'thermopoliswhat',\n",
       " 'thieves',\n",
       " 'thoiseach',\n",
       " 'thrillerthat',\n",
       " 'thyroid',\n",
       " 'tilton',\n",
       " 'tiping',\n",
       " 'toadboy',\n",
       " 'tolast',\n",
       " 'tool',\n",
       " 'torre',\n",
       " 'touré',\n",
       " 'trades',\n",
       " 'transcriber',\n",
       " 'tratado',\n",
       " 'trenton',\n",
       " 'trinitarian',\n",
       " 'troup',\n",
       " 'tsettos',\n",
       " 'tung',\n",
       " 'tuymans',\n",
       " 'tycoons',\n",
       " 'uffda',\n",
       " 'umg',\n",
       " 'unbreakability',\n",
       " 'under13',\n",
       " 'underwire',\n",
       " 'unfeeling',\n",
       " 'unimpeachable',\n",
       " 'unload',\n",
       " 'unprinted',\n",
       " 'unsexy',\n",
       " 'unviewed',\n",
       " 'upscons',\n",
       " 'useless',\n",
       " 'uzis',\n",
       " 'valled',\n",
       " 'various',\n",
       " 'vehiclesi',\n",
       " 'verdaderamente',\n",
       " 'veterens',\n",
       " 'viderunt',\n",
       " 'vinyl',\n",
       " 'vitage',\n",
       " 'voir',\n",
       " 'vrey',\n",
       " 'wag',\n",
       " 'walnuts',\n",
       " 'waror',\n",
       " 'waterboarding',\n",
       " 'we',\n",
       " 'weeks',\n",
       " 'wendall',\n",
       " 'whacky',\n",
       " 'whimsey',\n",
       " 'whoever',\n",
       " 'wiggle',\n",
       " 'win8',\n",
       " 'wired',\n",
       " 'witout',\n",
       " 'womanlove',\n",
       " 'wordness',\n",
       " 'worthwile',\n",
       " 'wrinkled',\n",
       " 'wwv',\n",
       " 'xmidi',\n",
       " 'yanks',\n",
       " 'yesturday',\n",
       " 'yound',\n",
       " 'yvon',\n",
       " 'zeitoun',\n",
       " 'zisk',\n",
       " 'zzzzzzzzzzz']"
      ]
     },
     "execution_count": 41,
     "metadata": {},
     "output_type": "execute_result"
    }
   ],
   "source": [
    "from sklearn.feature_extraction.text import CountVectorizer\n",
    "# Fit the CountVectorizer to the training data\n",
    "vect = CountVectorizer().fit(X_train)\n",
    "# Array mapping from feature integer indices to feature name\n",
    "vect.get_feature_names()[::200]"
   ]
  },
  {
   "cell_type": "markdown",
   "metadata": {},
   "source": [
    "Now you have tokenized matrix of text document or reviews, you can use Logistic Regression or any other classifier to classify between the Negative and Positive Reviews for the limitation of this tutorial and just to show the intent of text classification and feature extraction techniques let us use logistic regression. Before you do that just have a look how feature matrix look like, using Vectorizer.transform() to make a document term matrix."
   ]
  },
  {
   "cell_type": "code",
   "execution_count": 42,
   "metadata": {},
   "outputs": [
    {
     "name": "stdout",
     "output_type": "stream",
     "text": [
      "Number of Features: 126851\n"
     ]
    }
   ],
   "source": [
    "feature_name = vect.get_feature_names()\n",
    "print(\"Number of Features: {}\".format(len(feature_name)))"
   ]
  },
  {
   "cell_type": "code",
   "execution_count": 43,
   "metadata": {},
   "outputs": [
    {
     "name": "stdout",
     "output_type": "stream",
     "text": [
      "Shape of matrix (119892, 126851)\n"
     ]
    },
    {
     "ename": "MemoryError",
     "evalue": "Unable to allocate 113. GiB for an array with shape (119892, 126851) and data type int64",
     "output_type": "error",
     "traceback": [
      "\u001b[1;31m---------------------------------------------------------------------------\u001b[0m",
      "\u001b[1;31mMemoryError\u001b[0m                               Traceback (most recent call last)",
      "\u001b[1;32m<ipython-input-43-d4b34b5ab9af>\u001b[0m in \u001b[0;36m<module>\u001b[1;34m\u001b[0m\n\u001b[0;32m      2\u001b[0m \u001b[0mX_train_vectorized\u001b[0m \u001b[1;33m=\u001b[0m \u001b[0mvect\u001b[0m\u001b[1;33m.\u001b[0m\u001b[0mtransform\u001b[0m\u001b[1;33m(\u001b[0m\u001b[0mX_train\u001b[0m\u001b[1;33m)\u001b[0m\u001b[1;33m\u001b[0m\u001b[1;33m\u001b[0m\u001b[0m\n\u001b[0;32m      3\u001b[0m \u001b[0mprint\u001b[0m\u001b[1;33m(\u001b[0m\u001b[1;34m'Shape of matrix'\u001b[0m\u001b[1;33m,\u001b[0m \u001b[0mX_train_vectorized\u001b[0m\u001b[1;33m.\u001b[0m\u001b[0mshape\u001b[0m\u001b[1;33m)\u001b[0m\u001b[1;33m\u001b[0m\u001b[1;33m\u001b[0m\u001b[0m\n\u001b[1;32m----> 4\u001b[1;33m \u001b[0mprint\u001b[0m\u001b[1;33m(\u001b[0m\u001b[0mX_train_vectorized\u001b[0m\u001b[1;33m.\u001b[0m\u001b[0mtoarray\u001b[0m\u001b[1;33m(\u001b[0m\u001b[1;33m)\u001b[0m\u001b[1;33m[\u001b[0m\u001b[1;36m2\u001b[0m\u001b[1;33m]\u001b[0m\u001b[1;33m)\u001b[0m\u001b[1;33m\u001b[0m\u001b[1;33m\u001b[0m\u001b[0m\n\u001b[0m",
      "\u001b[1;32mC:\\ProgramData\\Anaconda3\\lib\\site-packages\\scipy\\sparse\\compressed.py\u001b[0m in \u001b[0;36mtoarray\u001b[1;34m(self, order, out)\u001b[0m\n\u001b[0;32m   1023\u001b[0m         \u001b[1;32mif\u001b[0m \u001b[0mout\u001b[0m \u001b[1;32mis\u001b[0m \u001b[1;32mNone\u001b[0m \u001b[1;32mand\u001b[0m \u001b[0morder\u001b[0m \u001b[1;32mis\u001b[0m \u001b[1;32mNone\u001b[0m\u001b[1;33m:\u001b[0m\u001b[1;33m\u001b[0m\u001b[1;33m\u001b[0m\u001b[0m\n\u001b[0;32m   1024\u001b[0m             \u001b[0morder\u001b[0m \u001b[1;33m=\u001b[0m \u001b[0mself\u001b[0m\u001b[1;33m.\u001b[0m\u001b[0m_swap\u001b[0m\u001b[1;33m(\u001b[0m\u001b[1;34m'cf'\u001b[0m\u001b[1;33m)\u001b[0m\u001b[1;33m[\u001b[0m\u001b[1;36m0\u001b[0m\u001b[1;33m]\u001b[0m\u001b[1;33m\u001b[0m\u001b[1;33m\u001b[0m\u001b[0m\n\u001b[1;32m-> 1025\u001b[1;33m         \u001b[0mout\u001b[0m \u001b[1;33m=\u001b[0m \u001b[0mself\u001b[0m\u001b[1;33m.\u001b[0m\u001b[0m_process_toarray_args\u001b[0m\u001b[1;33m(\u001b[0m\u001b[0morder\u001b[0m\u001b[1;33m,\u001b[0m \u001b[0mout\u001b[0m\u001b[1;33m)\u001b[0m\u001b[1;33m\u001b[0m\u001b[1;33m\u001b[0m\u001b[0m\n\u001b[0m\u001b[0;32m   1026\u001b[0m         \u001b[1;32mif\u001b[0m \u001b[1;32mnot\u001b[0m \u001b[1;33m(\u001b[0m\u001b[0mout\u001b[0m\u001b[1;33m.\u001b[0m\u001b[0mflags\u001b[0m\u001b[1;33m.\u001b[0m\u001b[0mc_contiguous\u001b[0m \u001b[1;32mor\u001b[0m \u001b[0mout\u001b[0m\u001b[1;33m.\u001b[0m\u001b[0mflags\u001b[0m\u001b[1;33m.\u001b[0m\u001b[0mf_contiguous\u001b[0m\u001b[1;33m)\u001b[0m\u001b[1;33m:\u001b[0m\u001b[1;33m\u001b[0m\u001b[1;33m\u001b[0m\u001b[0m\n\u001b[0;32m   1027\u001b[0m             \u001b[1;32mraise\u001b[0m \u001b[0mValueError\u001b[0m\u001b[1;33m(\u001b[0m\u001b[1;34m'Output array must be C or F contiguous'\u001b[0m\u001b[1;33m)\u001b[0m\u001b[1;33m\u001b[0m\u001b[1;33m\u001b[0m\u001b[0m\n",
      "\u001b[1;32mC:\\ProgramData\\Anaconda3\\lib\\site-packages\\scipy\\sparse\\base.py\u001b[0m in \u001b[0;36m_process_toarray_args\u001b[1;34m(self, order, out)\u001b[0m\n\u001b[0;32m   1187\u001b[0m             \u001b[1;32mreturn\u001b[0m \u001b[0mout\u001b[0m\u001b[1;33m\u001b[0m\u001b[1;33m\u001b[0m\u001b[0m\n\u001b[0;32m   1188\u001b[0m         \u001b[1;32melse\u001b[0m\u001b[1;33m:\u001b[0m\u001b[1;33m\u001b[0m\u001b[1;33m\u001b[0m\u001b[0m\n\u001b[1;32m-> 1189\u001b[1;33m             \u001b[1;32mreturn\u001b[0m \u001b[0mnp\u001b[0m\u001b[1;33m.\u001b[0m\u001b[0mzeros\u001b[0m\u001b[1;33m(\u001b[0m\u001b[0mself\u001b[0m\u001b[1;33m.\u001b[0m\u001b[0mshape\u001b[0m\u001b[1;33m,\u001b[0m \u001b[0mdtype\u001b[0m\u001b[1;33m=\u001b[0m\u001b[0mself\u001b[0m\u001b[1;33m.\u001b[0m\u001b[0mdtype\u001b[0m\u001b[1;33m,\u001b[0m \u001b[0morder\u001b[0m\u001b[1;33m=\u001b[0m\u001b[0morder\u001b[0m\u001b[1;33m)\u001b[0m\u001b[1;33m\u001b[0m\u001b[1;33m\u001b[0m\u001b[0m\n\u001b[0m\u001b[0;32m   1190\u001b[0m \u001b[1;33m\u001b[0m\u001b[0m\n\u001b[0;32m   1191\u001b[0m \u001b[1;33m\u001b[0m\u001b[0m\n",
      "\u001b[1;31mMemoryError\u001b[0m: Unable to allocate 113. GiB for an array with shape (119892, 126851) and data type int64"
     ]
    }
   ],
   "source": [
    "# transform the documents in the training data to a document-term matrix\n",
    "X_train_vectorized = vect.transform(X_train)\n",
    "print('Shape of matrix', X_train_vectorized.shape)\n",
    "print(X_train_vectorized.toarray()[2])"
   ]
  },
  {
   "cell_type": "code",
   "execution_count": null,
   "metadata": {},
   "outputs": [],
   "source": [
    "X_train_vectorized"
   ]
  },
  {
   "cell_type": "markdown",
   "metadata": {},
   "source": [
    "# First Classification Model"
   ]
  },
  {
   "cell_type": "markdown",
   "metadata": {},
   "source": [
    "Now, you are ready to build your first classification model, you are using sklearn.linear_model.LogisticRegression() from scikit learn as our first model."
   ]
  },
  {
   "cell_type": "code",
   "execution_count": 44,
   "metadata": {},
   "outputs": [
    {
     "data": {
      "text/plain": [
       "LogisticRegression(C=1.0, class_weight=None, dual=False, fit_intercept=True,\n",
       "                   intercept_scaling=1, l1_ratio=None, max_iter=100,\n",
       "                   multi_class='auto', n_jobs=None, penalty='l2',\n",
       "                   random_state=None, solver='lbfgs', tol=0.0001, verbose=0,\n",
       "                   warm_start=False)"
      ]
     },
     "execution_count": 44,
     "metadata": {},
     "output_type": "execute_result"
    }
   ],
   "source": [
    "from sklearn.linear_model import LogisticRegression, LinearRegression, SGDClassifier\n",
    "# Train the model\n",
    "model = LogisticRegression()\n",
    "\n",
    "model.fit(vect.transform(X_train), y_train)"
   ]
  },
  {
   "cell_type": "markdown",
   "metadata": {},
   "source": [
    "# Model Scoring"
   ]
  },
  {
   "cell_type": "markdown",
   "metadata": {},
   "source": [
    "From the Logistic Regression Output you can use AUC metric to validate or test your model on Test dataset, just to make sure how good a model is performing on new dataset."
   ]
  },
  {
   "cell_type": "code",
   "execution_count": 45,
   "metadata": {},
   "outputs": [
    {
     "name": "stdout",
     "output_type": "stream",
     "text": [
      "AUC:  0.8523519467454541\n"
     ]
    }
   ],
   "source": [
    "from sklearn.metrics import roc_curve, roc_auc_score, auc\n",
    "# Predict the transformed test documents\n",
    "predictions = model.predict(vect.transform(X_test))\n",
    "print('AUC: ', roc_auc_score(y_test, predictions))\n",
    "false_positive_rate, true_positive_rate, thresholds = roc_curve(y_test, predictions)\n",
    "roc_auc = auc(false_positive_rate, true_positive_rate)\n"
   ]
  },
  {
   "cell_type": "code",
   "execution_count": 46,
   "metadata": {},
   "outputs": [
    {
     "name": "stdout",
     "output_type": "stream",
     "text": [
      "accuracy: 0.8523004036966604\n",
      "precision: 0.8524629062074897\n",
      "recall: 0.8523004036966604\n",
      "F-measure: 0.8522933833876125\n"
     ]
    }
   ],
   "source": [
    "from sklearn import metrics\n",
    "def eval_predictions(y_test, y_pred):\n",
    "    print ('accuracy:', metrics.accuracy_score(y_test, y_pred))\n",
    "    print ('precision:', metrics.precision_score(y_test, y_pred, average='weighted'))\n",
    "    print ('recall:', metrics.recall_score(y_test, y_pred, average='weighted'))\n",
    "    print ('F-measure:', metrics.f1_score(y_test, y_pred, average='weighted'))\n",
    "eval_predictions(y_test, predictions)"
   ]
  },
  {
   "cell_type": "code",
   "execution_count": 47,
   "metadata": {},
   "outputs": [
    {
     "data": {
      "text/plain": [
       "Text(0.5, 0, 'False Positive Rate')"
      ]
     },
     "execution_count": 47,
     "metadata": {},
     "output_type": "execute_result"
    },
    {
     "data": {
      "image/png": "[encoded data removed]",
      "text/plain": [
       "<Figure size 432x288 with 1 Axes>"
      ]
     },
     "metadata": {
      "needs_background": "light"
     },
     "output_type": "display_data"
    }
   ],
   "source": [
    "from matplotlib import pyplot as plt\n",
    "plt.title('Receiver Operating Characteristic(ROC)')\n",
    "plt.grid()\n",
    "plt.plot(false_positive_rate, true_positive_rate, 'b', label='AUC = %0.3f'% roc_auc)\n",
    "plt.legend(loc='lower right')\n",
    "plt.plot([0,1],[0,1],'r--')\n",
    "plt.ylabel('True Positive Rate')\n",
    "plt.xlabel('False Positive Rate')"
   ]
  },
  {
   "cell_type": "code",
   "execution_count": 48,
   "metadata": {},
   "outputs": [],
   "source": [
    "from sklearn.model_selection import learning_curve\n",
    "from sklearn import svm\n",
    "# Create CV training and test scores for various training set sizes\n",
    "\n",
    "train_sizes, train_scores, test_scores = learning_curve(LogisticRegression(),\n",
    "                                               vect.transform(X_train), y_train, cv=2, scoring='accuracy', n_jobs=-1,\n",
    "                                               # 50 different sizes of the training set\n",
    "                                               train_sizes=np.linspace(0.01, 1.0, 5))\n",
    "\n",
    "# Create means and standard deviations of training set scores\n",
    "train_mean = np.mean(train_scores, axis=1)\n",
    "train_std = np.std(train_scores, axis=1)"
   ]
  },
  {
   "cell_type": "code",
   "execution_count": 55,
   "metadata": {},
   "outputs": [
    {
     "data": {
      "image/png": "[encoded data removed]",
      "text/plain": [
       "<Figure size 504x504 with 1 Axes>"
      ]
     },
     "metadata": {
      "needs_background": "light"
     },
     "output_type": "display_data"
    }
   ],
   "source": [
    "# Create means and standard deviations of test set scores\n",
    "test_mean = np.mean(test_scores, axis=1)\n",
    "test_std = np.std(test_scores, axis=1)\n",
    "\n",
    "    # Draw lines\n",
    "plt.subplots(1, figsize=(7,7))\n",
    "plt.grid()\n",
    "plt.plot(train_sizes, train_mean, '--', color='green',  label=\"Training score\")\n",
    "plt.plot(train_sizes, test_mean, color='red', label=\"Test score\")\n",
    "\n",
    "    # Draw bands\n",
    "#plt.fill_between(train_sizes, train_mean - train_std, train_mean + train_std, color=\"#DDDDDD\")\n",
    "#plt.fill_between(train_sizes, test_mean - test_std, test_mean + test_std, color=\"#DDDDDD\")\n",
    "\n",
    "    # Create plot\n",
    "plt.title(\"Learning Curve for Logistic Regression\")\n",
    "plt.xlabel(\"Training Set Size\"), plt.ylabel(\"Accuracy Score\"), plt.legend(loc=\"best\")\n",
    "plt.tight_layout(); plt.show()"
   ]
  },
  {
   "cell_type": "markdown",
   "metadata": {},
   "source": [
    "# 2nd MOdel - Random Forest"
   ]
  },
  {
   "cell_type": "code",
   "execution_count": 50,
   "metadata": {},
   "outputs": [
    {
     "data": {
      "text/plain": [
       "RandomForestClassifier(bootstrap=True, ccp_alpha=0.0,\n",
       "                       class_weight={0: 10, 1: 12}, criterion='entropy',\n",
       "                       max_depth=None, max_features='auto', max_leaf_nodes=None,\n",
       "                       max_samples=None, min_impurity_decrease=0.0,\n",
       "                       min_impurity_split=None, min_samples_leaf=1,\n",
       "                       min_samples_split=2, min_weight_fraction_leaf=0.0,\n",
       "                       n_estimators=2, n_jobs=None, oob_score=False,\n",
       "                       random_state=42, verbose=0, warm_start=False)"
      ]
     },
     "execution_count": 50,
     "metadata": {},
     "output_type": "execute_result"
    }
   ],
   "source": [
    "#from sklearn.linear_model import RandomForest,SGDClassifier\n",
    "from sklearn.ensemble import RandomForestClassifier\n",
    "# Train the model\n",
    "\n",
    "forest = RandomForestClassifier(n_estimators=2, class_weight={0:10, 1:12}, \\\n",
    "                                criterion=\"entropy\", random_state=42)\n",
    "forest.fit(X_train_vectorized, y_train)"
   ]
  },
  {
   "cell_type": "code",
   "execution_count": 51,
   "metadata": {},
   "outputs": [
    {
     "name": "stdout",
     "output_type": "stream",
     "text": [
      "AUC:  0.6275784838481578\n"
     ]
    }
   ],
   "source": [
    "from sklearn.metrics import roc_curve, roc_auc_score, auc\n",
    "# Predict the transformed test documents\n",
    "predictions = forest.predict(vect.transform(X_test))\n",
    "print('AUC: ', roc_auc_score(y_test, predictions))\n",
    "false_positive_rate, true_positive_rate, thresholds = roc_curve(y_test, predictions)\n",
    "roc_auc = auc(false_positive_rate, true_positive_rate)\n"
   ]
  },
  {
   "cell_type": "code",
   "execution_count": 52,
   "metadata": {},
   "outputs": [
    {
     "name": "stdout",
     "output_type": "stream",
     "text": [
      "accuracy: 0.6287325259400127\n",
      "precision: 0.654662315246596\n",
      "recall: 0.6287325259400127\n",
      "F-measure: 0.6115282793990658\n"
     ]
    }
   ],
   "source": [
    "eval_predictions(y_test, predictions)"
   ]
  },
  {
   "cell_type": "code",
   "execution_count": 53,
   "metadata": {},
   "outputs": [
    {
     "data": {
      "text/plain": [
       "Text(0.5, 0, 'False Positive Rate')"
      ]
     },
     "execution_count": 53,
     "metadata": {},
     "output_type": "execute_result"
    },
    {
     "data": {
      "image/png": "[encoded data removed]",
      "text/plain": [
       "<Figure size 432x288 with 1 Axes>"
      ]
     },
     "metadata": {
      "needs_background": "light"
     },
     "output_type": "display_data"
    }
   ],
   "source": [
    "from matplotlib import pyplot as plt\n",
    "plt.title('Receiver Operating Characteristic(ROC) - Random Forest')\n",
    "plt.grid()\n",
    "plt.plot(false_positive_rate, true_positive_rate, 'b', label='AUC = %0.3f'% roc_auc)\n",
    "plt.legend(loc='lower right')\n",
    "plt.plot([0,1],[0,1],'r--')\n",
    "plt.ylabel('True Positive Rate')\n",
    "plt.xlabel('False Positive Rate')"
   ]
  },
  {
   "cell_type": "code",
   "execution_count": 54,
   "metadata": {},
   "outputs": [
    {
     "ename": "KeyboardInterrupt",
     "evalue": "",
     "output_type": "error",
     "traceback": [
      "\u001b[1;31m---------------------------------------------------------------------------\u001b[0m",
      "\u001b[1;31mKeyboardInterrupt\u001b[0m                         Traceback (most recent call last)",
      "\u001b[1;32m<ipython-input-54-14cde630b98f>\u001b[0m in \u001b[0;36m<module>\u001b[1;34m\u001b[0m\n\u001b[0;32m      4\u001b[0m \u001b[1;31m# Create CV training and test scores for various training set sizes\u001b[0m\u001b[1;33m\u001b[0m\u001b[1;33m\u001b[0m\u001b[1;33m\u001b[0m\u001b[0m\n\u001b[0;32m      5\u001b[0m train_sizes, train_scores, test_scores = learning_curve(RandomForestRegressor(),\n\u001b[1;32m----> 6\u001b[1;33m                                                vect.transform(X_train), y_train, cv=3)\n\u001b[0m\u001b[0;32m      7\u001b[0m \u001b[1;33m\u001b[0m\u001b[0m\n\u001b[0;32m      8\u001b[0m \u001b[1;31m# Create means and standard deviations of training set scores\u001b[0m\u001b[1;33m\u001b[0m\u001b[1;33m\u001b[0m\u001b[1;33m\u001b[0m\u001b[0m\n",
      "\u001b[1;32mC:\\ProgramData\\Anaconda3\\lib\\site-packages\\sklearn\\model_selection\\_validation.py\u001b[0m in \u001b[0;36mlearning_curve\u001b[1;34m(estimator, X, y, groups, train_sizes, cv, scoring, exploit_incremental_learning, n_jobs, pre_dispatch, verbose, shuffle, random_state, error_score, return_times)\u001b[0m\n\u001b[0;32m   1254\u001b[0m             \u001b[0mparameters\u001b[0m\u001b[1;33m=\u001b[0m\u001b[1;32mNone\u001b[0m\u001b[1;33m,\u001b[0m \u001b[0mfit_params\u001b[0m\u001b[1;33m=\u001b[0m\u001b[1;32mNone\u001b[0m\u001b[1;33m,\u001b[0m \u001b[0mreturn_train_score\u001b[0m\u001b[1;33m=\u001b[0m\u001b[1;32mTrue\u001b[0m\u001b[1;33m,\u001b[0m\u001b[1;33m\u001b[0m\u001b[1;33m\u001b[0m\u001b[0m\n\u001b[0;32m   1255\u001b[0m             error_score=error_score, return_times=return_times)\n\u001b[1;32m-> 1256\u001b[1;33m             for train, test in train_test_proportions)\n\u001b[0m\u001b[0;32m   1257\u001b[0m         \u001b[0mout\u001b[0m \u001b[1;33m=\u001b[0m \u001b[0mnp\u001b[0m\u001b[1;33m.\u001b[0m\u001b[0marray\u001b[0m\u001b[1;33m(\u001b[0m\u001b[0mout\u001b[0m\u001b[1;33m)\u001b[0m\u001b[1;33m\u001b[0m\u001b[1;33m\u001b[0m\u001b[0m\n\u001b[0;32m   1258\u001b[0m         \u001b[0mn_cv_folds\u001b[0m \u001b[1;33m=\u001b[0m \u001b[0mout\u001b[0m\u001b[1;33m.\u001b[0m\u001b[0mshape\u001b[0m\u001b[1;33m[\u001b[0m\u001b[1;36m0\u001b[0m\u001b[1;33m]\u001b[0m \u001b[1;33m//\u001b[0m \u001b[0mn_unique_ticks\u001b[0m\u001b[1;33m\u001b[0m\u001b[1;33m\u001b[0m\u001b[0m\n",
      "\u001b[1;32mC:\\ProgramData\\Anaconda3\\lib\\site-packages\\joblib\\parallel.py\u001b[0m in \u001b[0;36m__call__\u001b[1;34m(self, iterable)\u001b[0m\n\u001b[0;32m   1005\u001b[0m                 \u001b[0mself\u001b[0m\u001b[1;33m.\u001b[0m\u001b[0m_iterating\u001b[0m \u001b[1;33m=\u001b[0m \u001b[0mself\u001b[0m\u001b[1;33m.\u001b[0m\u001b[0m_original_iterator\u001b[0m \u001b[1;32mis\u001b[0m \u001b[1;32mnot\u001b[0m \u001b[1;32mNone\u001b[0m\u001b[1;33m\u001b[0m\u001b[1;33m\u001b[0m\u001b[0m\n\u001b[0;32m   1006\u001b[0m \u001b[1;33m\u001b[0m\u001b[0m\n\u001b[1;32m-> 1007\u001b[1;33m             \u001b[1;32mwhile\u001b[0m \u001b[0mself\u001b[0m\u001b[1;33m.\u001b[0m\u001b[0mdispatch_one_batch\u001b[0m\u001b[1;33m(\u001b[0m\u001b[0miterator\u001b[0m\u001b[1;33m)\u001b[0m\u001b[1;33m:\u001b[0m\u001b[1;33m\u001b[0m\u001b[1;33m\u001b[0m\u001b[0m\n\u001b[0m\u001b[0;32m   1008\u001b[0m                 \u001b[1;32mpass\u001b[0m\u001b[1;33m\u001b[0m\u001b[1;33m\u001b[0m\u001b[0m\n\u001b[0;32m   1009\u001b[0m \u001b[1;33m\u001b[0m\u001b[0m\n",
      "\u001b[1;32mC:\\ProgramData\\Anaconda3\\lib\\site-packages\\joblib\\parallel.py\u001b[0m in \u001b[0;36mdispatch_one_batch\u001b[1;34m(self, iterator)\u001b[0m\n\u001b[0;32m    833\u001b[0m                 \u001b[1;32mreturn\u001b[0m \u001b[1;32mFalse\u001b[0m\u001b[1;33m\u001b[0m\u001b[1;33m\u001b[0m\u001b[0m\n\u001b[0;32m    834\u001b[0m             \u001b[1;32melse\u001b[0m\u001b[1;33m:\u001b[0m\u001b[1;33m\u001b[0m\u001b[1;33m\u001b[0m\u001b[0m\n\u001b[1;32m--> 835\u001b[1;33m                 \u001b[0mself\u001b[0m\u001b[1;33m.\u001b[0m\u001b[0m_dispatch\u001b[0m\u001b[1;33m(\u001b[0m\u001b[0mtasks\u001b[0m\u001b[1;33m)\u001b[0m\u001b[1;33m\u001b[0m\u001b[1;33m\u001b[0m\u001b[0m\n\u001b[0m\u001b[0;32m    836\u001b[0m                 \u001b[1;32mreturn\u001b[0m \u001b[1;32mTrue\u001b[0m\u001b[1;33m\u001b[0m\u001b[1;33m\u001b[0m\u001b[0m\n\u001b[0;32m    837\u001b[0m \u001b[1;33m\u001b[0m\u001b[0m\n",
      "\u001b[1;32mC:\\ProgramData\\Anaconda3\\lib\\site-packages\\joblib\\parallel.py\u001b[0m in \u001b[0;36m_dispatch\u001b[1;34m(self, batch)\u001b[0m\n\u001b[0;32m    752\u001b[0m         \u001b[1;32mwith\u001b[0m \u001b[0mself\u001b[0m\u001b[1;33m.\u001b[0m\u001b[0m_lock\u001b[0m\u001b[1;33m:\u001b[0m\u001b[1;33m\u001b[0m\u001b[1;33m\u001b[0m\u001b[0m\n\u001b[0;32m    753\u001b[0m             \u001b[0mjob_idx\u001b[0m \u001b[1;33m=\u001b[0m \u001b[0mlen\u001b[0m\u001b[1;33m(\u001b[0m\u001b[0mself\u001b[0m\u001b[1;33m.\u001b[0m\u001b[0m_jobs\u001b[0m\u001b[1;33m)\u001b[0m\u001b[1;33m\u001b[0m\u001b[1;33m\u001b[0m\u001b[0m\n\u001b[1;32m--> 754\u001b[1;33m             \u001b[0mjob\u001b[0m \u001b[1;33m=\u001b[0m \u001b[0mself\u001b[0m\u001b[1;33m.\u001b[0m\u001b[0m_backend\u001b[0m\u001b[1;33m.\u001b[0m\u001b[0mapply_async\u001b[0m\u001b[1;33m(\u001b[0m\u001b[0mbatch\u001b[0m\u001b[1;33m,\u001b[0m \u001b[0mcallback\u001b[0m\u001b[1;33m=\u001b[0m\u001b[0mcb\u001b[0m\u001b[1;33m)\u001b[0m\u001b[1;33m\u001b[0m\u001b[1;33m\u001b[0m\u001b[0m\n\u001b[0m\u001b[0;32m    755\u001b[0m             \u001b[1;31m# A job can complete so quickly than its callback is\u001b[0m\u001b[1;33m\u001b[0m\u001b[1;33m\u001b[0m\u001b[1;33m\u001b[0m\u001b[0m\n\u001b[0;32m    756\u001b[0m             \u001b[1;31m# called before we get here, causing self._jobs to\u001b[0m\u001b[1;33m\u001b[0m\u001b[1;33m\u001b[0m\u001b[1;33m\u001b[0m\u001b[0m\n",
      "\u001b[1;32mC:\\ProgramData\\Anaconda3\\lib\\site-packages\\joblib\\_parallel_backends.py\u001b[0m in \u001b[0;36mapply_async\u001b[1;34m(self, func, callback)\u001b[0m\n\u001b[0;32m    207\u001b[0m     \u001b[1;32mdef\u001b[0m \u001b[0mapply_async\u001b[0m\u001b[1;33m(\u001b[0m\u001b[0mself\u001b[0m\u001b[1;33m,\u001b[0m \u001b[0mfunc\u001b[0m\u001b[1;33m,\u001b[0m \u001b[0mcallback\u001b[0m\u001b[1;33m=\u001b[0m\u001b[1;32mNone\u001b[0m\u001b[1;33m)\u001b[0m\u001b[1;33m:\u001b[0m\u001b[1;33m\u001b[0m\u001b[1;33m\u001b[0m\u001b[0m\n\u001b[0;32m    208\u001b[0m         \u001b[1;34m\"\"\"Schedule a func to be run\"\"\"\u001b[0m\u001b[1;33m\u001b[0m\u001b[1;33m\u001b[0m\u001b[0m\n\u001b[1;32m--> 209\u001b[1;33m         \u001b[0mresult\u001b[0m \u001b[1;33m=\u001b[0m \u001b[0mImmediateResult\u001b[0m\u001b[1;33m(\u001b[0m\u001b[0mfunc\u001b[0m\u001b[1;33m)\u001b[0m\u001b[1;33m\u001b[0m\u001b[1;33m\u001b[0m\u001b[0m\n\u001b[0m\u001b[0;32m    210\u001b[0m         \u001b[1;32mif\u001b[0m \u001b[0mcallback\u001b[0m\u001b[1;33m:\u001b[0m\u001b[1;33m\u001b[0m\u001b[1;33m\u001b[0m\u001b[0m\n\u001b[0;32m    211\u001b[0m             \u001b[0mcallback\u001b[0m\u001b[1;33m(\u001b[0m\u001b[0mresult\u001b[0m\u001b[1;33m)\u001b[0m\u001b[1;33m\u001b[0m\u001b[1;33m\u001b[0m\u001b[0m\n",
      "\u001b[1;32mC:\\ProgramData\\Anaconda3\\lib\\site-packages\\joblib\\_parallel_backends.py\u001b[0m in \u001b[0;36m__init__\u001b[1;34m(self, batch)\u001b[0m\n\u001b[0;32m    588\u001b[0m         \u001b[1;31m# Don't delay the application, to avoid keeping the input\u001b[0m\u001b[1;33m\u001b[0m\u001b[1;33m\u001b[0m\u001b[1;33m\u001b[0m\u001b[0m\n\u001b[0;32m    589\u001b[0m         \u001b[1;31m# arguments in memory\u001b[0m\u001b[1;33m\u001b[0m\u001b[1;33m\u001b[0m\u001b[1;33m\u001b[0m\u001b[0m\n\u001b[1;32m--> 590\u001b[1;33m         \u001b[0mself\u001b[0m\u001b[1;33m.\u001b[0m\u001b[0mresults\u001b[0m \u001b[1;33m=\u001b[0m \u001b[0mbatch\u001b[0m\u001b[1;33m(\u001b[0m\u001b[1;33m)\u001b[0m\u001b[1;33m\u001b[0m\u001b[1;33m\u001b[0m\u001b[0m\n\u001b[0m\u001b[0;32m    591\u001b[0m \u001b[1;33m\u001b[0m\u001b[0m\n\u001b[0;32m    592\u001b[0m     \u001b[1;32mdef\u001b[0m \u001b[0mget\u001b[0m\u001b[1;33m(\u001b[0m\u001b[0mself\u001b[0m\u001b[1;33m)\u001b[0m\u001b[1;33m:\u001b[0m\u001b[1;33m\u001b[0m\u001b[1;33m\u001b[0m\u001b[0m\n",
      "\u001b[1;32mC:\\ProgramData\\Anaconda3\\lib\\site-packages\\joblib\\parallel.py\u001b[0m in \u001b[0;36m__call__\u001b[1;34m(self)\u001b[0m\n\u001b[0;32m    254\u001b[0m         \u001b[1;32mwith\u001b[0m \u001b[0mparallel_backend\u001b[0m\u001b[1;33m(\u001b[0m\u001b[0mself\u001b[0m\u001b[1;33m.\u001b[0m\u001b[0m_backend\u001b[0m\u001b[1;33m,\u001b[0m \u001b[0mn_jobs\u001b[0m\u001b[1;33m=\u001b[0m\u001b[0mself\u001b[0m\u001b[1;33m.\u001b[0m\u001b[0m_n_jobs\u001b[0m\u001b[1;33m)\u001b[0m\u001b[1;33m:\u001b[0m\u001b[1;33m\u001b[0m\u001b[1;33m\u001b[0m\u001b[0m\n\u001b[0;32m    255\u001b[0m             return [func(*args, **kwargs)\n\u001b[1;32m--> 256\u001b[1;33m                     for func, args, kwargs in self.items]\n\u001b[0m\u001b[0;32m    257\u001b[0m \u001b[1;33m\u001b[0m\u001b[0m\n\u001b[0;32m    258\u001b[0m     \u001b[1;32mdef\u001b[0m \u001b[0m__len__\u001b[0m\u001b[1;33m(\u001b[0m\u001b[0mself\u001b[0m\u001b[1;33m)\u001b[0m\u001b[1;33m:\u001b[0m\u001b[1;33m\u001b[0m\u001b[1;33m\u001b[0m\u001b[0m\n",
      "\u001b[1;32mC:\\ProgramData\\Anaconda3\\lib\\site-packages\\joblib\\parallel.py\u001b[0m in \u001b[0;36m<listcomp>\u001b[1;34m(.0)\u001b[0m\n\u001b[0;32m    254\u001b[0m         \u001b[1;32mwith\u001b[0m \u001b[0mparallel_backend\u001b[0m\u001b[1;33m(\u001b[0m\u001b[0mself\u001b[0m\u001b[1;33m.\u001b[0m\u001b[0m_backend\u001b[0m\u001b[1;33m,\u001b[0m \u001b[0mn_jobs\u001b[0m\u001b[1;33m=\u001b[0m\u001b[0mself\u001b[0m\u001b[1;33m.\u001b[0m\u001b[0m_n_jobs\u001b[0m\u001b[1;33m)\u001b[0m\u001b[1;33m:\u001b[0m\u001b[1;33m\u001b[0m\u001b[1;33m\u001b[0m\u001b[0m\n\u001b[0;32m    255\u001b[0m             return [func(*args, **kwargs)\n\u001b[1;32m--> 256\u001b[1;33m                     for func, args, kwargs in self.items]\n\u001b[0m\u001b[0;32m    257\u001b[0m \u001b[1;33m\u001b[0m\u001b[0m\n\u001b[0;32m    258\u001b[0m     \u001b[1;32mdef\u001b[0m \u001b[0m__len__\u001b[0m\u001b[1;33m(\u001b[0m\u001b[0mself\u001b[0m\u001b[1;33m)\u001b[0m\u001b[1;33m:\u001b[0m\u001b[1;33m\u001b[0m\u001b[1;33m\u001b[0m\u001b[0m\n",
      "\u001b[1;32mC:\\ProgramData\\Anaconda3\\lib\\site-packages\\sklearn\\model_selection\\_validation.py\u001b[0m in \u001b[0;36m_fit_and_score\u001b[1;34m(estimator, X, y, scorer, train, test, verbose, parameters, fit_params, return_train_score, return_parameters, return_n_test_samples, return_times, return_estimator, error_score)\u001b[0m\n\u001b[0;32m    513\u001b[0m             \u001b[0mestimator\u001b[0m\u001b[1;33m.\u001b[0m\u001b[0mfit\u001b[0m\u001b[1;33m(\u001b[0m\u001b[0mX_train\u001b[0m\u001b[1;33m,\u001b[0m \u001b[1;33m**\u001b[0m\u001b[0mfit_params\u001b[0m\u001b[1;33m)\u001b[0m\u001b[1;33m\u001b[0m\u001b[1;33m\u001b[0m\u001b[0m\n\u001b[0;32m    514\u001b[0m         \u001b[1;32melse\u001b[0m\u001b[1;33m:\u001b[0m\u001b[1;33m\u001b[0m\u001b[1;33m\u001b[0m\u001b[0m\n\u001b[1;32m--> 515\u001b[1;33m             \u001b[0mestimator\u001b[0m\u001b[1;33m.\u001b[0m\u001b[0mfit\u001b[0m\u001b[1;33m(\u001b[0m\u001b[0mX_train\u001b[0m\u001b[1;33m,\u001b[0m \u001b[0my_train\u001b[0m\u001b[1;33m,\u001b[0m \u001b[1;33m**\u001b[0m\u001b[0mfit_params\u001b[0m\u001b[1;33m)\u001b[0m\u001b[1;33m\u001b[0m\u001b[1;33m\u001b[0m\u001b[0m\n\u001b[0m\u001b[0;32m    516\u001b[0m \u001b[1;33m\u001b[0m\u001b[0m\n\u001b[0;32m    517\u001b[0m     \u001b[1;32mexcept\u001b[0m \u001b[0mException\u001b[0m \u001b[1;32mas\u001b[0m \u001b[0me\u001b[0m\u001b[1;33m:\u001b[0m\u001b[1;33m\u001b[0m\u001b[1;33m\u001b[0m\u001b[0m\n",
      "\u001b[1;32mC:\\ProgramData\\Anaconda3\\lib\\site-packages\\sklearn\\ensemble\\_forest.py\u001b[0m in \u001b[0;36mfit\u001b[1;34m(self, X, y, sample_weight)\u001b[0m\n\u001b[0;32m    381\u001b[0m                     \u001b[0mverbose\u001b[0m\u001b[1;33m=\u001b[0m\u001b[0mself\u001b[0m\u001b[1;33m.\u001b[0m\u001b[0mverbose\u001b[0m\u001b[1;33m,\u001b[0m \u001b[0mclass_weight\u001b[0m\u001b[1;33m=\u001b[0m\u001b[0mself\u001b[0m\u001b[1;33m.\u001b[0m\u001b[0mclass_weight\u001b[0m\u001b[1;33m,\u001b[0m\u001b[1;33m\u001b[0m\u001b[1;33m\u001b[0m\u001b[0m\n\u001b[0;32m    382\u001b[0m                     n_samples_bootstrap=n_samples_bootstrap)\n\u001b[1;32m--> 383\u001b[1;33m                 for i, t in enumerate(trees))\n\u001b[0m\u001b[0;32m    384\u001b[0m \u001b[1;33m\u001b[0m\u001b[0m\n\u001b[0;32m    385\u001b[0m             \u001b[1;31m# Collect newly grown trees\u001b[0m\u001b[1;33m\u001b[0m\u001b[1;33m\u001b[0m\u001b[1;33m\u001b[0m\u001b[0m\n",
      "\u001b[1;32mC:\\ProgramData\\Anaconda3\\lib\\site-packages\\joblib\\parallel.py\u001b[0m in \u001b[0;36m__call__\u001b[1;34m(self, iterable)\u001b[0m\n\u001b[0;32m   1005\u001b[0m                 \u001b[0mself\u001b[0m\u001b[1;33m.\u001b[0m\u001b[0m_iterating\u001b[0m \u001b[1;33m=\u001b[0m \u001b[0mself\u001b[0m\u001b[1;33m.\u001b[0m\u001b[0m_original_iterator\u001b[0m \u001b[1;32mis\u001b[0m \u001b[1;32mnot\u001b[0m \u001b[1;32mNone\u001b[0m\u001b[1;33m\u001b[0m\u001b[1;33m\u001b[0m\u001b[0m\n\u001b[0;32m   1006\u001b[0m \u001b[1;33m\u001b[0m\u001b[0m\n\u001b[1;32m-> 1007\u001b[1;33m             \u001b[1;32mwhile\u001b[0m \u001b[0mself\u001b[0m\u001b[1;33m.\u001b[0m\u001b[0mdispatch_one_batch\u001b[0m\u001b[1;33m(\u001b[0m\u001b[0miterator\u001b[0m\u001b[1;33m)\u001b[0m\u001b[1;33m:\u001b[0m\u001b[1;33m\u001b[0m\u001b[1;33m\u001b[0m\u001b[0m\n\u001b[0m\u001b[0;32m   1008\u001b[0m                 \u001b[1;32mpass\u001b[0m\u001b[1;33m\u001b[0m\u001b[1;33m\u001b[0m\u001b[0m\n\u001b[0;32m   1009\u001b[0m \u001b[1;33m\u001b[0m\u001b[0m\n",
      "\u001b[1;32mC:\\ProgramData\\Anaconda3\\lib\\site-packages\\joblib\\parallel.py\u001b[0m in \u001b[0;36mdispatch_one_batch\u001b[1;34m(self, iterator)\u001b[0m\n\u001b[0;32m    833\u001b[0m                 \u001b[1;32mreturn\u001b[0m \u001b[1;32mFalse\u001b[0m\u001b[1;33m\u001b[0m\u001b[1;33m\u001b[0m\u001b[0m\n\u001b[0;32m    834\u001b[0m             \u001b[1;32melse\u001b[0m\u001b[1;33m:\u001b[0m\u001b[1;33m\u001b[0m\u001b[1;33m\u001b[0m\u001b[0m\n\u001b[1;32m--> 835\u001b[1;33m                 \u001b[0mself\u001b[0m\u001b[1;33m.\u001b[0m\u001b[0m_dispatch\u001b[0m\u001b[1;33m(\u001b[0m\u001b[0mtasks\u001b[0m\u001b[1;33m)\u001b[0m\u001b[1;33m\u001b[0m\u001b[1;33m\u001b[0m\u001b[0m\n\u001b[0m\u001b[0;32m    836\u001b[0m                 \u001b[1;32mreturn\u001b[0m \u001b[1;32mTrue\u001b[0m\u001b[1;33m\u001b[0m\u001b[1;33m\u001b[0m\u001b[0m\n\u001b[0;32m    837\u001b[0m \u001b[1;33m\u001b[0m\u001b[0m\n",
      "\u001b[1;32mC:\\ProgramData\\Anaconda3\\lib\\site-packages\\joblib\\parallel.py\u001b[0m in \u001b[0;36m_dispatch\u001b[1;34m(self, batch)\u001b[0m\n\u001b[0;32m    752\u001b[0m         \u001b[1;32mwith\u001b[0m \u001b[0mself\u001b[0m\u001b[1;33m.\u001b[0m\u001b[0m_lock\u001b[0m\u001b[1;33m:\u001b[0m\u001b[1;33m\u001b[0m\u001b[1;33m\u001b[0m\u001b[0m\n\u001b[0;32m    753\u001b[0m             \u001b[0mjob_idx\u001b[0m \u001b[1;33m=\u001b[0m \u001b[0mlen\u001b[0m\u001b[1;33m(\u001b[0m\u001b[0mself\u001b[0m\u001b[1;33m.\u001b[0m\u001b[0m_jobs\u001b[0m\u001b[1;33m)\u001b[0m\u001b[1;33m\u001b[0m\u001b[1;33m\u001b[0m\u001b[0m\n\u001b[1;32m--> 754\u001b[1;33m             \u001b[0mjob\u001b[0m \u001b[1;33m=\u001b[0m \u001b[0mself\u001b[0m\u001b[1;33m.\u001b[0m\u001b[0m_backend\u001b[0m\u001b[1;33m.\u001b[0m\u001b[0mapply_async\u001b[0m\u001b[1;33m(\u001b[0m\u001b[0mbatch\u001b[0m\u001b[1;33m,\u001b[0m \u001b[0mcallback\u001b[0m\u001b[1;33m=\u001b[0m\u001b[0mcb\u001b[0m\u001b[1;33m)\u001b[0m\u001b[1;33m\u001b[0m\u001b[1;33m\u001b[0m\u001b[0m\n\u001b[0m\u001b[0;32m    755\u001b[0m             \u001b[1;31m# A job can complete so quickly than its callback is\u001b[0m\u001b[1;33m\u001b[0m\u001b[1;33m\u001b[0m\u001b[1;33m\u001b[0m\u001b[0m\n\u001b[0;32m    756\u001b[0m             \u001b[1;31m# called before we get here, causing self._jobs to\u001b[0m\u001b[1;33m\u001b[0m\u001b[1;33m\u001b[0m\u001b[1;33m\u001b[0m\u001b[0m\n",
      "\u001b[1;32mC:\\ProgramData\\Anaconda3\\lib\\site-packages\\joblib\\_parallel_backends.py\u001b[0m in \u001b[0;36mapply_async\u001b[1;34m(self, func, callback)\u001b[0m\n\u001b[0;32m    207\u001b[0m     \u001b[1;32mdef\u001b[0m \u001b[0mapply_async\u001b[0m\u001b[1;33m(\u001b[0m\u001b[0mself\u001b[0m\u001b[1;33m,\u001b[0m \u001b[0mfunc\u001b[0m\u001b[1;33m,\u001b[0m \u001b[0mcallback\u001b[0m\u001b[1;33m=\u001b[0m\u001b[1;32mNone\u001b[0m\u001b[1;33m)\u001b[0m\u001b[1;33m:\u001b[0m\u001b[1;33m\u001b[0m\u001b[1;33m\u001b[0m\u001b[0m\n\u001b[0;32m    208\u001b[0m         \u001b[1;34m\"\"\"Schedule a func to be run\"\"\"\u001b[0m\u001b[1;33m\u001b[0m\u001b[1;33m\u001b[0m\u001b[0m\n\u001b[1;32m--> 209\u001b[1;33m         \u001b[0mresult\u001b[0m \u001b[1;33m=\u001b[0m \u001b[0mImmediateResult\u001b[0m\u001b[1;33m(\u001b[0m\u001b[0mfunc\u001b[0m\u001b[1;33m)\u001b[0m\u001b[1;33m\u001b[0m\u001b[1;33m\u001b[0m\u001b[0m\n\u001b[0m\u001b[0;32m    210\u001b[0m         \u001b[1;32mif\u001b[0m \u001b[0mcallback\u001b[0m\u001b[1;33m:\u001b[0m\u001b[1;33m\u001b[0m\u001b[1;33m\u001b[0m\u001b[0m\n\u001b[0;32m    211\u001b[0m             \u001b[0mcallback\u001b[0m\u001b[1;33m(\u001b[0m\u001b[0mresult\u001b[0m\u001b[1;33m)\u001b[0m\u001b[1;33m\u001b[0m\u001b[1;33m\u001b[0m\u001b[0m\n",
      "\u001b[1;32mC:\\ProgramData\\Anaconda3\\lib\\site-packages\\joblib\\_parallel_backends.py\u001b[0m in \u001b[0;36m__init__\u001b[1;34m(self, batch)\u001b[0m\n\u001b[0;32m    588\u001b[0m         \u001b[1;31m# Don't delay the application, to avoid keeping the input\u001b[0m\u001b[1;33m\u001b[0m\u001b[1;33m\u001b[0m\u001b[1;33m\u001b[0m\u001b[0m\n\u001b[0;32m    589\u001b[0m         \u001b[1;31m# arguments in memory\u001b[0m\u001b[1;33m\u001b[0m\u001b[1;33m\u001b[0m\u001b[1;33m\u001b[0m\u001b[0m\n\u001b[1;32m--> 590\u001b[1;33m         \u001b[0mself\u001b[0m\u001b[1;33m.\u001b[0m\u001b[0mresults\u001b[0m \u001b[1;33m=\u001b[0m \u001b[0mbatch\u001b[0m\u001b[1;33m(\u001b[0m\u001b[1;33m)\u001b[0m\u001b[1;33m\u001b[0m\u001b[1;33m\u001b[0m\u001b[0m\n\u001b[0m\u001b[0;32m    591\u001b[0m \u001b[1;33m\u001b[0m\u001b[0m\n\u001b[0;32m    592\u001b[0m     \u001b[1;32mdef\u001b[0m \u001b[0mget\u001b[0m\u001b[1;33m(\u001b[0m\u001b[0mself\u001b[0m\u001b[1;33m)\u001b[0m\u001b[1;33m:\u001b[0m\u001b[1;33m\u001b[0m\u001b[1;33m\u001b[0m\u001b[0m\n",
      "\u001b[1;32mC:\\ProgramData\\Anaconda3\\lib\\site-packages\\joblib\\parallel.py\u001b[0m in \u001b[0;36m__call__\u001b[1;34m(self)\u001b[0m\n\u001b[0;32m    254\u001b[0m         \u001b[1;32mwith\u001b[0m \u001b[0mparallel_backend\u001b[0m\u001b[1;33m(\u001b[0m\u001b[0mself\u001b[0m\u001b[1;33m.\u001b[0m\u001b[0m_backend\u001b[0m\u001b[1;33m,\u001b[0m \u001b[0mn_jobs\u001b[0m\u001b[1;33m=\u001b[0m\u001b[0mself\u001b[0m\u001b[1;33m.\u001b[0m\u001b[0m_n_jobs\u001b[0m\u001b[1;33m)\u001b[0m\u001b[1;33m:\u001b[0m\u001b[1;33m\u001b[0m\u001b[1;33m\u001b[0m\u001b[0m\n\u001b[0;32m    255\u001b[0m             return [func(*args, **kwargs)\n\u001b[1;32m--> 256\u001b[1;33m                     for func, args, kwargs in self.items]\n\u001b[0m\u001b[0;32m    257\u001b[0m \u001b[1;33m\u001b[0m\u001b[0m\n\u001b[0;32m    258\u001b[0m     \u001b[1;32mdef\u001b[0m \u001b[0m__len__\u001b[0m\u001b[1;33m(\u001b[0m\u001b[0mself\u001b[0m\u001b[1;33m)\u001b[0m\u001b[1;33m:\u001b[0m\u001b[1;33m\u001b[0m\u001b[1;33m\u001b[0m\u001b[0m\n",
      "\u001b[1;32mC:\\ProgramData\\Anaconda3\\lib\\site-packages\\joblib\\parallel.py\u001b[0m in \u001b[0;36m<listcomp>\u001b[1;34m(.0)\u001b[0m\n\u001b[0;32m    254\u001b[0m         \u001b[1;32mwith\u001b[0m \u001b[0mparallel_backend\u001b[0m\u001b[1;33m(\u001b[0m\u001b[0mself\u001b[0m\u001b[1;33m.\u001b[0m\u001b[0m_backend\u001b[0m\u001b[1;33m,\u001b[0m \u001b[0mn_jobs\u001b[0m\u001b[1;33m=\u001b[0m\u001b[0mself\u001b[0m\u001b[1;33m.\u001b[0m\u001b[0m_n_jobs\u001b[0m\u001b[1;33m)\u001b[0m\u001b[1;33m:\u001b[0m\u001b[1;33m\u001b[0m\u001b[1;33m\u001b[0m\u001b[0m\n\u001b[0;32m    255\u001b[0m             return [func(*args, **kwargs)\n\u001b[1;32m--> 256\u001b[1;33m                     for func, args, kwargs in self.items]\n\u001b[0m\u001b[0;32m    257\u001b[0m \u001b[1;33m\u001b[0m\u001b[0m\n\u001b[0;32m    258\u001b[0m     \u001b[1;32mdef\u001b[0m \u001b[0m__len__\u001b[0m\u001b[1;33m(\u001b[0m\u001b[0mself\u001b[0m\u001b[1;33m)\u001b[0m\u001b[1;33m:\u001b[0m\u001b[1;33m\u001b[0m\u001b[1;33m\u001b[0m\u001b[0m\n",
      "\u001b[1;32mC:\\ProgramData\\Anaconda3\\lib\\site-packages\\sklearn\\ensemble\\_forest.py\u001b[0m in \u001b[0;36m_parallel_build_trees\u001b[1;34m(tree, forest, X, y, sample_weight, tree_idx, n_trees, verbose, class_weight, n_samples_bootstrap)\u001b[0m\n\u001b[0;32m    163\u001b[0m             \u001b[0mcurr_sample_weight\u001b[0m \u001b[1;33m*=\u001b[0m \u001b[0mcompute_sample_weight\u001b[0m\u001b[1;33m(\u001b[0m\u001b[1;34m'balanced'\u001b[0m\u001b[1;33m,\u001b[0m \u001b[0my\u001b[0m\u001b[1;33m,\u001b[0m \u001b[0mindices\u001b[0m\u001b[1;33m)\u001b[0m\u001b[1;33m\u001b[0m\u001b[1;33m\u001b[0m\u001b[0m\n\u001b[0;32m    164\u001b[0m \u001b[1;33m\u001b[0m\u001b[0m\n\u001b[1;32m--> 165\u001b[1;33m         \u001b[0mtree\u001b[0m\u001b[1;33m.\u001b[0m\u001b[0mfit\u001b[0m\u001b[1;33m(\u001b[0m\u001b[0mX\u001b[0m\u001b[1;33m,\u001b[0m \u001b[0my\u001b[0m\u001b[1;33m,\u001b[0m \u001b[0msample_weight\u001b[0m\u001b[1;33m=\u001b[0m\u001b[0mcurr_sample_weight\u001b[0m\u001b[1;33m,\u001b[0m \u001b[0mcheck_input\u001b[0m\u001b[1;33m=\u001b[0m\u001b[1;32mFalse\u001b[0m\u001b[1;33m)\u001b[0m\u001b[1;33m\u001b[0m\u001b[1;33m\u001b[0m\u001b[0m\n\u001b[0m\u001b[0;32m    166\u001b[0m     \u001b[1;32melse\u001b[0m\u001b[1;33m:\u001b[0m\u001b[1;33m\u001b[0m\u001b[1;33m\u001b[0m\u001b[0m\n\u001b[0;32m    167\u001b[0m         \u001b[0mtree\u001b[0m\u001b[1;33m.\u001b[0m\u001b[0mfit\u001b[0m\u001b[1;33m(\u001b[0m\u001b[0mX\u001b[0m\u001b[1;33m,\u001b[0m \u001b[0my\u001b[0m\u001b[1;33m,\u001b[0m \u001b[0msample_weight\u001b[0m\u001b[1;33m=\u001b[0m\u001b[0msample_weight\u001b[0m\u001b[1;33m,\u001b[0m \u001b[0mcheck_input\u001b[0m\u001b[1;33m=\u001b[0m\u001b[1;32mFalse\u001b[0m\u001b[1;33m)\u001b[0m\u001b[1;33m\u001b[0m\u001b[1;33m\u001b[0m\u001b[0m\n",
      "\u001b[1;32mC:\\ProgramData\\Anaconda3\\lib\\site-packages\\sklearn\\tree\\_classes.py\u001b[0m in \u001b[0;36mfit\u001b[1;34m(self, X, y, sample_weight, check_input, X_idx_sorted)\u001b[0m\n\u001b[0;32m   1223\u001b[0m             \u001b[0msample_weight\u001b[0m\u001b[1;33m=\u001b[0m\u001b[0msample_weight\u001b[0m\u001b[1;33m,\u001b[0m\u001b[1;33m\u001b[0m\u001b[1;33m\u001b[0m\u001b[0m\n\u001b[0;32m   1224\u001b[0m             \u001b[0mcheck_input\u001b[0m\u001b[1;33m=\u001b[0m\u001b[0mcheck_input\u001b[0m\u001b[1;33m,\u001b[0m\u001b[1;33m\u001b[0m\u001b[1;33m\u001b[0m\u001b[0m\n\u001b[1;32m-> 1225\u001b[1;33m             X_idx_sorted=X_idx_sorted)\n\u001b[0m\u001b[0;32m   1226\u001b[0m         \u001b[1;32mreturn\u001b[0m \u001b[0mself\u001b[0m\u001b[1;33m\u001b[0m\u001b[1;33m\u001b[0m\u001b[0m\n\u001b[0;32m   1227\u001b[0m \u001b[1;33m\u001b[0m\u001b[0m\n",
      "\u001b[1;32mC:\\ProgramData\\Anaconda3\\lib\\site-packages\\sklearn\\tree\\_classes.py\u001b[0m in \u001b[0;36mfit\u001b[1;34m(self, X, y, sample_weight, check_input, X_idx_sorted)\u001b[0m\n\u001b[0;32m    365\u001b[0m                                            min_impurity_split)\n\u001b[0;32m    366\u001b[0m \u001b[1;33m\u001b[0m\u001b[0m\n\u001b[1;32m--> 367\u001b[1;33m         \u001b[0mbuilder\u001b[0m\u001b[1;33m.\u001b[0m\u001b[0mbuild\u001b[0m\u001b[1;33m(\u001b[0m\u001b[0mself\u001b[0m\u001b[1;33m.\u001b[0m\u001b[0mtree_\u001b[0m\u001b[1;33m,\u001b[0m \u001b[0mX\u001b[0m\u001b[1;33m,\u001b[0m \u001b[0my\u001b[0m\u001b[1;33m,\u001b[0m \u001b[0msample_weight\u001b[0m\u001b[1;33m,\u001b[0m \u001b[0mX_idx_sorted\u001b[0m\u001b[1;33m)\u001b[0m\u001b[1;33m\u001b[0m\u001b[1;33m\u001b[0m\u001b[0m\n\u001b[0m\u001b[0;32m    368\u001b[0m \u001b[1;33m\u001b[0m\u001b[0m\n\u001b[0;32m    369\u001b[0m         \u001b[1;32mif\u001b[0m \u001b[0mself\u001b[0m\u001b[1;33m.\u001b[0m\u001b[0mn_outputs_\u001b[0m \u001b[1;33m==\u001b[0m \u001b[1;36m1\u001b[0m \u001b[1;32mand\u001b[0m \u001b[0mis_classifier\u001b[0m\u001b[1;33m(\u001b[0m\u001b[0mself\u001b[0m\u001b[1;33m)\u001b[0m\u001b[1;33m:\u001b[0m\u001b[1;33m\u001b[0m\u001b[1;33m\u001b[0m\u001b[0m\n",
      "\u001b[1;31mKeyboardInterrupt\u001b[0m: "
     ]
    }
   ],
   "source": [
    "from sklearn.model_selection import learning_curve\n",
    "from sklearn.ensemble import RandomForestRegressor\n",
    "\n",
    "# Create CV training and test scores for various training set sizes\n",
    "train_sizes, train_scores, test_scores = learning_curve(RandomForestRegressor(),\n",
    "                                               vect.transform(X_train), y_train, cv=3)\n",
    "\n",
    "# Create means and standard deviations of training set scores\n",
    "train_mean = np.mean(train_scores, axis=1)\n",
    "train_std = np.std(train_scores, axis=1)"
   ]
  },
  {
   "cell_type": "code",
   "execution_count": null,
   "metadata": {},
   "outputs": [],
   "source": [
    "# Create means and standard deviations of test set scores\n",
    "test_mean = np.mean(test_scores, axis=1)\n",
    "test_std = np.std(test_scores, axis=1)\n",
    "\n",
    "    # Draw lines\n",
    "plt.subplots(1, figsize=(7,7))\n",
    "plt.grid()\n",
    "plt.plot(train_sizes, train_mean, '--', color='green',  label=\"Training score\")\n",
    "plt.plot(train_sizes, test_mean, color='red', label=\"Cross-validation score\")\n",
    "\n",
    "    # Draw bands\n",
    "#plt.fill_between(train_sizes, train_mean - train_std, train_mean + train_std, color=\"#DDDDDD\")\n",
    "#plt.fill_between(train_sizes, test_mean - test_std, test_mean + test_std, color=\"#DDDDDD\")\n",
    "\n",
    "    # Create plot\n",
    "plt.title(\"Learning Curve for Random Forest\")\n",
    "plt.xlabel(\"Training Set Size\"), plt.ylabel(\"Accuracy Score\"), plt.legend(loc=\"best\")\n",
    "plt.tight_layout(); plt.show()"
   ]
  },
  {
   "cell_type": "markdown",
   "metadata": {},
   "source": [
    "# 3rd Model - SVM"
   ]
  },
  {
   "cell_type": "code",
   "execution_count": null,
   "metadata": {},
   "outputs": [],
   "source": [
    "from sklearn import svm\n",
    "# instantiate and train model, kernel=rbf \n",
    "svm_rbf = svm.SVC(random_state=12345)\n",
    "svm_rbf.fit(X_train_vectorized, y_train)\n",
    "\n",
    "# evaulate model\n",
    "y_pred_1 = svm_rbf.predict(vect.transform(X_test))\n",
    "print(\" SVM : \", y_pred_1)\n",
    "\n",
    "\n",
    "\n",
    "eval_predictions(y_train, y_pred_1)\n"
   ]
  },
  {
   "cell_type": "code",
   "execution_count": null,
   "metadata": {},
   "outputs": [],
   "source": [
    "from sklearn.model_selection import learning_curve\n",
    "from sklearn import svm\n",
    "# Create CV training and test scores for various training set sizes\n",
    "train_sizes, train_scores, test_scores = learning_curve(svm.SVC(),\n",
    "                                               vect.transform(X_test), y_train, cv=3, scoring='accuracy', n_jobs=-1,\n",
    "                                               # 50 different sizes of the training set\n",
    "                                               train_sizes=np.linspace(0.01, 1.0, 50))\n",
    "\n",
    "# Create means and standard deviations of training set scores\n",
    "train_mean = np.mean(train_scores, axis=1)\n",
    "train_std = np.std(train_scores, axis=1)"
   ]
  },
  {
   "cell_type": "code",
   "execution_count": null,
   "metadata": {},
   "outputs": [],
   "source": [
    "# Create means and standard deviations of test set scores\n",
    "test_mean = np.mean(test_scores, axis=1)\n",
    "test_std = np.std(test_scores, axis=1)\n",
    "\n",
    "    # Draw lines\n",
    "plt.subplots(1, figsize=(7,7))\n",
    "plt.grid()\n",
    "plt.plot(train_sizes, train_mean, '--', color='green',  label=\"Training score\")\n",
    "plt.plot(train_sizes, test_mean, color='red', label=\"Cross-validation score\")\n",
    "\n",
    "    # Draw bands\n",
    "#plt.fill_between(train_sizes, train_mean - train_std, train_mean + train_std, color=\"#DDDDDD\")\n",
    "#plt.fill_between(train_sizes, test_mean - test_std, test_mean + test_std, color=\"#DDDDDD\")\n",
    "\n",
    "    # Create plot\n",
    "plt.title(\"Learning Curve for SVC\")\n",
    "plt.xlabel(\"Training Set Size\"), plt.ylabel(\"Accuracy Score\"), plt.legend(loc=\"best\")\n",
    "plt.tight_layout(); plt.show()"
   ]
  },
  {
   "cell_type": "code",
   "execution_count": null,
   "metadata": {},
   "outputs": [],
   "source": [
    "from sklearn.metrics import roc_curve, roc_auc_score, auc\n",
    "# Predict the transformed test documents\n",
    "predictions = svm_rbf.predict(vect.transform(X_test))\n",
    "print('AUC: ', roc_auc_score(y_test, predictions))\n",
    "false_positive_rate, true_positive_rate, thresholds = roc_curve(y_test, predictions)\n",
    "roc_auc = auc(false_positive_rate, true_positive_rate)\n"
   ]
  },
  {
   "cell_type": "code",
   "execution_count": null,
   "metadata": {},
   "outputs": [],
   "source": [
    "from matplotlib import pyplot as plt\n",
    "plt.title('Receiver Operating Characteristic(ROC) - SVC')\n",
    "plt.grid()\n",
    "plt.plot(false_positive_rate, true_positive_rate, 'b', label='AUC = %0.3f'% roc_auc)\n",
    "plt.legend(loc='lower right')\n",
    "plt.plot([0,1],[0,1],'r--')\n",
    "plt.ylabel('True Positive Rate')\n",
    "plt.xlabel('False Positive Rate')"
   ]
  },
  {
   "cell_type": "markdown",
   "metadata": {},
   "source": [
    "# Ensemble"
   ]
  },
  {
   "cell_type": "code",
   "execution_count": null,
   "metadata": {},
   "outputs": [],
   "source": [
    "%matplotlib inline\n",
    "\n",
    "import itertools\n",
    "import numpy as np\n",
    "\n",
    "import seaborn as sns\n",
    "import matplotlib.pyplot as plt\n",
    "import matplotlib.gridspec as gridspec\n",
    "\n",
    "from sklearn import datasets\n",
    "\n",
    "from sklearn.tree import DecisionTreeClassifier\n",
    "from sklearn.neighbors import KNeighborsClassifier\n",
    "from sklearn.linear_model import LogisticRegression\n",
    "from sklearn.ensemble import RandomForestClassifier\n",
    "\n",
    "from sklearn.ensemble import BaggingClassifier\n",
    "from sklearn.model_selection import cross_val_score, train_test_split\n",
    "\n",
    "from mlxtend.plotting import plot_learning_curves\n",
    "from mlxtend.plotting import plot_decision_regions\n",
    "\n",
    "np.random.seed(0)"
   ]
  },
  {
   "cell_type": "code",
   "execution_count": null,
   "metadata": {},
   "outputs": [],
   "source": [
    "\n",
    "\n",
    "X = vect.transform(X_test)\n",
    "y = y_train\n",
    "    \n",
    "clf1 = DecisionTreeClassifier(criterion='entropy', max_depth=1)\n",
    "clf2 = KNeighborsClassifier(n_neighbors=1)    \n",
    "\n",
    "bagging1 = BaggingClassifier(base_estimator=clf1, n_estimators=10, max_samples=0.8, max_features=0.8)\n",
    "bagging2 = BaggingClassifier(base_estimator=clf2, n_estimators=10, max_samples=0.8, max_features=0.8)"
   ]
  },
  {
   "cell_type": "code",
   "execution_count": null,
   "metadata": {},
   "outputs": [],
   "source": [
    "label = ['Decision Tree', 'K-NN', 'Bagging Tree', 'Bagging K-NN']\n",
    "clf_list = [clf1, clf2, bagging1, bagging2]\n",
    "\n",
    "fig = plt.figure(figsize=(10, 8))\n",
    "gs = gridspec.GridSpec(2, 2)\n",
    "grid = itertools.product([0,1],repeat=2)\n",
    "\n",
    "for clf, label, grd in zip(clf_list, label, grid):        \n",
    "    scores = cross_val_score(clf, X, y, cv=3, scoring='accuracy')\n",
    "    print \"Accuracy: %.2f (+/- %.2f) [%s]\" %(scores.mean(), scores.std(), label)\n",
    "        \n",
    "    clf.fit(X, y)\n",
    "    ax = plt.subplot(gs[grd[0], grd[1]])\n",
    "    fig = plot_decision_regions(X=X, y=y, clf=clf, legend=2)\n",
    "    plt.title(label)\n",
    "\n",
    "plt.show()"
   ]
  },
  {
   "cell_type": "code",
   "execution_count": null,
   "metadata": {},
   "outputs": [],
   "source": [
    "#plot learning curves\n",
    "X_train, X_test, y_train, y_test = train_test_split(X, y, test_size=0.3, random_state=42)\n",
    "    \n",
    "plt.figure()\n",
    "plot_learning_curves(X_train, y_train, X_test, y_test, bagging1, print_model=False, style='ggplot')\n",
    "plt.show()"
   ]
  },
  {
   "cell_type": "code",
   "execution_count": null,
   "metadata": {},
   "outputs": [],
   "source": [
    "#Ensemble Size\n",
    "num_est = map(int, np.linspace(1,100,20))\n",
    "bg_clf_cv_mean = []\n",
    "bg_clf_cv_std = []\n",
    "for n_est in num_est:    \n",
    "    bg_clf = BaggingClassifier(base_estimator=clf1, n_estimators=n_est, max_samples=0.8, max_features=0.8)\n",
    "    scores = cross_val_score(bg_clf, X, y, cv=3, scoring='accuracy')\n",
    "    bg_clf_cv_mean.append(scores.mean())\n",
    "    bg_clf_cv_std.append(scores.std())"
   ]
  },
  {
   "cell_type": "code",
   "execution_count": null,
   "metadata": {},
   "outputs": [],
   "source": [
    "plt.figure()\n",
    "(_, caps, _) = plt.errorbar(num_est, bg_clf_cv_mean, yerr=bg_clf_cv_std, c='blue', fmt='-o', capsize=5)\n",
    "for cap in caps:\n",
    "    cap.set_markeredgewidth(1)                                                                                                                                \n",
    "plt.ylabel('Accuracy'); plt.xlabel('Ensemble Size'); plt.title('Bagging Tree Ensemble');\n",
    "plt.show()"
   ]
  },
  {
   "cell_type": "markdown",
   "metadata": {},
   "source": [
    "Boosting"
   ]
  },
  {
   "cell_type": "code",
   "execution_count": null,
   "metadata": {},
   "outputs": [],
   "source": [
    "import itertools\n",
    "import numpy as np\n",
    "\n",
    "import seaborn as sns\n",
    "import matplotlib.pyplot as plt\n",
    "import matplotlib.gridspec as gridspec\n",
    "\n",
    "from sklearn import datasets\n",
    "\n",
    "from sklearn.tree import DecisionTreeClassifier\n",
    "from sklearn.neighbors import KNeighborsClassifier\n",
    "from sklearn.linear_model import LogisticRegression\n",
    "\n",
    "from sklearn.ensemble import AdaBoostClassifier\n",
    "from sklearn.model_selection import cross_val_score, train_test_split\n",
    "\n",
    "from mlxtend.plotting import plot_learning_curves\n",
    "from mlxtend.plotting import plot_decision_regions"
   ]
  },
  {
   "cell_type": "code",
   "execution_count": null,
   "metadata": {},
   "outputs": [],
   "source": [
    "X = vect.transform(X_test)\n",
    "y = y_train\n",
    "    \n",
    "#XOR dataset\n",
    "#X = np.random.randn(200, 2)\n",
    "#y = np.array(map(int,np.logical_xor(X[:, 0] > 0, X[:, 1] > 0)))\n",
    "    \n",
    "clf = DecisionTreeClassifier(criterion='entropy', max_depth=1)\n",
    "\n",
    "num_est = [1, 2, 3, 10]\n",
    "label = ['AdaBoost (n_est=1)', 'AdaBoost (n_est=2)', 'AdaBoost (n_est=3)', 'AdaBoost (n_est=10)']"
   ]
  },
  {
   "cell_type": "code",
   "execution_count": null,
   "metadata": {},
   "outputs": [],
   "source": [
    "fig = plt.figure(figsize=(10, 8))\n",
    "gs = gridspec.GridSpec(2, 2)\n",
    "grid = itertools.product([0,1],repeat=2)\n",
    "\n",
    "for n_est, label, grd in zip(num_est, label, grid):     \n",
    "    boosting = AdaBoostClassifier(base_estimator=clf, n_estimators=n_est)   \n",
    "    boosting.fit(X, y)\n",
    "    ax = plt.subplot(gs[grd[0], grd[1]])\n",
    "    fig = plot_decision_regions(X=X, y=y, clf=boosting, legend=2)\n",
    "    plt.title(label)\n",
    "\n",
    "plt.show()"
   ]
  },
  {
   "cell_type": "code",
   "execution_count": null,
   "metadata": {},
   "outputs": [],
   "source": [
    "#plot learning curves\n",
    "X_train, X_test, y_train, y_test = train_test_split(X, y, test_size=0.3, random_state=0)\n",
    "\n",
    "boosting = AdaBoostClassifier(base_estimator=clf, n_estimators=10)\n",
    "        \n",
    "plt.figure()\n",
    "plot_learning_curves(X_train, y_train, X_test, y_test, boosting, print_model=False, style='ggplot')\n",
    "plt.show()"
   ]
  },
  {
   "cell_type": "code",
   "execution_count": null,
   "metadata": {},
   "outputs": [],
   "source": [
    "#Ensemble Size\n",
    "num_est = map(int, np.linspace(1,100,20))\n",
    "bg_clf_cv_mean = []\n",
    "bg_clf_cv_std = []\n",
    "for n_est in num_est:\n",
    "    ada_clf = AdaBoostClassifier(base_estimator=clf, n_estimators=n_est)\n",
    "    scores = cross_val_score(ada_clf, X, y, cv=3, scoring='accuracy')\n",
    "    bg_clf_cv_mean.append(scores.mean())\n",
    "    bg_clf_cv_std.append(scores.std())"
   ]
  },
  {
   "cell_type": "code",
   "execution_count": null,
   "metadata": {},
   "outputs": [],
   "source": [
    "plt.figure()\n",
    "(_, caps, _) = plt.errorbar(num_est, bg_clf_cv_mean, yerr=bg_clf_cv_std, c='blue', fmt='-o', capsize=5)\n",
    "for cap in caps:\n",
    "    cap.set_markeredgewidth(1)                                                                                                                                \n",
    "plt.ylabel('Accuracy'); plt.xlabel('Ensemble Size'); plt.title('AdaBoost Ensemble');\n",
    "plt.show()"
   ]
  },
  {
   "cell_type": "raw",
   "metadata": {},
   "source": [
    "stacking"
   ]
  },
  {
   "cell_type": "code",
   "execution_count": null,
   "metadata": {},
   "outputs": [],
   "source": [
    "import itertools\n",
    "import numpy as np\n",
    "import seaborn as sns\n",
    "import matplotlib.pyplot as plt\n",
    "import matplotlib.gridspec as gridspec\n",
    "\n",
    "from sklearn import datasets\n",
    "\n",
    "from sklearn.linear_model import LogisticRegression\n",
    "from sklearn.neighbors import KNeighborsClassifier\n",
    "from sklearn.naive_bayes import GaussianNB \n",
    "from sklearn.ensemble import RandomForestClassifier\n",
    "from mlxtend.classifier import StackingClassifier\n",
    "\n",
    "from sklearn.model_selection import cross_val_score, train_test_split\n",
    "\n",
    "from mlxtend.plotting import plot_learning_curves\n",
    "from mlxtend.plotting import plot_decision_regions"
   ]
  },
  {
   "cell_type": "code",
   "execution_count": null,
   "metadata": {},
   "outputs": [],
   "source": [
    "X = vect.transform(X_test)\n",
    "y = y_train\n",
    "\n",
    "clf1 = KNeighborsClassifier(n_neighbors=1)\n",
    "clf2 = RandomForestClassifier(random_state=1)\n",
    "clf3 = GaussianNB()\n",
    "lr = LogisticRegression()\n",
    "sclf = StackingClassifier(classifiers=[clf1, clf2, clf3], \n",
    "                          meta_classifier=lr)"
   ]
  },
  {
   "cell_type": "code",
   "execution_count": null,
   "metadata": {},
   "outputs": [],
   "source": [
    "label = ['KNN', 'Random Forest', 'Naive Bayes', 'Stacking Classifier']\n",
    "clf_list = [clf1, clf2, clf3, sclf]\n",
    "    \n",
    "fig = plt.figure(figsize=(10,8))\n",
    "gs = gridspec.GridSpec(2, 2)\n",
    "grid = itertools.product([0,1],repeat=2)\n",
    "\n",
    "clf_cv_mean = []\n",
    "clf_cv_std = []\n",
    "for clf, label, grd in zip(clf_list, label, grid):\n",
    "        \n",
    "    scores = cross_val_score(clf, X, y, cv=3, scoring='accuracy')\n",
    "    print \"Accuracy: %.2f (+/- %.2f) [%s]\" %(scores.mean(), scores.std(), label)\n",
    "    clf_cv_mean.append(scores.mean())\n",
    "    clf_cv_std.append(scores.std())\n",
    "        \n",
    "    clf.fit(X, y)\n",
    "    ax = plt.subplot(gs[grd[0], grd[1]])\n",
    "    fig = plot_decision_regions(X=X, y=y, clf=clf)\n",
    "    plt.title(label)\n",
    "\n",
    "plt.show()"
   ]
  },
  {
   "cell_type": "code",
   "execution_count": null,
   "metadata": {},
   "outputs": [],
   "source": [
    "#plot classifier accuracy    \n",
    "plt.figure()\n",
    "(_, caps, _) = plt.errorbar(range(4), clf_cv_mean, yerr=clf_cv_std, c='blue', fmt='-o', capsize=5)\n",
    "for cap in caps:\n",
    "    cap.set_markeredgewidth(1)                                                                                                                                \n",
    "plt.xticks(range(4), ['KNN', 'RF', 'NB', 'Stacking'])        \n",
    "plt.ylabel('Accuracy'); plt.xlabel('Classifier'); plt.title('Stacking Ensemble');\n",
    "plt.show()\n"
   ]
  },
  {
   "cell_type": "code",
   "execution_count": null,
   "metadata": {},
   "outputs": [],
   "source": [
    "#plot learning curves\n",
    "X_train, X_test, y_train, y_test = train_test_split(X, y, test_size=0.3, random_state=42)\n",
    "    \n",
    "plt.figure()\n",
    "plot_learning_curves(X_train, y_train, X_test, y_test, sclf, print_model=False, style='ggplot')\n",
    "plt.show()"
   ]
  },
  {
   "cell_type": "markdown",
   "metadata": {},
   "source": [
    "\n",
    "\n",
    "Wow, looks like a Pretty good Score! for initial modelling, let us try out if you can further improve your model score."
   ]
  },
  {
   "cell_type": "markdown",
   "metadata": {},
   "source": [
    "# Tf-Idf"
   ]
  },
  {
   "cell_type": "markdown",
   "metadata": {},
   "source": [
    "As already discussed earlier you will be using Tf-Idf technique, in this section you are going to create your document term matrix using TfidfVectorizer() available within sklearn.\n",
    "\n",
    "There are some parameters which needs to be defined while building vocabullary or Tf-Idf matrix such as, min_df and max_df.\n",
    "\n",
    "min_df is used for removing terms that appear too infrequently. For example:\n",
    "min_df = 0.01 means \"ignore terms that appear in less than 1% of the documents\".\n",
    "min_df = 5 means \"ignore terms that appear in less than 5 documents\".\n",
    "The default min_df is 1.0, which means \"ignore terms that appear in less than 1 document\". Thus, the default setting does not ignore any terms.\n",
    "\n",
    "max_df is used for removing terms that appear too frequently, also known as \"corpus-specific stop words\". For example:\n",
    "max_df = 0.50 means \"ignore terms that appear in more than 50% of the documents\".\n",
    "max_df = 25 means \"ignore terms that appear in more than 25 documents\".\n",
    "The default max_df is 1.0, which means \"ignore terms that appear in more than 100% of the documents\". Thus, the default setting does not ignore any terms.\n",
    "\n",
    "Setting min_df = 5 and max_df = 1.0 (default)\n",
    "Which means while building the vocabulary ignore terms that have a document frequency strictly lower than the given threshold, which means not keeping words those do not occur in atleast 5 documents or reviews (in our context), this can be considered as a hyperparmater which directly affects accuracy of your model so you need to do a trial or a grid search to find what value of min_df or max_df gives best result, again it highly depends on your data. This value is also called cut-off in the literature."
   ]
  },
  {
   "cell_type": "code",
   "execution_count": null,
   "metadata": {},
   "outputs": [],
   "source": [
    "from sklearn.feature_extraction.text import TfidfVectorizer\n",
    "# Fit the TfidfVectorizer to the training data specifiying a minimum document frequency of 5; \n",
    "# you can play with it and see how accuracy changes \n",
    "vect_tf = TfidfVectorizer(min_df=5000).fit(X_train)"
   ]
  },
  {
   "cell_type": "code",
   "execution_count": null,
   "metadata": {},
   "outputs": [],
   "source": [
    "feature_name = vect_tf.get_feature_names()\n",
    "print(\"Number of Features: {}\".format(len(feature_name)))\n"
   ]
  },
  {
   "cell_type": "code",
   "execution_count": null,
   "metadata": {},
   "outputs": [],
   "source": [
    "X_train_vectorized_tf = vect.transform(X_train)\n",
    "model = LogisticRegression()\n",
    "model.fit(X_train_vectorized_tf, y_train)\n",
    "predictions_tf = model.predict(vect.transform(X_test))\n",
    "print('AUC: ', roc_auc_score(y_test, predictions_tf))"
   ]
  },
  {
   "cell_type": "code",
   "execution_count": null,
   "metadata": {},
   "outputs": [],
   "source": [
    "false_positive_rate, true_positive_rate, thresholds = roc_curve(y_test, predictions)\n",
    "roc_auc = auc(false_positive_rate, true_positive_rate)"
   ]
  },
  {
   "cell_type": "code",
   "execution_count": null,
   "metadata": {},
   "outputs": [],
   "source": [
    "from matplotlib import pyplot as plt\n",
    "plt.title('Receiver Operating Characteristic')\n",
    "plt.grid()\n",
    "plt.plot(false_positive_rate, true_positive_rate, 'b', label='AUC = %0.3f'% roc_auc)\n",
    "plt.legend(loc='lower right')\n",
    "plt.plot([0,1],[0,1],'r--')\n",
    "plt.ylabel('True Positive Rate')\n",
    "plt.xlabel('False Positive Rate')"
   ]
  },
  {
   "cell_type": "code",
   "execution_count": null,
   "metadata": {},
   "outputs": [],
   "source": [
    "cnf_matrix = metrics.confusion_matrix(y_test, predictions_tf)\n",
    "cnf_matrix"
   ]
  },
  {
   "cell_type": "code",
   "execution_count": null,
   "metadata": {},
   "outputs": [],
   "source": [
    "class_names=[0,1]\n",
    "fig, ax = plt.subplots()\n",
    "tick_marks = np.arange(len(class_names))\n",
    "plt.xticks(tick_marks, class_names)\n",
    "plt.yticks(tick_marks, class_names)\n",
    "sns.heatmap(pd.DataFrame(cnf_matrix), annot=True, cmap=\"coolwarm\" ,fmt='g')\n",
    "ax.xaxis.set_label_position(\"top\")\n",
    "plt.tight_layout()\n",
    "plt.title('Confusion matrix', y=1.1)\n",
    "plt.ylabel('Actual label')\n",
    "plt.xlabel('Predicted label')"
   ]
  },
  {
   "cell_type": "code",
   "execution_count": null,
   "metadata": {},
   "outputs": [],
   "source": [
    "from sklearn import metrics\n",
    "def eval_predictions(y_test, y_pred):\n",
    "    print ('accuracy:', metrics.accuracy_score(y_test, y_pred))\n",
    "    print ('precision:', metrics.precision_score(y_test, y_pred, average='weighted'))\n",
    "    print ('recall:', metrics.recall_score(y_test, y_pred, average='weighted'))\n",
    "    print ('F-measure:', metrics.f1_score(y_test, y_pred, average='weighted'))\n",
    "eval_predictions(y_test, predictions_tf)"
   ]
  },
  {
   "cell_type": "code",
   "execution_count": null,
   "metadata": {},
   "outputs": [],
   "source": [
    "plt.title('Receiver Operating Characteristic')\n",
    "plt.plot(false_positive_rate, true_positive_rate, 'b', label='AUC = %0.3f'% roc_auc)\n",
    "plt.legend(loc='lower right')\n",
    "plt.plot([0,1],[0,1],'r--')\n",
    "plt.ylabel('True Positive Rate')\n",
    "plt.xlabel('False Positive Rate')"
   ]
  },
  {
   "cell_type": "code",
   "execution_count": null,
   "metadata": {},
   "outputs": [],
   "source": [
    "y_pred_proba = model.predict_proba(X_train_vectorized)[::,1]\n"
   ]
  },
  {
   "cell_type": "code",
   "execution_count": null,
   "metadata": {},
   "outputs": [],
   "source": [
    "fpr, tpr, _ = metrics.roc_curve(y_train,  y_pred_proba)"
   ]
  },
  {
   "cell_type": "code",
   "execution_count": null,
   "metadata": {},
   "outputs": [],
   "source": [
    "auc = metrics.roc_auc_score(y_train, y_pred_proba)"
   ]
  },
  {
   "cell_type": "code",
   "execution_count": null,
   "metadata": {},
   "outputs": [],
   "source": [
    "\n",
    "plt.plot(fpr,tpr,label=\"data 1, auc=\"+str(auc))\n",
    "plt.grid()\n",
    "plt.title(\"ROC\")\n",
    "plt.ylabel('True Positive Rate')\n",
    "plt.xlabel('False Positive Rate')\n",
    "plt.legend(loc=4)\n",
    "plt.show()"
   ]
  },
  {
   "cell_type": "markdown",
   "metadata": {},
   "source": [
    "# Comparison of count, TF and TF-IDF"
   ]
  },
  {
   "cell_type": "code",
   "execution_count": null,
   "metadata": {},
   "outputs": [],
   "source": [
    "import collections\n",
    "import pandas as pd\n",
    "import numpy as np\n",
    "\n",
    "from sklearn.pipeline import Pipeline\n",
    "from sklearn.feature_extraction.text import CountVectorizer, TfidfVectorizer\n",
    "from sklearn.linear_model import LogisticRegression\n",
    "from sklearn.model_selection import train_test_split, cross_val_score, KFold\n",
    "\n",
    "def build_model(mode):\n",
    "    # Intent to use default paramaters for show case\n",
    "    vect = None\n",
    "    if mode == 'count':\n",
    "        vect = CountVectorizer()\n",
    "    elif mode == 'tf':\n",
    "        vect = TfidfVectorizer(use_idf=False, norm='l2')\n",
    "    elif mode == 'tfidf':\n",
    "        vect = TfidfVectorizer()\n",
    "    else:\n",
    "        raise ValueError('Mode should be either count or tfidf')\n",
    "    \n",
    "    return Pipeline([\n",
    "        ('vect', vect),\n",
    "        ('clf' , LogisticRegression(solver='newton-cg',n_jobs=-1))\n",
    "    ])\n",
    "\n",
    "def pipeline(X, y, mode):\n",
    "    processed_x = x\n",
    "    \n",
    "    model_pipeline = build_model(mode)\n",
    "    cv = KFold(n_splits=5, shuffle=True)\n",
    "    \n",
    "    scores = cross_val_score(model_pipeline, processed_x, y, cv=cv, scoring='accuracy')\n",
    "    print(\"Accuracy: %0.4f (+/- %0.4f)\" % (scores.mean(), scores.std() * 2))\n",
    "    \n",
    "    return model_pipeline"
   ]
  },
  {
   "cell_type": "code",
   "execution_count": null,
   "metadata": {},
   "outputs": [],
   "source": [
    "x = X_train\n",
    "y = y_train\n",
    "    \n",
    "model_pipeline = build_model(mode='count')\n",
    "model_pipeline.fit(x, y)\n",
    "\n",
    "print('Number of Vocabulary: %d'% (len(model_pipeline.named_steps['vect'].get_feature_names())))"
   ]
  },
  {
   "cell_type": "code",
   "execution_count": null,
   "metadata": {},
   "outputs": [],
   "source": [
    "print('Using Count Vectorizer------')\n",
    "model_pipeline = pipeline(X_train, y_train, mode='count')\n",
    "\n",
    "print('Using TF Vectorizer------')\n",
    "model_pipeline = pipeline(X_train, y_train, mode='tf')\n",
    "\n",
    "print('Using TF-IDF Vectorizer------')\n",
    "model_pipeline = pipeline(X_train, y_train, mode='tfidf')"
   ]
  },
  {
   "cell_type": "markdown",
   "metadata": {},
   "source": [
    "# n-gram"
   ]
  },
  {
   "cell_type": "markdown",
   "metadata": {},
   "source": [
    " introduce the usage of n-grams terms in our model and see the effect."
   ]
  },
  {
   "cell_type": "code",
   "execution_count": null,
   "metadata": {},
   "outputs": [],
   "source": [
    "# Fit the CountVectorizer to the training data specifiying a minimum \n",
    "# document frequency of 5 and extracting 1-grams and 2-grams\n",
    "vect = CountVectorizer(min_df=5, ngram_range=(2,3)).fit(X_train)\n",
    "X_train_vectorized = vect.transform(X_train)"
   ]
  },
  {
   "cell_type": "code",
   "execution_count": null,
   "metadata": {},
   "outputs": [],
   "source": [
    "model = LogisticRegression()\n",
    "model.fit(X_train_vectorized, y_train)\n",
    "predictions = model.predict(vect.transform(X_test))\n",
    "false_positive_rate, true_positive_rate, thresholds = roc_curve(y_test, predictions)\n",
    "#roc_auc = auc(false_positive_rate, true_positive_rate)\n",
    "print('AUC: ', roc_auc_score(y_test, predictions))"
   ]
  },
  {
   "cell_type": "code",
   "execution_count": null,
   "metadata": {},
   "outputs": [],
   "source": [
    "cnf_matrix = metrics.confusion_matrix(y_test, predictions)\n",
    "cnf_matrix"
   ]
  },
  {
   "cell_type": "code",
   "execution_count": null,
   "metadata": {},
   "outputs": [],
   "source": [
    "class_names=[0,1]\n",
    "fig, ax = plt.subplots()\n",
    "tick_marks = np.arange(len(class_names))\n",
    "plt.xticks(tick_marks, class_names)\n",
    "plt.yticks(tick_marks, class_names)\n",
    "sns.heatmap(pd.DataFrame(cnf_matrix), annot=True, cmap=\"coolwarm\" ,fmt='g')\n",
    "ax.xaxis.set_label_position(\"top\")\n",
    "plt.tight_layout()\n",
    "plt.title('Confusion matrix', y=1.1)\n",
    "plt.ylabel('Actual label')\n",
    "plt.xlabel('Predicted label')"
   ]
  },
  {
   "cell_type": "markdown",
   "metadata": {},
   "source": [
    "Here you can usng n-grams technique which increases the accuracy of model, but why?"
   ]
  },
  {
   "cell_type": "code",
   "execution_count": null,
   "metadata": {},
   "outputs": [],
   "source": [
    "plt.title('Receiver Operating Characteristic')\n",
    "plt.plot(false_positive_rate, true_positive_rate, 'b', label='AUC = %0.3f'% roc_auc)\n",
    "plt.legend(loc='lower right')\n",
    "plt.plot([0,1],[0,1],'r--')\n",
    "plt.grid()\n",
    "plt.ylabel('True Positive Rate')\n",
    "plt.xlabel('False Positive Rate')"
   ]
  },
  {
   "cell_type": "markdown",
   "metadata": {},
   "source": [
    "# Hypertuning "
   ]
  },
  {
   "cell_type": "code",
   "execution_count": null,
   "metadata": {},
   "outputs": [],
   "source": [
    "import seaborn as sns\n",
    "import numpy as np\n",
    "import pandas as pd\n",
    "import matplotlib as mpl\n",
    "import matplotlib.pyplot as plt\n",
    "%matplotlib inline"
   ]
  },
  {
   "cell_type": "code",
   "execution_count": null,
   "metadata": {},
   "outputs": [],
   "source": [
    "from sklearn.linear_model import LogisticRegression, LogisticRegressionCV\n",
    "from sklearn.model_selection import GridSearchCV, cross_val_score, cross_val_predict\n",
    "from sklearn.metrics import accuracy_score\n",
    "\n",
    "def count_vec_ngram(params, X_train, y_train):\n",
    "    lr = LogisticRegression(random_state=1)\n",
    "    cvec_p = CountVectorizer(ngram_range=(params))\n",
    "    cvec_p.fit(X_train)\n",
    "    X_train_cvec_p = cvec_p.transform(X_train)\n",
    "    # cross val score/ predict\n",
    "    cvec_score_p = cross_val_score(lr, X_train_cvec_p, y_train, cv=3)\n",
    "    # cross validation \n",
    "    return cvec_score_p.mean()\n",
    "\n",
    "params = [(1,1), (1,2),(1,3), (1,4)] \n",
    "ngram_scores = []\n",
    "for p in params:\n",
    "    ngram_scores.append(count_vec_ngram(p, X_train, y_train))\n",
    "plt.title('Accuracy of ngram Range')\n",
    "ngrams = ['gram_1','gram_2','gram_3','gram_4']\n",
    "ngram_df = pd.DataFrame({'params':ngrams, 'scores':ngram_scores}, index=[0,1,2,3])\n",
    "# adding cvec score with default params\n",
    "ngram_df = ngram_df.append(df.iloc[:1,:])\n",
    "# plot scores on graph\n",
    "sns.pointplot(x='params', y='scores', data =ngram_df)\n",
    "plt.ylabel('Accuracy Score')\n",
    "plt.grid()\n",
    "plt.xlabel('ngrams')\n",
    "plt.xticks(rotation=40)\n",
    "plt.show()"
   ]
  },
  {
   "cell_type": "code",
   "execution_count": null,
   "metadata": {},
   "outputs": [],
   "source": [
    "from sklearn.linear_model import LogisticRegression, LogisticRegressionCV\n",
    "from sklearn.model_selection import GridSearchCV, cross_val_score, cross_val_predict\n",
    "from sklearn.metrics import accuracy_score\n",
    "\n",
    "def count_vec_ngram(params, X_train, y_train):\n",
    "    lr = LogisticRegression(random_state=1)\n",
    "    cvec_p = TfidfVectorizer(ngram_range=(params))\n",
    "    cvec_p.fit(X_train)\n",
    "    X_train_cvec_p = cvec_p.transform(X_train)\n",
    "    # cross val score/ predict\n",
    "    cvec_score_p = cross_val_score(lr, X_train_cvec_p, y_train, cv=3)\n",
    "    # cross validation \n",
    "    return cvec_score_p.mean()\n",
    "\n",
    "params = [(1,1), (1,2),(1,3), (1,4)] \n",
    "ngram_scores = []\n",
    "for p in params:\n",
    "    ngram_scores.append(count_vec_ngram(p, X_train, y_train))\n",
    "    \n",
    "ngrams = ['gram_1','gram_2','gram_3','gram_4']\n",
    "ngram_df = pd.DataFrame({'params':ngrams, 'scores':ngram_scores}, index=[0,1,2,3])\n",
    "# adding cvec score with default params\n",
    "ngram_df = ngram_df.append(df.iloc[:1,:])\n",
    "# plot scores on graph\n",
    "sns.pointplot(x='params', y='scores', data =ngram_df)\n",
    "plt.title('Accuracy of ngram Range')\n",
    "plt.grid()\n",
    "plt.ylabel('Accuracy Score')\n",
    "plt.xlabel('ngrams')\n",
    "plt.xticks(rotation=40)\n",
    "plt.show()"
   ]
  },
  {
   "cell_type": "markdown",
   "metadata": {},
   "source": [
    "# Max Features"
   ]
  },
  {
   "cell_type": "code",
   "execution_count": null,
   "metadata": {},
   "outputs": [],
   "source": [
    "lr = LogisticRegression(random_state=1)\n",
    "def count_vec_max_features(params, X_train, y_train):\n",
    "    cvec_p = CountVectorizer(max_features=params)\n",
    "    cvec_p.fit(X_train)\n",
    "    X_train_cvec_p = cvec_p.transform(X_train)\n",
    "    # cross val score/ predict\n",
    "    cvec_score_p = cross_val_score(lr, X_train_cvec_p, y_train, cv=3)\n",
    "    # cross validation \n",
    "    return cvec_score_p.mean()\n",
    "\n",
    "mf_params = [None, 500, 1000, 5000, 10000]\n",
    "max_features_scores = [count_vec_max_features(p, X_train, y_train) for p in mf_params]\n",
    "max_features = ['max_f_'+str(p) for p in mf_params]\n",
    "# dataframe for scores\n",
    "max_features_df = pd.DataFrame({'params':max_features, 'scores':max_features_scores}, index=[0,1,2,3,4])\n",
    "# adding cvec score with default params\n",
    "max_features_df = max_features_df.append(df.iloc[:1,:])\n",
    "sns.pointplot(x='params', y='scores', data =max_features_df)\n",
    "plt.ylabel('Accuracy Score')\n",
    "plt.xlabel('Max Features')\n",
    "plt.grid()\n",
    "plt.xticks(rotation=40)\n",
    "plt.title('Accuracy of Max Features')\n",
    "plt.show()"
   ]
  },
  {
   "cell_type": "code",
   "execution_count": null,
   "metadata": {},
   "outputs": [],
   "source": [
    "lr = LogisticRegression(random_state=1)\n",
    "def count_vec_max_features(params, X_train, y_train):\n",
    "    cvec_p = TfidfVectorizer(max_features=params)\n",
    "    cvec_p.fit(X_train)\n",
    "    X_train_cvec_p = cvec_p.transform(X_train)\n",
    "    # cross val score/ predict\n",
    "    cvec_score_p = cross_val_score(lr, X_train_cvec_p, y_train, cv=3)\n",
    "    # cross validation \n",
    "    return cvec_score_p.mean()\n",
    "\n",
    "mf_params = [None, 500, 1000, 5000, 10000]\n",
    "max_features_scores = [count_vec_max_features(p, X_train, y_train) for p in mf_params]\n",
    "max_features = ['max_f_'+str(p) for p in mf_params]\n",
    "# dataframe for scores\n",
    "max_features_df = pd.DataFrame({'params':max_features, 'scores':max_features_scores}, index=[0,1,2,3,4])\n",
    "# adding cvec score with default params\n",
    "max_features_df = max_features_df.append(df.iloc[:1,:])\n",
    "sns.pointplot(x='params', y='scores', data =max_features_df)\n",
    "plt.ylabel('Accuracy Score')\n",
    "plt.xlabel('Max Features')\n",
    "plt.grid()\n",
    "plt.xticks(rotation=40)\n",
    "plt.title('Accuracy of Max Features')\n",
    "plt.show()"
   ]
  },
  {
   "cell_type": "markdown",
   "metadata": {},
   "source": [
    "# MAx df"
   ]
  },
  {
   "cell_type": "code",
   "execution_count": null,
   "metadata": {},
   "outputs": [],
   "source": [
    "# ignore terms that appear in more than 50% of the documents\n",
    "max_df = 0.50\n",
    "# ignore terms that appear in more than 25 documents\n",
    "max_df = 25\n",
    "# DEFAULT\n",
    "# ignore terms that appear in more than 100% of the documents \n",
    "# doesnt ignore anything \n",
    "max_df = 1.0 "
   ]
  },
  {
   "cell_type": "code",
   "execution_count": null,
   "metadata": {},
   "outputs": [],
   "source": [
    "def count_vec_max_df(params, X_train, y_train):\n",
    "    cvec_p = CountVectorizer(max_df=params)\n",
    "    cvec_p.fit(X_train)\n",
    "    X_train_cvec_p = cvec_p.transform(X_train)\n",
    "    # cross val score/ predict\n",
    "    cvec_score_p = cross_val_score(lr, X_train_cvec_p, y_train, cv=3)\n",
    "    # cross validation \n",
    "    return cvec_score_p.mean()\n",
    "\n",
    "mdf_params = [0.25, 0.5, 0.75, 1.0]\n",
    "max_df_scores = [count_vec_max_df(p, X_train, y_train) for p in mdf_params]\n",
    "max_df = ['max_df_'+str(p) for p in mdf_params]\n",
    "# dataframe for scores\n",
    "max_df_df = pd.DataFrame({'params':max_df, 'scores':max_df_scores}, index=[0,1,2,3])\n",
    "# adding cvec score with default params\n",
    "max_df_df = max_df_df.append(df.iloc[:1,:])\n",
    "sns.pointplot(x='params', y='scores', data =max_df_df)\n",
    "plt.ylabel('Accuracy Score')\n",
    "plt.xlabel('max_df')\n",
    "plt.xticks(rotation=40)\n",
    "plt.title('Accuracy of Max df')\n",
    "plt.grid()\n",
    "plt.show()"
   ]
  },
  {
   "cell_type": "code",
   "execution_count": null,
   "metadata": {},
   "outputs": [],
   "source": [
    "def count_vec_max_df(params, X_train, y_train):\n",
    "    cvec_p = TfidfVectorizer(max_df=params)\n",
    "    cvec_p.fit(X_train)\n",
    "    X_train_cvec_p = cvec_p.transform(X_train)\n",
    "    # cross val score/ predict\n",
    "    cvec_score_p = cross_val_score(lr, X_train_cvec_p, y_train, cv=3)\n",
    "    # cross validation \n",
    "    return cvec_score_p.mean()\n",
    "\n",
    "mdf_params = [0.25, 0.5, 0.75, 1.0]\n",
    "max_df_scores = [count_vec_max_df(p, X_train, y_train) for p in mdf_params]\n",
    "max_df = ['max_df_'+str(p) for p in mdf_params]\n",
    "# dataframe for scores\n",
    "max_df_df = pd.DataFrame({'params':max_df, 'scores':max_df_scores}, index=[0,1,2,3])\n",
    "# adding cvec score with default params\n",
    "max_df_df = max_df_df.append(df.iloc[:1,:])\n",
    "sns.pointplot(x='params', y='scores', data =max_df_df)\n",
    "plt.ylabel('Accuracy Score')\n",
    "plt.xlabel('max_df')\n",
    "plt.grid()\n",
    "plt.xticks(rotation=40)\n",
    "plt.title('Accuracy of Max df')\n",
    "plt.show()"
   ]
  },
  {
   "cell_type": "code",
   "execution_count": null,
   "metadata": {},
   "outputs": [],
   "source": [
    "# update accuracy scores with highest score for 1,2 ngram\n",
    "acc_df1 = df.append(ngram_df.iloc[3,:])\n",
    "acc_df1.reset_index(inplace=True, drop=True)\n",
    "acc_df1"
   ]
  },
  {
   "cell_type": "code",
   "execution_count": null,
   "metadata": {},
   "outputs": [],
   "source": [
    "# update accuracy dataframe with 3 highest scores\n",
    "acc_df2 = acc_df1.append(max_features_df.drop(max_features_df.index[[1,2]]))\n",
    "acc_df2.reset_index(inplace=True, drop=True)\n",
    "acc_df2"
   ]
  },
  {
   "cell_type": "code",
   "execution_count": null,
   "metadata": {},
   "outputs": [],
   "source": [
    "# update accuracy dataframe\n",
    "acc_df3 = acc_df2.append(max_df_df.iloc[:2,:])\n",
    "acc_df3.reset_index(inplace=True, drop=True)\n",
    "acc_df3"
   ]
  },
  {
   "cell_type": "code",
   "execution_count": null,
   "metadata": {},
   "outputs": [],
   "source": [
    "sns.pointplot(x='params', y='scores', data =acc_df3)\n",
    "plt.ylabel('Accuracy Score')\n",
    "plt.xlabel('Parameters')\n",
    "plt.xticks(rotation=40)\n",
    "plt.title('Comparison of Highest Parameters')\n",
    "plt.show()"
   ]
  },
  {
   "cell_type": "code",
   "execution_count": null,
   "metadata": {},
   "outputs": [],
   "source": [
    "##### Count Vectorizer\n",
    "from sklearn.feature_extraction.text import CountVectorizer\n",
    "# initalise the vectoriser \n",
    "cvec_b = CountVectorizer(ngram_range=(1,4), max_df=0.25)\n",
    "# fit the training data on the model\n",
    "cvec_b.fit(X_train)\n",
    "\n",
    "#transform training data into sparse matrix\n",
    "X_train_cvec = cvec_b.transform(X_train)\n",
    "\n",
    "# cross val score/ predict\n",
    "cvec_score = cross_val_score(lr, X_train_cvec, y_train, cv=3)\n",
    "cvec_score.mean()\n",
    "\n",
    "\n",
    "acc_df3.loc[2]= ['best_params', cvec_score.mean()]\n",
    "acc_df3.sort_values('scores', ascending=False)"
   ]
  },
  {
   "cell_type": "code",
   "execution_count": null,
   "metadata": {},
   "outputs": [],
   "source": [
    "sns.pointplot(x='params', y='scores', data =acc_df3)\n",
    "plt.ylabel('Accuracy Score')\n",
    "plt.xlabel('Parameters')\n",
    "plt.xticks(rotation=40)\n",
    "plt.title('Comparison of Highest Parameters')\n",
    "plt.show()"
   ]
  },
  {
   "cell_type": "markdown",
   "metadata": {},
   "source": [
    "# Logistic regression optimisation"
   ]
  },
  {
   "cell_type": "code",
   "execution_count": null,
   "metadata": {},
   "outputs": [],
   "source": [
    "# Transform features once!\n",
    "cvec_p = CountVectorizer(ngram_range=(1,4)) \n",
    "cvec_p.fit(X_train)\n",
    "X_train_cvec_p = cvec_p.transform(X_train)\n",
    "from sklearn.linear_model import LogisticRegressionCV\n",
    "# fit with l1 \n",
    "model_l1 = LogisticRegressionCV(Cs=np.logspace(-10,10,21),penalty = 'l1',solver='liblinear',cv=3) \n",
    "model_l1.fit(X_train_cvec_p, y_train)"
   ]
  },
  {
   "cell_type": "code",
   "execution_count": null,
   "metadata": {
    "scrolled": true
   },
   "outputs": [],
   "source": [
    "# fit with l2\n",
    "model_l2 = LogisticRegressionCV(Cs=np.logspace(-10,10,21), penalty = 'l2',solver='liblinear',cv=3) \n",
    "model_l2.fit(X_train_cvec_p, y_train)"
   ]
  },
  {
   "cell_type": "code",
   "execution_count": null,
   "metadata": {},
   "outputs": [],
   "source": [
    "# Comparing the different penalties of each class\n",
    "for i, cl in enumerate(model_l1.classes_):\n",
    " plt.plot(model_l1.Cs_,model_l1.scores_.values()[i].mean(axis=0),label=’l1')\n",
    " plt.plot(model_l2.Cs_,model_l2.scores_.values()[i].mean(axis=0),alpha=0.7,label=’l2')\n",
    " plt.xscale(‘log’)\n",
    " plt.xlabel(‘C’)\n",
    " plt.ylabel(‘accuracy’)\n",
    " plt.legend(loc=’lower right’)\n",
    " plt.title(‘Class {}’.format(cl))\n",
    " plt.show()"
   ]
  },
  {
   "cell_type": "code",
   "execution_count": null,
   "metadata": {},
   "outputs": [],
   "source": [
    "scores = model.score(X_train_vectorized, y_train) # accuracy\n",
    "print(\"Logistic Regression : \" , scores)"
   ]
  },
  {
   "cell_type": "code",
   "execution_count": null,
   "metadata": {},
   "outputs": [],
   "source": [
    "# evaulate model\n",
    "y_pred_1 = model.predict(X_train_vectorized)\n",
    "print(\" LR  : \", y_pred_1)"
   ]
  },
  {
   "cell_type": "code",
   "execution_count": null,
   "metadata": {},
   "outputs": [],
   "source": [
    "from sklearn import metrics\n",
    "def eval_predictions(y_test, y_pred):\n",
    "    print ('accuracy:', metrics.accuracy_score(y_test, y_pred_1))\n",
    "    print ('precision:', metrics.precision_score(y_test, y_pred, average='weighted'))\n",
    "    print ('recall:', metrics.recall_score(y_test, y_pred, average='weighted'))\n",
    "    print ('F-measure:', metrics.f1_score(y_test, y_pred, average='weighted'))\n",
    "eval_predictions(y_train, y_pred_1)"
   ]
  },
  {
   "cell_type": "code",
   "execution_count": null,
   "metadata": {},
   "outputs": [],
   "source": [
    "%%time\n",
    "from sklearn.ensemble import RandomForestClassifier\n",
    "\n",
    "forest = RandomForestClassifier(n_estimators=2, class_weight={1:10,  0:1}, \\\n",
    "                                criterion=\"entropy\", random_state=42)\n",
    "forest.fit(X_train_vectorized, y_train)"
   ]
  },
  {
   "cell_type": "code",
   "execution_count": null,
   "metadata": {},
   "outputs": [],
   "source": [
    "y_pred = forest.predict(X_train_vectorized)\n",
    "\n",
    "accuracy = metrics.accuracy_score(y_train, y_pred)\n",
    "f1_score = metrics.f1_score(y_train, y_pred, average=\"micro\")\n",
    "\n",
    "print(f\"Random Forest Accuracy: {accuracy*100:.3f}%\")\n",
    "print(f\"Random Forest Accuracy: {f1_score*100:.3f}%\")\n",
    "\n"
   ]
  },
  {
   "cell_type": "code",
   "execution_count": null,
   "metadata": {},
   "outputs": [],
   "source": [
    "X_train_vectorized"
   ]
  },
  {
   "cell_type": "code",
   "execution_count": null,
   "metadata": {},
   "outputs": [],
   "source": [
    "# import lime\n",
    "import lime.lime_tabular\n",
    "\n",
    "explainer = lime.lime_tabular.LimeTabularExplainer(X_train_vectorized,\n",
    "                                                   mode = 'regression',\n",
    "                                                   feature_names = feature_name)"
   ]
  },
  {
   "cell_type": "code",
   "execution_count": null,
   "metadata": {},
   "outputs": [],
   "source": [
    "\n",
    "exp = explainer.explain_instance(X_train_vectorized, rf.predict, num_features=5)\n",
    "exp.show_in_notebook(show_all=False) #only the features used in the explanation are displayed\n",
    "\n",
    "\n",
    "exp = explainer.explain_instance(X_train_vectorized, rf.predict, num_features=5)\n",
    "exp.show_in_notebook(show_all=False)"
   ]
  },
  {
   "cell_type": "markdown",
   "metadata": {},
   "source": [
    "# ROC Curve"
   ]
  },
  {
   "cell_type": "code",
   "execution_count": null,
   "metadata": {},
   "outputs": [],
   "source": [
    "def plot_roc_curve(fpr, tpr):\n",
    "    plt.plot(fpr, tpr, color='orange', label='ROC')\n",
    "    plt.plot([0, 1], [0, 1], color='darkblue', linestyle='--')\n",
    "    plt.xlabel('False Positive Rate')\n",
    "    plt.ylabel('True Positive Rate')\n",
    "    plt.title('Receiver Operating Characteristic (ROC) Curve')\n",
    "    plt.legend()\n",
    "    plt.show()"
   ]
  },
  {
   "cell_type": "code",
   "execution_count": null,
   "metadata": {},
   "outputs": [],
   "source": [
    "probs = forest.predict_proba(X_train_vectorized)[::,1]\n",
    "fpr, tpr, thresholds = roc_curve(y_train, probs)"
   ]
  },
  {
   "cell_type": "code",
   "execution_count": null,
   "metadata": {},
   "outputs": [],
   "source": [
    "auc = roc_auc_score(y_train, probs)\n",
    "print('AUC: %.2f' % auc)"
   ]
  },
  {
   "cell_type": "code",
   "execution_count": null,
   "metadata": {},
   "outputs": [],
   "source": [
    "plot_roc_curve(fpr, tpr)"
   ]
  },
  {
   "cell_type": "code",
   "execution_count": null,
   "metadata": {},
   "outputs": [],
   "source": [
    "model = LogisticRegression(class_weight={1:10, 0:12}, \\\n",
    "                                random_state=42)\n",
    "#model = LogisticRegression()\n",
    "model.fit(X_train_vectorized, y_train)\n",
    "predictions = model.predict(X_train_vectorized)\n",
    "\n",
    "accuracy = metrics.accuracy_score(y_train, predictions)\n",
    "f1_score = metrics.f1_score(y_train, predictions, average=\"micro\")\n",
    "\n",
    "print(f\"Training Set Accuracy: {accuracy*100:.3f}%\")"
   ]
  },
  {
   "cell_type": "code",
   "execution_count": null,
   "metadata": {},
   "outputs": [],
   "source": [
    "accuracy = metrics.accuracy_score(y_train, predictions)\n",
    "f1_score = metrics.f1_score(y_train, predictions, average=\"micro\")\n",
    "\n",
    "print(f\"Training Set Accuracy: {accuracy*100:.3f}%\")"
   ]
  },
  {
   "cell_type": "code",
   "execution_count": null,
   "metadata": {},
   "outputs": [],
   "source": [
    "import seaborn as sns\n",
    "\n",
    "f, axes = plt.subplots(figsize=(20,7))\n",
    "ax = sns.countplot(x=df[\"Positively_Rated\"], palette=\"OrRd_r\")\n",
    "ax.set(title=\"Distribution of Product Ratings\", \\\n",
    "       xlabel=\"Positively_Rated\", ylabel=\"Number of Reviews\")\n",
    "plt.show()"
   ]
  },
  {
   "cell_type": "code",
   "execution_count": null,
   "metadata": {},
   "outputs": [],
   "source": [
    "feature_name = vect.get_feature_names()\n",
    "print(\"Number of Features: {}\".format(len(feature_name)))"
   ]
  },
  {
   "cell_type": "code",
   "execution_count": null,
   "metadata": {},
   "outputs": [],
   "source": [
    "nan_list = model_df[model_df[0].isna()].index\n",
    "nan_list = nan_list.tolist()\n",
    "\n",
    "print(nan_list[0:50])"
   ]
  },
  {
   "cell_type": "code",
   "execution_count": null,
   "metadata": {},
   "outputs": [],
   "source": [
    "print(*[tokenized[blank] for blank in nan_list[0:5]])"
   ]
  },
  {
   "cell_type": "code",
   "execution_count": null,
   "metadata": {},
   "outputs": [],
   "source": [
    "for blank in nan_list[0:5]:\n",
    "    display(df[\"reviewText\"].iloc[blank])"
   ]
  },
  {
   "cell_type": "code",
   "execution_count": null,
   "metadata": {},
   "outputs": [],
   "source": [
    "print(f\"Original 'model_df' count: {len(model_df)}\")\n",
    "print(f\"Final 'model_df' count: {len(model_df.dropna(axis=0))}\")\n",
    "\n",
    "model_df = model_df.dropna(axis=0)\n",
    "display(model_df.head())"
   ]
  },
  {
   "cell_type": "code",
   "execution_count": null,
   "metadata": {},
   "outputs": [],
   "source": [
    "majority = df[\"overall\"] ==5\n",
    "majority_ratio = len(df[majority]) / len(df)\n",
    "\n",
    "print(f\"{majority_ratio*100:.2f}%\")"
   ]
  },
  {
   "cell_type": "code",
   "execution_count": null,
   "metadata": {},
   "outputs": [],
   "source": [
    "count = len(model_df[model_df[\"label\"] == 2])\n",
    "print(f\"Size of the most underrepresented class: {count}\")"
   ]
  },
  {
   "cell_type": "code",
   "execution_count": null,
   "metadata": {},
   "outputs": [],
   "source": [
    "#trim the majority class\n",
    "count = len(model_df[model_df[\"label\"] == 2])\n",
    "condition = model_df[\"label\"] == 5\n",
    "trimmed_df = model_df[condition].sample(n=count, random_state=42, replace=True)\n"
   ]
  },
  {
   "cell_type": "code",
   "execution_count": null,
   "metadata": {},
   "outputs": [],
   "source": [
    "\n",
    "#trim other class and add on to the trimmed_df\n",
    "for rating in [1, 2, 3, 4]:\n",
    "    condition = model_df[\"label\"] == rating\n",
    "    if len(model_df[condition]) >= count:\n",
    "        add_df = model_df[condition].sample(n=count, random_state=42)\n",
    "    else:\n",
    "        add_df = model_df[condition]\n",
    "    trimmed_df = pd.concat([trimmed_df, add_df], ignore_index=False)\n",
    "\n",
    "#display new class sizes of trimmed_df\n",
    "for rating in [1, 2, 3, 4, 5]:\n",
    "    class_size = len(trimmed_df[trimmed_df[\"label\"] == rating])\n",
    "    print(f\"Size of Class {rating}: {class_size}\")"
   ]
  },
  {
   "cell_type": "code",
   "execution_count": null,
   "metadata": {},
   "outputs": [],
   "source": [
    "from sklearn.model_selection import train_test_split\n",
    "\n",
    "X = trimmed_df.iloc[:, :-1]\n",
    "y = trimmed_df.iloc[:, -1]\n",
    "\n",
    "X_train, X_test, y_train, y_test = train_test_split(X, y, stratify=y, test_size=0.5, random_state=42)"
   ]
  },
  {
   "cell_type": "code",
   "execution_count": null,
   "metadata": {},
   "outputs": [],
   "source": [
    "from sklearn import metrics\n",
    "\n",
    "label_shape = np.shape(y_test)\n",
    "y_baseline = np.full(label_shape, 5)\n",
    "\n",
    "accuracy_baseline = metrics.accuracy_score(y_test, y_baseline)\n",
    "f1_score_baseline = metrics.f1_score(y_test, y_baseline, average=\"micro\")\n",
    "\n",
    "print(f\"Baseline Accuracy: {accuracy_baseline*100:.3f}%\")\n",
    "print(f\"Baseline F1 Score: {f1_score_baseline:.3f}\")"
   ]
  },
  {
   "cell_type": "code",
   "execution_count": null,
   "metadata": {},
   "outputs": [],
   "source": [
    "import matplotlib.pyplot as plt\n",
    "\n",
    "from sklearn.decomposition import PCA\n",
    "\n",
    "#sampling the model_df population\n",
    "pca_df = model_df.reset_index()\n",
    "pca_df = model_df.dropna(axis=0).iloc[:,1:]\n",
    "pca_df = pca_df.iloc[::50]\n",
    "\n",
    "#setting up PCA\n",
    "pca = PCA(n_components=2, random_state=42)\n",
    "pca = pca.fit_transform(pca_df.iloc[:, :-1])\n",
    "labels = pca_df[\"label\"]\n",
    "\n",
    "#setting up plot components\n",
    "x_axis = pca[:,0]\n",
    "y_axis = pca[:,1]\n",
    "color_map = pca_df[\"label\"].map({1:\"blue\", \\\n",
    "                                 2:\"red\", \\\n",
    "                                 3:\"yellow\", \\\n",
    "                                 4:\"green\", \\\n",
    "                                 5:\"orange\"})\n",
    "\n",
    "#plotting PCA\n",
    "f, axes = plt.subplots(figsize=(20,10))\n",
    "plt.scatter(x_axis, y_axis, color=color_map, s=1)\n",
    "plt.show()"
   ]
  },
  {
   "cell_type": "markdown",
   "metadata": {},
   "source": [
    "# Exploratory Data Analysis #\n",
    "We'll implement several interesting Natural Language Processing techniques in order to explore our Amazon dataset.\n",
    "\n",
    "## More on Word2Vec ##\n",
    "To better appreciate the concept of word embeddings, we take five common words in our corpora and derive their five most related words using our `word_vec` model. The similarity comes from how often these tokens appear in the same window of words as their `word_bank` counterpart."
   ]
  },
  {
   "cell_type": "code",
   "execution_count": null,
   "metadata": {},
   "outputs": [],
   "source": [
    "word_bank = [\"nook\", \"phone\", \"tv\", \"good\", \"price\"]\n",
    "\n",
    "for word in word_bank[:]:\n",
    "    related_vec = word_vec.wv.most_similar(word, topn=5)\n",
    "    related_words = np.array(related_vec)[:,0]\n",
    "    word_bank.extend(related_words)\n",
    "    print(f\"{word}: {related_words}\")"
   ]
  },
  {
   "cell_type": "markdown",
   "metadata": {},
   "source": [
    "### t-SNE ###\n",
    "Like PCA, the t-Distributed Stochastic Neighbor Embedding (*t-SNE*) is another dimensionality reduction technique that assists in visualizing high-dimensional datasets. To perceive the similarity between the related words in terms of spatial distance, t-SNE provided the coordinates of each word in a 2D scatterplot plane."
   ]
  },
  {
   "cell_type": "code",
   "execution_count": null,
   "metadata": {},
   "outputs": [],
   "source": [
    "from sklearn.manifold import TSNE\n",
    "\n",
    "tsne = TSNE(n_components=2, perplexity=5, n_iter=1000, random_state=42)\n",
    "\n",
    "sample_vecs = word_vec.wv[set(word_bank)]\n",
    "sample_tsne = tsne.fit_transform(sample_vecs)\n",
    "tsne_x = sample_tsne[:, 0]\n",
    "tsne_y = sample_tsne[:, 1]\n",
    "\n",
    "f, axes = plt.subplots(figsize=(20,7))\n",
    "ax = plt.scatter(x=tsne_x, y=tsne_y)\n",
    "\n",
    "for label, x, y in zip(word_bank, tsne_x, tsne_y):\n",
    "    plt.annotate(label, xy=(x+3, y+3))\n",
    "\n",
    "plt.show()"
   ]
  },
  {
   "cell_type": "markdown",
   "metadata": {},
   "source": [
    "### Word Algebra ###\n",
    "Since *Word2Vec* characterizes words into quantified tokens, we can consequently add or subtract word vectors together. To add is to combine the meaning of the components and to subtract is to take out the context of one token from another. The following are examples of this vector algebra and their similarity scores:\n",
    "\n",
    "**Books + Touchscreen**"
   ]
  },
  {
   "cell_type": "code",
   "execution_count": null,
   "metadata": {},
   "outputs": [],
   "source": [
    "word_vec.wv.most_similar(positive=[\"books\", \"touchscreen\"], \\\n",
    "                      negative=[], topn=1)"
   ]
  },
  {
   "cell_type": "markdown",
   "metadata": {},
   "source": [
    "**Cheap – Quality**"
   ]
  },
  {
   "cell_type": "code",
   "execution_count": null,
   "metadata": {},
   "outputs": [],
   "source": [
    "word_vec.wv.most_similar(positive=[\"cheap\"], \\\n",
    "                      negative=[\"quality\"], topn=1)"
   ]
  },
  {
   "cell_type": "markdown",
   "metadata": {},
   "source": [
    "**Tablet – Phone**"
   ]
  },
  {
   "cell_type": "code",
   "execution_count": null,
   "metadata": {},
   "outputs": [],
   "source": [
    "word_vec.wv.most_similar(positive=[\"tablet\"], \\\n",
    "                      negative=[\"phone\"], topn=1)"
   ]
  },
  {
   "cell_type": "markdown",
   "metadata": {},
   "source": [
    "## Named-Entity Recognition ###\n",
    "We've seen *gensim* perform word tagging to identify part-of-speech. Now we use *spaCy* to go further and identify what nouns in the documents refer to. Some Named-Entity Recognition (*NER*) classification tags include distinguishing persons, organizations, products, places, dates, etc.\n",
    "\n",
    "In exploring *spaCy*, we'll be using the `most_helpful_text`, which is the highest-rated product review by Amazon users. The `helpful` series from the `df` dataframe is actually a list with its first element storing the number of *helpful* votes a review received, and the second element containing the total number of *helpful* and *not helpful* review votes."
   ]
  },
  {
   "cell_type": "code",
   "execution_count": null,
   "metadata": {
    "scrolled": true
   },
   "outputs": [],
   "source": [
    "helpful = df[\"helpful\"].tolist()\n",
    "most_helpful = max(helpful, key=lambda x: x[0])\n",
    "\n",
    "most_helpful_idx = df[\"helpful\"].astype(str) == str(most_helpful)\n",
    "most_helpful_idx = df[most_helpful_idx].index\n",
    "\n",
    "most_helpful_text = df[\"reviewText\"].iloc[most_helpful_idx].values[0]\n",
    "\n",
    "print(most_helpful_text)"
   ]
  },
  {
   "cell_type": "markdown",
   "metadata": {},
   "source": [
    "We use `ner_dict`, a dictionary initialized as a list, to segregate the nouns in the `most_helpful_text` into the NER tags."
   ]
  },
  {
   "cell_type": "code",
   "execution_count": null,
   "metadata": {
    "scrolled": true
   },
   "outputs": [],
   "source": [
    "%%time\n",
    "import spacy\n",
    "\n",
    "from collections import defaultdict\n",
    "\n",
    "ner = spacy.load(\"en\")\n",
    "\n",
    "ner_helpful = ner(most_helpful_text)\n",
    "\n",
    "ner_dict = defaultdict(list)\n",
    "for entity in ner_helpful.ents:\n",
    "    ner_dict[entity.label_].append(entity)\n",
    "\n",
    "for NER, name in ner_dict.items():\n",
    "    print(f\"{NER}:\\n{name}\\n\")"
   ]
  },
  {
   "cell_type": "markdown",
   "metadata": {},
   "source": [
    "We use `displaCy` to visualize the tags in the review."
   ]
  },
  {
   "cell_type": "code",
   "execution_count": null,
   "metadata": {},
   "outputs": [],
   "source": [
    "from spacy import displacy\n",
    "\n",
    "displacy.render(ner_helpful, style=\"ent\", jupyter=True)"
   ]
  },
  {
   "cell_type": "markdown",
   "metadata": {},
   "source": [
    "## Dependency Tree ##\n",
    "The capability of *spaCy'*s NER is based on deciphering the structure of the sentence by breaking down how tokens interact with and influence each other. Below is the dependency trees of the first three sentences of the `most_helpful_text`."
   ]
  },
  {
   "cell_type": "code",
   "execution_count": null,
   "metadata": {},
   "outputs": [],
   "source": [
    "def ner_displacy(sentence):\n",
    "    ner_sentence = ner(sentence)\n",
    "    displacy.render(ner_sentence, jupyter=True, \\\n",
    "                    options={\"compact\": False, \\\n",
    "                             \"distance\": 90, \\\n",
    "                             \"word_spacing\":20, \\\n",
    "                             \"arrow_spacing\":10, \\\n",
    "                             \"arrow_stroke\": 2, \\\n",
    "                             \"arrow_width\": 5})\n",
    "\n",
    "for sentence in most_helpful_text.split(\".\")[0:3]:\n",
    "    ner_displacy(sentence)"
   ]
  },
  {
   "cell_type": "markdown",
   "metadata": {},
   "source": [
    "## Topic Modeling ##\n"
   ]
  },
  {
   "cell_type": "markdown",
   "metadata": {},
   "source": [
    "Because Latent Dirichlet Allocation (*LDA*) can cluster documents together according to topic, the reviews can be classified and grouped according to the type of electronics product they correspond to. The product reviews will have weights assigned to each of the topic and the topics themselves will have weights on every token. As it is a clustering-based model, LDA is unsupervised and only the `num_topics` is configurable.\n",
    "\n",
    "The following are the top five words that are salient to the first group of product reviews."
   ]
  },
  {
   "cell_type": "code",
   "execution_count": null,
   "metadata": {},
   "outputs": [],
   "source": [
    "%%time\n",
    "import multiprocessing\n",
    "\n",
    "from gensim.models.ldamulticore import LdaMulticore\n",
    "\n",
    "cores = multiprocessing.cpu_count()\n",
    "\n",
    "num_topics = 10\n",
    "bow_lda = LdaMulticore(bow, num_topics=num_topics, id2word=vocabulary, \\\n",
    "                       passes=5, workers=cores, random_state=42)\n",
    "\n",
    "for token, frequency in bow_lda.show_topic(0, topn=5):\n",
    "    print(token, frequency)"
   ]
  },
  {
   "cell_type": "markdown",
   "metadata": {},
   "source": [
    "The words that are the most characteristic of the topics are indeed thematic. And each word group do conjure a distinct topic."
   ]
  },
  {
   "cell_type": "code",
   "execution_count": null,
   "metadata": {},
   "outputs": [],
   "source": [
    "for topic in range(0, num_topics):\n",
    "    print(f\"\\nTopic {topic+1}:\")\n",
    "    for token, frequency in bow_lda.show_topic(topic, topn=5):\n",
    "        print(f\" {token}, {frequency}\")"
   ]
  },
  {
   "cell_type": "markdown",
   "metadata": {},
   "source": [
    "Using *pyLDAvis*, we can interactively explore the words associated with the topics derived by LDA. The Intertopic Distance Map shows how some product reviews in one topic converge with others due to similarity. If needed, we can adjust the `num_topics` accordingly to cluster together topic intersections so a more evident decision boundary between classes can be established."
   ]
  },
  {
   "cell_type": "code",
   "execution_count": null,
   "metadata": {},
   "outputs": [],
   "source": [
    "import pyLDAvis.gensim\n",
    "\n",
    "lda_idm = pyLDAvis.gensim.prepare(bow_lda, bow, vocabulary)\n",
    "\n",
    "pyLDAvis.display(lda_idm)"
   ]
  },
  {
   "cell_type": "markdown",
   "metadata": {},
   "source": [
    "# Machine Learning #\n",
    "We'll further process our finalized dataframe in order to make it compatible and easy to pipe into our Machine Learning model."
   ]
  },
  {
   "cell_type": "markdown",
   "metadata": {},
   "source": [
    "## Dealing with NaNs ##\n",
    "It is important that we impute NaN values before we feed them into a model because machine learning algorithms can only work with *real* numbers. Our dataframe was derived from employing a *Word2Vec* model and so the only way we could have invalid entries that would become NaN values is when we have empty documents.\n",
    "\n",
    "If a review contains no tokens then every dimension would become NaN. And so to find out the indices of NaN documents, we just have to filter reviews that have a NaN on the first dimension (or any dimension at all)."
   ]
  },
  {
   "cell_type": "code",
   "execution_count": null,
   "metadata": {},
   "outputs": [],
   "source": [
    "nan_list = model_df[model_df[0].isna()].index\n",
    "nan_list = nan_list.tolist()\n",
    "\n",
    "print(nan_list[0:50])"
   ]
  },
  {
   "cell_type": "markdown",
   "metadata": {},
   "source": [
    "Indeed, inspecting these documents brings us empty lists which tell us that there are no tokens in the review."
   ]
  },
  {
   "cell_type": "code",
   "execution_count": null,
   "metadata": {},
   "outputs": [],
   "source": [
    "print(*[tokenized[blank] for blank in nan_list[0:5]])"
   ]
  },
  {
   "cell_type": "markdown",
   "metadata": {},
   "source": [
    "Imposing these indices to our `df`, we can extract what these reviews originally looked like before tokenization and before all the pre-processing steps were performed. We see that, other than blanks, reviews that would become NaNs contain only minimal characters. The fourth entry is invalidated because in our steps, we have dropped all characters that are not alphanumeric leaving us with just the letter *A*. We have also chosen in our pre-processing that single-characters would not be tokenized. The fourth review would therefore end up as an empty list after our NLP steps."
   ]
  },
  {
   "cell_type": "code",
   "execution_count": null,
   "metadata": {},
   "outputs": [],
   "source": [
    "for blank in nan_list[0:5]:\n",
    "    display(df[\"reviewText\"].iloc[blank])"
   ]
  },
  {
   "cell_type": "markdown",
   "metadata": {},
   "source": [
    "The `model_df` is updated by dropping the NaN documents."
   ]
  },
  {
   "cell_type": "code",
   "execution_count": null,
   "metadata": {
    "scrolled": true
   },
   "outputs": [],
   "source": [
    "print(f\"Original 'model_df' count: {len(model_df)}\")\n",
    "print(f\"Final 'model_df' count: {len(model_df.dropna(axis=0))}\")\n",
    "\n",
    "model_df = model_df.dropna(axis=0)\n",
    "display(model_df.head())"
   ]
  },
  {
   "cell_type": "markdown",
   "metadata": {},
   "source": [
    "## Dealing with Unbalanced Data ##\n",
    "The distribution of ratings shows that, in general, users highly approve of products bought on Amazon. This however gives us a highly imbalanced dataset."
   ]
  },
  {
   "cell_type": "code",
   "execution_count": null,
   "metadata": {},
   "outputs": [],
   "source": [
    "import seaborn as sns\n",
    "\n",
    "f, axes = plt.subplots(figsize=(20,7))\n",
    "ax = sns.countplot(x=df[\"overall\"], palette=\"OrRd_r\")\n",
    "ax.set(title=\"Distribution of Product Ratings\", \\\n",
    "       xlabel=\"Rating\", ylabel=\"Number of Reviews\")\n",
    "plt.show()"
   ]
  },
  {
   "cell_type": "markdown",
   "metadata": {},
   "source": [
    "If the model simply classified every review as `5`, then an accuracy of around 60% can be achieved given this exact dataset. Since this would outperform predictions made by chance, we should therefore ensure that we stratify the testing set where we base the final score of the model.\n",
    "\n",
    "To deal with this we will have to take into account underrepresenting the majority and/or overrepresenting the minority."
   ]
  },
  {
   "cell_type": "code",
   "execution_count": null,
   "metadata": {
    "scrolled": true
   },
   "outputs": [],
   "source": [
    "majority = df[\"overall\"] == 5\n",
    "majority_ratio = len(df[majority]) / len(df)\n",
    "\n",
    "print(f\"{majority_ratio*100:.2f}%\")"
   ]
  },
  {
   "cell_type": "markdown",
   "metadata": {},
   "source": [
    "## Underrepresentation vs. Overrepresentation ##\n",
    "\n",
    "Performing over-representation is possible by bootstrapping the minority classes to match the size of the majority classes. This can be done using K-Nearest Neighbors (*KNN*) or via Support Vector Machine (*SVM*) by clustering a given class first before generating random samples within the decision boundaries of the class. A popular module called `SMOTE`, or *Synthetic Minority Over-sampling Technique*, does exactly this. However, since the imbalance in our classes is massive, and because we have 100 dimensions for each one of our almost 1.7 million observations, this approach is extremely computationally expensive.\n",
    "\n",
    "Because our dataset is huge, we can afford to perform sampling in every class and still have a significant amount of data for the model. This way, we can then opt to *underrepresent* the majority class according to our most minority class."
   ]
  },
  {
   "cell_type": "code",
   "execution_count": null,
   "metadata": {},
   "outputs": [],
   "source": [
    "count = len(model_df[model_df[\"label\"] == 2])\n",
    "print(f\"Size of the most underrepresented class: {count}\")"
   ]
  },
  {
   "cell_type": "markdown",
   "metadata": {},
   "source": [
    "In choosing this route to deal with imbalance, we create a trimmed version of our dataframe, `trimmed_df`. Each class is trimmed to have the same number of entries as the smallest class which is *Class 2*."
   ]
  },
  {
   "cell_type": "code",
   "execution_count": null,
   "metadata": {},
   "outputs": [],
   "source": [
    "#trim the majority class\n",
    "condition = model_df[\"label\"] == 5\n",
    "trimmed_df = model_df[condition].sample(n=count, random_state=42)\n",
    "\n",
    "#trim other class and add on to the trimmed_df\n",
    "for rating in [1, 2, 3, 4]:\n",
    "    condition = model_df[\"label\"] == rating\n",
    "    if len(model_df[condition]) >= count:\n",
    "        add_df = model_df[condition].sample(n=count, random_state=42)\n",
    "    else:\n",
    "        add_df = model_df[condition]\n",
    "    trimmed_df = pd.concat([trimmed_df, add_df], ignore_index=False)\n",
    "\n",
    "#display new class sizes of trimmed_df\n",
    "for rating in [1, 2, 3, 4, 5]:\n",
    "    class_size = len(trimmed_df[trimmed_df[\"label\"] == rating])\n",
    "    print(f\"Size of Class {rating}: {class_size}\")"
   ]
  },
  {
   "cell_type": "markdown",
   "metadata": {},
   "source": [
    "The `trimmed_df` is arranged by class from 1 to 5."
   ]
  },
  {
   "cell_type": "code",
   "execution_count": null,
   "metadata": {
    "scrolled": false
   },
   "outputs": [],
   "source": [
    "trimmed_df = trimmed_df.sort_values(by=\"label\")\n",
    "display(trimmed_df.head())"
   ]
  },
  {
   "cell_type": "markdown",
   "metadata": {},
   "source": [
    "We see that we now have a perfectly balanced dataset after we performed underrepresentation."
   ]
  },
  {
   "cell_type": "code",
   "execution_count": null,
   "metadata": {
    "scrolled": false
   },
   "outputs": [],
   "source": [
    "f, axes = plt.subplots(figsize=(20,7))\n",
    "ax = sns.countplot(x=trimmed_df[\"label\"], palette=\"OrRd_r\")\n",
    "ax.set(title=\"Distribution of Product Ratings after Underrepresentation\", \\\n",
    "       xlabel=\"Rating\", ylabel=\"Number of Reviews\")\n",
    "plt.show()"
   ]
  },
  {
   "cell_type": "markdown",
   "metadata": {},
   "source": [
    "## Train-Test Split ##\n",
    "The `y` is our target variable or the labels for the data. The `X` constitutes the features and are the predictor variables.\n",
    "\n",
    "We evenly split the training and testing sets and *stratify* to ensure the ratio of classes in both sets are identical."
   ]
  },
  {
   "cell_type": "code",
   "execution_count": null,
   "metadata": {},
   "outputs": [],
   "source": [
    "from sklearn.model_selection import train_test_split\n",
    "\n",
    "X = trimmed_df.iloc[:, :-1]\n",
    "y = trimmed_df.iloc[:, -1]\n",
    "\n",
    "X_train, X_test, y_train, y_test = train_test_split(X, y, stratify=y, test_size=0.5, random_state=42)"
   ]
  },
  {
   "cell_type": "markdown",
   "metadata": {},
   "source": [
    "## Scoring and Baseline ##\n",
    "In our study, we will make use of two metrics to measure the model performance:\n",
    "* Accuracy\n",
    "* F1 Score\n",
    "\n",
    "Accuracy will identify how many reviews are correctly labeled by the model. There are five ratings and thus five classes. No review can have two or more ratings and so the probability that a correct prediction is made from pure guesswork is `20%`.\n",
    "\n",
    "The F1 score is taking *precision* and *recall* into consideration. Taking into account false positives and false negatives for each class is especially important in inherently imbalanced datasets.\n",
    "\n",
    "The baseline scores below are for when a model only randomly guesses the output labels – in this case, when every prediction is the same class. The scores are also based on an evenly distributed dataset."
   ]
  },
  {
   "cell_type": "code",
   "execution_count": null,
   "metadata": {},
   "outputs": [],
   "source": [
    "from sklearn import metrics\n",
    "\n",
    "label_shape = np.shape(y_test)\n",
    "y_baseline = np.full(label_shape, 5)\n",
    "\n",
    "accuracy_baseline = metrics.accuracy_score(y_test, y_baseline)\n",
    "f1_score_baseline = metrics.f1_score(y_test, y_baseline, average=\"micro\")\n",
    "\n",
    "print(f\"Baseline Accuracy: {accuracy_baseline*100:.3f}%\")\n",
    "print(f\"Baseline F1 Score: {f1_score_baseline:.3f}\")"
   ]
  },
  {
   "cell_type": "markdown",
   "metadata": {},
   "source": [
    "## Random Forest ##\n",
    "Random Forest actually has a native way of supporting datasets that have class imbalance. We will therefore be able to use the original `model_df` instead of the sample `trimmed_df`:"
   ]
  },
  {
   "cell_type": "code",
   "execution_count": null,
   "metadata": {},
   "outputs": [],
   "source": [
    "from sklearn.model_selection import train_test_split\n",
    "\n",
    "X = model_df.iloc[:, :-1]\n",
    "y = model_df.iloc[:, -1]\n",
    "\n",
    "X_train, X_test, y_train, y_test = train_test_split(X, y, stratify=y, test_size=0.5, random_state=42)"
   ]
  },
  {
   "cell_type": "markdown",
   "metadata": {},
   "source": [
    "The `class_weight` attribute is provided with a dictionary that represents the associated weight of each class – the majority class is given a *1* and the rest are given the multiplying factor at which they would level with the largest class.\n",
    "\n",
    "The criteria chosen is `entropy` which is similar to `gini` but instead of splitting nodes until there are pure classes, the nodes are split until the classes within have equal probability."
   ]
  },
  {
   "cell_type": "code",
   "execution_count": null,
   "metadata": {},
   "outputs": [],
   "source": [
    "%%time\n",
    "from sklearn.ensemble import RandomForestClassifier\n",
    "\n",
    "forest = RandomForestClassifier(n_estimators=25, class_weight={1:10, 2:12, 3:7, 4:9, 5:1}, \\\n",
    "                                criterion=\"entropy\", random_state=42)\n",
    "forest.fit(X_train, y_train)"
   ]
  },
  {
   "cell_type": "markdown",
   "metadata": {},
   "source": [
    "Our tuned Random Forest model got a very high score on the training data. The confusion matrix plotted below highlighted how the model almost perfectly classified each Amazon review accordingly.\n",
    "\n",
    "However, these scores may be misleading since they are based on the data that the model were trained on. This is highly likely a result of *overfitting*. It is then important to rate our model more effectively without digging into our reserved test set. "
   ]
  },
  {
   "cell_type": "code",
   "execution_count": null,
   "metadata": {},
   "outputs": [],
   "source": [
    "y_pred = forest.predict(X_train)\n",
    "\n",
    "accuracy = metrics.accuracy_score(y_train, y_pred)\n",
    "f1_score = metrics.f1_score(y_train, y_pred, average=\"micro\")\n",
    "\n",
    "print(f\"Training Set Accuracy: {accuracy*100:.3f}%\")\n",
    "print(f\"Training Set F1 Score: {f1_score:.3f}\")"
   ]
  },
  {
   "cell_type": "code",
   "execution_count": null,
   "metadata": {},
   "outputs": [],
   "source": [
    "from sklearn.metrics import confusion_matrix\n",
    "\n",
    "#create the confusion matrix of the training set\n",
    "confusion_train = confusion_matrix(y_train, y_pred)\n",
    "confusion_train = confusion_train.astype(\"float\") / \\\n",
    "                   confusion_train.sum(axis=1)[:, np.newaxis]\n",
    "confusion_train = np.around(confusion_train, decimals=3)*100\n",
    "\n",
    "#create confusion matrix heat map\n",
    "f, axes = plt.subplots(figsize=(20,10))\n",
    "im = axes.imshow(confusion_train, interpolation=\"nearest\", cmap=plt.cm.Reds)\n",
    "\n",
    "axes.figure.colorbar(im, ax=axes)\n",
    "axes.set(title=\"Confusion Matrix for Training Set\", \\\n",
    "         xticks=np.arange(confusion_train.shape[1]), \\\n",
    "         yticks=np.arange(confusion_train.shape[0]), \\\n",
    "         xticklabels=range(1, 6), yticklabels=range(1, 6), \\\n",
    "         xlabel=\"Predicted\", ylabel=\"Truth\")\n",
    "\n",
    "#add clear annotations to the confusion matrix\n",
    "threshold = confusion_train.max()/1.5\n",
    "for i in range(confusion_train.shape[0]):\n",
    "    for j in range(confusion_train.shape[1]):\n",
    "        axes.text(j, i, f\"{confusion_train[i, j]:.3f}%\",\n",
    "                ha=\"center\", va=\"center\",\n",
    "                color=\"white\" if confusion_train[i, j] > threshold else \"black\")\n",
    "f.tight_layout()\n",
    "plt.show()"
   ]
  },
  {
   "cell_type": "markdown",
   "metadata": {},
   "source": [
    "## Cross-Validation ##\n",
    "Cross-validation makes the most of the training data by splitting the training set into *folds* and further subjecting each fold to train-test splits. Cross-validation can thus test against overfitting and the resulting scores can better reflect how the model performs on data it has not seen before."
   ]
  },
  {
   "cell_type": "code",
   "execution_count": null,
   "metadata": {},
   "outputs": [],
   "source": [
    "from sklearn.model_selection import cross_val_score\n",
    "\n",
    "cross_val_accuracy = cross_val_score(forest, X_train, y_train, \\\n",
    "                               cv=3, scoring=\"accuracy\")\n",
    "cross_val_f1 = cross_val_score(forest, X_train, y_train, \\\n",
    "                               cv=3, scoring=\"f1_micro\")\n",
    "\n",
    "cross_val_accuracy = np.mean(cross_val_accuracy)\n",
    "cross_val_f1 = np.mean(cross_val_f1)\n",
    "\n",
    "print(f\"Training Set Accuracy: {cross_val_accuracy*100:.3f}%\")\n",
    "print(f\"Training Set F1 Score: {cross_val_f1:.3f}\")"
   ]
  },
  {
   "cell_type": "markdown",
   "metadata": {},
   "source": [
    "## XGBoost ##"
   ]
  },
  {
   "cell_type": "markdown",
   "metadata": {},
   "source": [
    "Let's now try to create a model based on a popular boosting technique and see how it compares with our Random Forest model (which is a tree-based bagging approach). XGBoost has become a staple in Kaggle competitions because of its high rate of success and its ease-of-use.\n",
    "\n",
    "The class notation for our *XGBoost* object `boost` begins from 0, and so we perform an element-wise shift of our labels *from 1 to 0*, *from 2 to 1*, *from 3 to 2*, etc. We tune our model using the maximum number of depths, the learning rate (*eta*), the number of classes, etc. We expect our outputs to be multi-class and so we select `softprob` as our *objective*."
   ]
  },
  {
   "cell_type": "code",
   "execution_count": null,
   "metadata": {},
   "outputs": [],
   "source": [
    "%%time\n",
    "import xgboost as xgb\n",
    "\n",
    "y_train_shifted = y_train-1\n",
    "y_test_shifted = y_test-1\n",
    "\n",
    "train_set = xgb.DMatrix(X_train, label=y_train_shifted)\n",
    "test_set = xgb.DMatrix(X_test, label=y_test_shifted)\n",
    "\n",
    "parameters = {\"max_depth\": 10, \"eta\": 0.2, \"silent\": 1, \\\n",
    "              \"objective\": \"multi:softprob\", \"num_class\": 5}\n",
    "\n",
    "boost = xgb.train(parameters, train_set, 100)"
   ]
  },
  {
   "cell_type": "markdown",
   "metadata": {},
   "source": [
    "The array of predicted labels `y_pred` contains lists of probabilities for each class per product review. The class that is deemed most likely is chosen by the *argmax* and the labels are shifted back to their original state.\n",
    "\n",
    "The `micro` approach in averaging the F1 score means that the false positives, true positives, and false negatives are taken into account across all classes. This is in contrast with the `macro` approach that instead averages the F1 scores of each class independently."
   ]
  },
  {
   "cell_type": "code",
   "execution_count": null,
   "metadata": {},
   "outputs": [],
   "source": [
    "y_pred = boost.predict(train_set)\n",
    "y_pred = y_pred.argmax(axis=1)\n",
    "y_pred = y_pred+1\n",
    "\n",
    "accuracy = metrics.accuracy_score(y_train, y_pred)\n",
    "f1_score = metrics.f1_score(y_train, y_pred, average=\"micro\")\n",
    "\n",
    "print(f\"Training Set Accuracy: {accuracy*100:.3f}%\")\n",
    "print(f\"Training Set F1 Score: {f1_score:.3f}\")"
   ]
  },
  {
   "cell_type": "code",
   "execution_count": null,
   "metadata": {},
   "outputs": [],
   "source": [
    "#create the confusion matrix of the training set\n",
    "confusion_train = confusion_matrix(y_train, y_pred)\n",
    "confusion_train = confusion_train.astype(\"float\") / \\\n",
    "                   confusion_train.sum(axis=1)[:, np.newaxis]\n",
    "confusion_train = np.around(confusion_train, decimals=3)*100\n",
    "\n",
    "#create confusion matrix heat map\n",
    "f, axes = plt.subplots(figsize=(20,10))\n",
    "im = axes.imshow(confusion_train, interpolation=\"nearest\", cmap=plt.cm.Reds)\n",
    "\n",
    "axes.figure.colorbar(im, ax=axes)\n",
    "axes.set(title=\"Confusion Matrix for Training Set\", \\\n",
    "         xticks=np.arange(confusion_train.shape[1]), \\\n",
    "         yticks=np.arange(confusion_train.shape[0]), \\\n",
    "         xticklabels=range(1, 6), yticklabels=range(1, 6), \\\n",
    "         xlabel=\"Predicted\", ylabel=\"Truth\")\n",
    "\n",
    "#add clear annotations to the confusion matrix\n",
    "threshold = confusion_train.max()/1.5\n",
    "for i in range(confusion_train.shape[0]):\n",
    "    for j in range(confusion_train.shape[1]):\n",
    "        axes.text(j, i, f\"{confusion_train[i, j]:.3f}%\",\n",
    "                ha=\"center\", va=\"center\",\n",
    "                color=\"white\" if confusion_train[i, j] > threshold else \"black\")\n",
    "f.tight_layout()\n",
    "plt.show()"
   ]
  },
  {
   "cell_type": "markdown",
   "metadata": {},
   "source": [
    "To fairly compare our boosting results with our Random Forest outcome, we perform cross-validation on three folds of the training data set as well.\n",
    "\n",
    "However, since the XGBoost implementation we used is not supported by *scikit-learn*'s `.fit` method, the cross-validation must be done using `xgboost`'s own API. The output `boost_cv` is actually a *pandas* dataframe that tabulates the results of the cross-validation."
   ]
  },
  {
   "cell_type": "code",
   "execution_count": null,
   "metadata": {},
   "outputs": [],
   "source": [
    "%%time\n",
    "boost_cv = xgb.cv(dtrain=train_set, params=parameters, nfold=3, \\\n",
    "                  num_boost_round=50, early_stopping_rounds=10, \\\n",
    "                  metrics=\"merror\", as_pandas=True, seed=42)\n",
    "\n",
    "display(boost_cv.head())"
   ]
  },
  {
   "cell_type": "markdown",
   "metadata": {},
   "source": [
    "We get the training set cross-validation score by getting the *merror* mean on the 50th `num_boost_round`, which is the final boosting phase. The *merror* is an accuracy error rate metric meant for multi-class labels.\n",
    "\n",
    "We can get a sense of how accurate the model is by subtracting the *merror* value from a perfect score of 100%."
   ]
  },
  {
   "cell_type": "code",
   "execution_count": null,
   "metadata": {},
   "outputs": [],
   "source": [
    "cross_val_accuracy = boost_cv.iloc[-1,2]\n",
    "cross_val_accuracy = 1-cross_val_accuracy\n",
    "\n",
    "print(f\"Training Set Accuracy: {cross_val_accuracy*100:.3f}%\")"
   ]
  },
  {
   "cell_type": "markdown",
   "metadata": {},
   "source": [
    "## Final Scores ##\n",
    "Seeing that the boosting model outperformed the Random Forest approach in the three-fold cross validation, we can now apply our model on the testing set that we have put aside early on."
   ]
  },
  {
   "cell_type": "code",
   "execution_count": null,
   "metadata": {},
   "outputs": [],
   "source": [
    "y_pred = boost.predict(test_set)\n",
    "y_pred = y_pred.argmax(axis=1)\n",
    "y_pred = y_pred+1\n",
    "\n",
    "accuracy = metrics.accuracy_score(y_test, y_pred)\n",
    "f1_score = metrics.f1_score(y_test, y_pred, average=\"micro\")\n",
    "\n",
    "print(f\"Test Set Accuracy: {accuracy*100:.3f}%\")\n",
    "print(f\"Test Set F1 Score: {f1_score:.3f}\")"
   ]
  },
  {
   "cell_type": "code",
   "execution_count": null,
   "metadata": {},
   "outputs": [],
   "source": [
    "#create the confusion matrix of the test set\n",
    "confusion_train = confusion_matrix(y_test, y_pred)\n",
    "confusion_train = confusion_train.astype(\"float\") / \\\n",
    "                   confusion_train.sum(axis=1)[:, np.newaxis]\n",
    "confusion_train = np.around(confusion_train, decimals=3)*100\n",
    "\n",
    "#create confusion matrix heat map\n",
    "f, axes = plt.subplots(figsize=(20,10))\n",
    "im = axes.imshow(confusion_train, interpolation=\"nearest\", cmap=plt.cm.Reds)\n",
    "\n",
    "axes.figure.colorbar(im, ax=axes)\n",
    "axes.set(title=\"Confusion Matrix for Test Set\", \\\n",
    "         xticks=np.arange(confusion_train.shape[1]), \\\n",
    "         yticks=np.arange(confusion_train.shape[0]), \\\n",
    "         xticklabels=range(1, 6), yticklabels=range(1, 6), \\\n",
    "         xlabel=\"Predicted\", ylabel=\"Truth\")\n",
    "\n",
    "#add clear annotations to the confusion matrix\n",
    "threshold = confusion_train.max()/1.5\n",
    "for i in range(confusion_train.shape[0]):\n",
    "    for j in range(confusion_train.shape[1]):\n",
    "        axes.text(j, i, f\"{confusion_train[i, j]:.3f}%\",\n",
    "                ha=\"center\", va=\"center\",\n",
    "                color=\"white\" if confusion_train[i, j] > threshold else \"black\")\n",
    "f.tight_layout()\n",
    "plt.show()"
   ]
  },
  {
   "cell_type": "markdown",
   "metadata": {},
   "source": [
    "Our results above were actually based on the original `model_df` dataset that had the massive class imbalance. Let's now reassign our `X` and `y` variables to the balanced `trimmed_df` sample dataset we've created."
   ]
  },
  {
   "cell_type": "code",
   "execution_count": null,
   "metadata": {},
   "outputs": [],
   "source": [
    "X = trimmed_df.iloc[:, :-1]\n",
    "y = trimmed_df.iloc[:, -1]\n",
    "\n",
    "X_train, X_test, y_train, y_test = train_test_split(X, y, stratify=y, test_size=0.5, random_state=42)"
   ]
  },
  {
   "cell_type": "code",
   "execution_count": null,
   "metadata": {},
   "outputs": [],
   "source": [
    "y_train_shifted = y_train-1\n",
    "y_test_shifted = y_test-1\n",
    "\n",
    "train_set = xgb.DMatrix(X_train, label=y_train_shifted)\n",
    "test_set = xgb.DMatrix(X_test, label=y_test_shifted)\n",
    "\n",
    "y_pred = boost.predict(test_set)\n",
    "y_pred = y_pred.argmax(axis=1)\n",
    "y_pred = y_pred+1\n",
    "\n",
    "accuracy = metrics.accuracy_score(y_test, y_pred)\n",
    "f1_score = metrics.f1_score(y_test, y_pred, average=\"micro\")\n",
    "\n",
    "print(f\"Balanced Test Set Accuracy: {accuracy*100:.3f}%\")\n",
    "print(f\"Balanced Test Set F1 Score: {f1_score:.3f}\")"
   ]
  },
  {
   "cell_type": "code",
   "execution_count": null,
   "metadata": {},
   "outputs": [],
   "source": [
    "#create the confusion matrix of the balanced test set\n",
    "confusion_train = confusion_matrix(y_test, y_pred)\n",
    "confusion_train = confusion_train.astype(\"float\") / \\\n",
    "                   confusion_train.sum(axis=1)[:, np.newaxis]\n",
    "confusion_train = np.around(confusion_train, decimals=3)*100\n",
    "\n",
    "#create confusion matrix heat map\n",
    "f, axes = plt.subplots(figsize=(20,10))\n",
    "im = axes.imshow(confusion_train, interpolation=\"nearest\", cmap=plt.cm.Reds)\n",
    "\n",
    "axes.figure.colorbar(im, ax=axes)\n",
    "axes.set(title=\"Confusion Matrix for Balanced Test Set\", \\\n",
    "         xticks=np.arange(confusion_train.shape[1]), \\\n",
    "         yticks=np.arange(confusion_train.shape[0]), \\\n",
    "         xticklabels=range(1, 6), yticklabels=range(1, 6), \\\n",
    "         xlabel=\"Predicted\", ylabel=\"Truth\")\n",
    "\n",
    "#add clear annotations to the confusion matrix\n",
    "threshold = confusion_train.max()/1.5\n",
    "for i in range(confusion_train.shape[0]):\n",
    "    for j in range(confusion_train.shape[1]):\n",
    "        axes.text(j, i, f\"{confusion_train[i, j]:.3f}%\",\n",
    "                ha=\"center\", va=\"center\",\n",
    "                color=\"white\" if confusion_train[i, j] > threshold else \"black\")\n",
    "f.tight_layout()\n",
    "plt.show()"
   ]
  },
  {
   "cell_type": "markdown",
   "metadata": {},
   "source": [
    "At 53.3% on a perfectly balanced training data set, we have achieved a better result compared to the 20% accuracy of our baseline.\n",
    "\n",
    "## Word Cloud ##\n",
    "Using the true labels of the reviews, we can take the fifty most salient words in every rating and produce a word cloud. The same `stop_words` we derived from the NLTK library are excluded.\n",
    "\n",
    "We see that some of the words are quite descriptive of the rating, with \"problem\" and \"issue\" frequently appearing in one-star reviews, and \"quality\" and \"highly recommend\" in top reviews."
   ]
  },
  {
   "cell_type": "code",
   "execution_count": null,
   "metadata": {
    "scrolled": true
   },
   "outputs": [],
   "source": [
    "from wordcloud import WordCloud\n",
    "\n",
    "wordcloud = WordCloud(stopwords = set(stop_words), min_font_size=10, \\\n",
    "                      max_font_size=50, max_words=50, \\\n",
    "                      background_color=\"white\", colormap = \"Oranges\")\n",
    "\n",
    "one_star_text = \" \".join(df[df[\"Positively_Rated\"]==0][\"reviewText\"].values).lower()\n",
    "two_star_text = \" \".join(df[df[\"Positively_Rated\"]==1][\"reviewText\"].values).lower()\n",
    "#three_star_text = \" \".join(df[df[\"overall\"]==3][\"reviewText\"].values).lower()\n",
    "#four_star_text = \" \".join(df[df[\"overall\"]==4][\"reviewText\"].values).lower()\n",
    "#five_star_text = \" \".join(df[df[\"overall\"]==5][\"reviewText\"].values).lower()\n",
    "\n",
    "text_list = [one_star_text, two_star_text]\n",
    "\n",
    "for index, text in enumerate(text_list):\n",
    "    f, axes = plt.subplots(figsize=(10,7))\n",
    "    wordcloud.generate(text)\n",
    "    plt.imshow(wordcloud, interpolation=\"bilinear\")\n",
    "    plt.title(f\"Word Cloud for {index+1}-Star Ratings\")\n",
    "    plt.axis(\"off\")\n",
    "    plt.show()"
   ]
  },
  {
   "cell_type": "markdown",
   "metadata": {},
   "source": [
    "# Conclusion #\n",
    "A lot of Natural Language Processing techniques were covered in the study. Just some of the concepts explored include topic modeling – where similar texts were clustered together according to topic, named entity recognition (NER) – where nouns were given identifying labels like *place* or *time*, and dependency trees – where parts-of-speech tags and sentence structure were discerned. Though the *Word2Vec* phase was central to our final model, the pre-processing steps were perhaps just as crucial. Prior to tokenization, each document had to be decoded from UTF and encoded to ASCII, and converted to lowercase. The texts were stripped of accents, stop words and punctuation, and multiple whitespaces were dropped. Words were simplified to their root words in order to compact the vocabulary as much as possible. Tokens that were often used together were also singularized through phrase modeling.\n",
    "\n",
    "Beyond word use and word frequency, our model actually extracts and quantifies *context*. Every token in all the reviews are understood by their neighboring words and embedded in a given number of dimensions. All the interactions of a word with all the other words it has been associated with are expressed in vectors. And all the words in a given review are averaged according to each of the dimensions to create its 100 features. So the essence of a review by its words make up the final dataframe.\n",
    "\n",
    "What we have is a multi-class model where each of the five classes correspond to a review’s star rating. This is then a discrete approach where each class is independent of each other. In a situation where a 5-star rating is misinterpreted by the model as a 1-star review, then the model has simply misclassified – it is agnostic to how far off `1` and `5` are. This is in contrast with a *continuous* approach whereas a misclassification of a 5-star review as a 1-star review would be more penalizing. Our model then is reliant on the distinction of each kind of review. It is more concerned in asking \"*What makes a 5-star review different from a 4-star review?*\" than asking \"*Is this review more approving than criticizing?*\"\n",
    "\n",
    "## Limitations and Recommendations ##\n",
    "Though we have observed satisfactory results in our model compared to the baseline, there are several limitations in the way the model handles data. These could serve as areas of improvement. First, despite a rich vocabulary, the model will not be able to handle words that it has not encountered during training. In fact, if an unknown word appears in a review, the word is dropped from the dimension-averaging step since has not  been referenced in our `word_vec_df`.\n",
    "\n",
    "Because each word is simplified by lemmatization during pre-processing, then alternate forms of a token shouldn’t necessarily be a concern. However, the model cannot identify if a word is misspelled and will identify one simply as a new word. Incorporating a spellchecker would add to the computational cost and will certainly add to the model’s complexity.\n",
    "\n",
    "Finally, as is usually the case in NLP, sarcasm or text that is intended to be ironic is interpreted by what is literally in the text and not by its underlying context. Because sarcasm is usually detected by readers through the mood and sentiment of the document, it takes adding another layer of NLP just to approximate whether the review is sarcastic or not in order to properly work with such text. This supplement layer will not only utilize tagged sarcastic text as supervised labels, but must also consider the review’s given product rating in its judgment to detect sarcasm."
   ]
  }
 ],
 "metadata": {
  "hide_input": false,
  "kernelspec": {
   "display_name": "Python 3",
   "language": "python",
   "name": "python3"
  },
  "language_info": {
   "codemirror_mode": {
    "name": "ipython",
    "version": 3
   },
   "file_extension": ".py",
   "mimetype": "text/x-python",
   "name": "python",
   "nbconvert_exporter": "python",
   "pygments_lexer": "ipython3",
   "version": "3.7.6"
  }
 },
 "nbformat": 4,
 "nbformat_minor": 2
}
